{
 "cells": [
  {
   "cell_type": "markdown",
   "metadata": {},
   "source": [
    "# Fase 2: Limpieza de Datos"
   ]
  },
  {
   "cell_type": "code",
   "execution_count": 723,
   "metadata": {},
   "outputs": [],
   "source": [
    "import pandas as pd\n",
    "import numpy as np\n",
    "import json\n",
    "\n",
    "import sys\n",
    "import os\n",
    "\n",
    "# Agregar el directorio 'src' al path\n",
    "sys.path.append(os.path.abspath('../src'))\n",
    "\n",
    "# Importar la función suma del módulo auxiliares\n",
    "import soporte_limpieza as sl"
   ]
  },
  {
   "cell_type": "code",
   "execution_count": 724,
   "metadata": {},
   "outputs": [
    {
     "data": {
      "text/html": [
       "<div>\n",
       "<style scoped>\n",
       "    .dataframe tbody tr th:only-of-type {\n",
       "        vertical-align: middle;\n",
       "    }\n",
       "\n",
       "    .dataframe tbody tr th {\n",
       "        vertical-align: top;\n",
       "    }\n",
       "\n",
       "    .dataframe thead th {\n",
       "        text-align: right;\n",
       "    }\n",
       "</style>\n",
       "<table border=\"1\" class=\"dataframe\">\n",
       "  <thead>\n",
       "    <tr style=\"text-align: right;\">\n",
       "      <th></th>\n",
       "      <th>Unnamed: 0</th>\n",
       "      <th>id organizacion superior</th>\n",
       "      <th>organizacion superior</th>\n",
       "      <th>id organizacion</th>\n",
       "      <th>organizacion</th>\n",
       "      <th>id unidad gestora</th>\n",
       "      <th>unidad gestora</th>\n",
       "      <th>categoria economica</th>\n",
       "      <th>origen ingreso</th>\n",
       "      <th>tipo ingreso</th>\n",
       "      <th>valor previsto</th>\n",
       "      <th>valor registrado</th>\n",
       "      <th>valor recaudado</th>\n",
       "      <th>porcentaje recaudado</th>\n",
       "      <th>fecha recaudacion</th>\n",
       "      <th>anio recaudacion</th>\n",
       "    </tr>\n",
       "  </thead>\n",
       "  <tbody>\n",
       "    <tr>\n",
       "      <th>0</th>\n",
       "      <td>0</td>\n",
       "      <td>63000.0</td>\n",
       "      <td>NaN</td>\n",
       "      <td>63000.0</td>\n",
       "      <td>Advocacia-Geral da União - Unidades com víncul...</td>\n",
       "      <td>110060.0</td>\n",
       "      <td>COORD. GERAL DE ORC. FIN. E ANAL. CONT. - AGU</td>\n",
       "      <td>Receitas Correntes</td>\n",
       "      <td>Outras Receitas Correntes</td>\n",
       "      <td>Bens, Direitos e Valores Incorporados ao Patr</td>\n",
       "      <td>0.0</td>\n",
       "      <td>0.0</td>\n",
       "      <td>1297.13</td>\n",
       "      <td>0.0</td>\n",
       "      <td>2013-12-31</td>\n",
       "      <td>2013.0</td>\n",
       "    </tr>\n",
       "    <tr>\n",
       "      <th>1</th>\n",
       "      <td>1</td>\n",
       "      <td>63000.0</td>\n",
       "      <td>Advocacia-Geral da União</td>\n",
       "      <td>63000.0</td>\n",
       "      <td>Advocacia-Geral da União - Unidades com víncul...</td>\n",
       "      <td>110060.0</td>\n",
       "      <td>COORD. GERAL DE ORC. FIN. E ANAL. CONT. - AGU</td>\n",
       "      <td>Receitas Correntes</td>\n",
       "      <td>Outras Receitas Correntes</td>\n",
       "      <td>Indenizações, restituições e ressarcimentos</td>\n",
       "      <td>0.0</td>\n",
       "      <td>0.0</td>\n",
       "      <td>26666621.42</td>\n",
       "      <td>0.0</td>\n",
       "      <td>2013-12-31</td>\n",
       "      <td>2013.0</td>\n",
       "    </tr>\n",
       "  </tbody>\n",
       "</table>\n",
       "</div>"
      ],
      "text/plain": [
       "   Unnamed: 0  id organizacion superior     organizacion superior  \\\n",
       "0           0                   63000.0                       NaN   \n",
       "1           1                   63000.0  Advocacia-Geral da União   \n",
       "\n",
       "   id organizacion                                       organizacion  \\\n",
       "0          63000.0  Advocacia-Geral da União - Unidades com víncul...   \n",
       "1          63000.0  Advocacia-Geral da União - Unidades com víncul...   \n",
       "\n",
       "   id unidad gestora                                 unidad gestora  \\\n",
       "0           110060.0  COORD. GERAL DE ORC. FIN. E ANAL. CONT. - AGU   \n",
       "1           110060.0  COORD. GERAL DE ORC. FIN. E ANAL. CONT. - AGU   \n",
       "\n",
       "  categoria economica             origen ingreso  \\\n",
       "0  Receitas Correntes  Outras Receitas Correntes   \n",
       "1  Receitas Correntes  Outras Receitas Correntes   \n",
       "\n",
       "                                    tipo ingreso  valor previsto  \\\n",
       "0  Bens, Direitos e Valores Incorporados ao Patr             0.0   \n",
       "1    Indenizações, restituições e ressarcimentos             0.0   \n",
       "\n",
       "   valor registrado  valor recaudado  porcentaje recaudado fecha recaudacion  \\\n",
       "0               0.0          1297.13                   0.0        2013-12-31   \n",
       "1               0.0      26666621.42                   0.0        2013-12-31   \n",
       "\n",
       "   anio recaudacion  \n",
       "0            2013.0  \n",
       "1            2013.0  "
      ]
     },
     "execution_count": 724,
     "metadata": {},
     "output_type": "execute_result"
    }
   ],
   "source": [
    "df = pd.read_csv(\"../datos/tablas_concatenadas.csv\", parse_dates=[\"fecha recaudacion\"])\n",
    "df.head(2)"
   ]
  },
  {
   "cell_type": "code",
   "execution_count": 725,
   "metadata": {},
   "outputs": [
    {
     "data": {
      "text/plain": [
       "Unnamed: 0                       0\n",
       "id organizacion superior     30359\n",
       "organizacion superior       359187\n",
       "id organizacion              25117\n",
       "organizacion                 34886\n",
       "id unidad gestora            33581\n",
       "unidad gestora               19481\n",
       "categoria economica          18978\n",
       "origen ingreso               38417\n",
       "tipo ingreso                 31927\n",
       "valor previsto               51315\n",
       "valor registrado             26419\n",
       "valor recaudado              39442\n",
       "porcentaje recaudado         24134\n",
       "fecha recaudacion            23747\n",
       "anio recaudacion                 0\n",
       "dtype: int64"
      ]
     },
     "execution_count": 725,
     "metadata": {},
     "output_type": "execute_result"
    }
   ],
   "source": [
    "df.isnull().sum()"
   ]
  },
  {
   "cell_type": "markdown",
   "metadata": {},
   "source": [
    "### 1- Gestión de los nulos de id organizacion superior y organizacion superior."
   ]
  },
  {
   "cell_type": "markdown",
   "metadata": {},
   "source": [
    "Vamos a ver si podemos crear un diccionario para los id y los nombres de la organización superior."
   ]
  },
  {
   "cell_type": "code",
   "execution_count": 726,
   "metadata": {},
   "outputs": [
    {
     "data": {
      "text/plain": [
       "26"
      ]
     },
     "execution_count": 726,
     "metadata": {},
     "output_type": "execute_result"
    }
   ],
   "source": [
    "len(df[\"id organizacion superior\"].unique())"
   ]
  },
  {
   "cell_type": "code",
   "execution_count": 727,
   "metadata": {},
   "outputs": [
    {
     "data": {
      "text/plain": [
       "26"
      ]
     },
     "execution_count": 727,
     "metadata": {},
     "output_type": "execute_result"
    }
   ],
   "source": [
    "len(df[\"organizacion superior\"].unique())"
   ]
  },
  {
   "cell_type": "markdown",
   "metadata": {},
   "source": [
    "A priori parece que hay el mismo numero de ids que de nombres, buena señal."
   ]
  },
  {
   "cell_type": "code",
   "execution_count": 728,
   "metadata": {},
   "outputs": [
    {
     "data": {
      "text/plain": [
       "[np.float64(63000.0),\n",
       " np.float64(37000.0),\n",
       " np.float64(nan),\n",
       " np.float64(22000.0),\n",
       " np.float64(55000.0),\n",
       " np.float64(24000.0),\n",
       " np.float64(52000.0),\n",
       " np.float64(25000.0),\n",
       " np.float64(26000.0),\n",
       " np.float64(39000.0),\n",
       " np.float64(30000.0),\n",
       " np.float64(81000.0),\n",
       " np.float64(58000.0),\n",
       " np.float64(33000.0),\n",
       " np.float64(36000.0),\n",
       " np.float64(41000.0),\n",
       " np.float64(57000.0),\n",
       " np.float64(35000.0),\n",
       " np.float64(32000.0),\n",
       " np.float64(49000.0),\n",
       " np.float64(53000.0),\n",
       " np.float64(51000.0),\n",
       " np.float64(44000.0),\n",
       " np.float64(38000.0),\n",
       " np.float64(54000.0),\n",
       " np.float64(20000.0)]"
      ]
     },
     "execution_count": 728,
     "metadata": {},
     "output_type": "execute_result"
    }
   ],
   "source": [
    "lista_id_os = list(df[\"id organizacion superior\"].unique())\n",
    "lista_id_os"
   ]
  },
  {
   "cell_type": "code",
   "execution_count": 729,
   "metadata": {},
   "outputs": [
    {
     "name": "stdout",
     "output_type": "stream",
     "text": [
      "\n",
      "63000.0\n",
      "1\n",
      "\n",
      "37000.0\n",
      "1\n",
      "\n",
      "nan\n",
      "0\n",
      "\n",
      "22000.0\n",
      "1\n",
      "\n",
      "55000.0\n",
      "1\n",
      "\n",
      "24000.0\n",
      "1\n",
      "\n",
      "52000.0\n",
      "1\n",
      "\n",
      "25000.0\n",
      "1\n",
      "\n",
      "26000.0\n",
      "1\n",
      "\n",
      "39000.0\n",
      "1\n",
      "\n",
      "30000.0\n",
      "1\n",
      "\n",
      "81000.0\n",
      "1\n",
      "\n",
      "58000.0\n",
      "1\n",
      "\n",
      "33000.0\n",
      "1\n",
      "\n",
      "36000.0\n",
      "1\n",
      "\n",
      "41000.0\n",
      "1\n",
      "\n",
      "57000.0\n",
      "1\n",
      "\n",
      "35000.0\n",
      "1\n",
      "\n",
      "32000.0\n",
      "1\n",
      "\n",
      "49000.0\n",
      "1\n",
      "\n",
      "53000.0\n",
      "1\n",
      "\n",
      "51000.0\n",
      "1\n",
      "\n",
      "44000.0\n",
      "1\n",
      "\n",
      "38000.0\n",
      "1\n",
      "\n",
      "54000.0\n",
      "1\n",
      "\n",
      "20000.0\n",
      "1\n"
     ]
    }
   ],
   "source": [
    "for id in lista_id_os:\n",
    "    print(f\"\\n{id}\")\n",
    "    filtro1 = df[\"id organizacion superior\"] == float(id)\n",
    "    filtro2 = df[\"organizacion superior\"].notnull()\n",
    "    print(len(df[filtro1 & filtro2][\"organizacion superior\"].unique()))"
   ]
  },
  {
   "cell_type": "markdown",
   "metadata": {},
   "source": [
    "Como vemos que para cada id hay un unico valor creamos un diccionario:"
   ]
  },
  {
   "cell_type": "code",
   "execution_count": 730,
   "metadata": {},
   "outputs": [],
   "source": [
    "dic_id_os = {}\n",
    "for id in lista_id_os:\n",
    "    try:\n",
    "        filtro1 = df[\"id organizacion superior\"] == float(id)\n",
    "        filtro2 = df[\"organizacion superior\"].notnull()\n",
    "        dic_id_os[float(id)]=df[filtro1 & filtro2][\"organizacion superior\"].unique()[0]\n",
    "    except:\n",
    "        pass"
   ]
  },
  {
   "cell_type": "code",
   "execution_count": 731,
   "metadata": {},
   "outputs": [
    {
     "data": {
      "text/plain": [
       "{63000.0: 'Advocacia-Geral da União',\n",
       " 37000.0: 'Controladoria-Geral da União',\n",
       " 22000.0: 'Ministério da Agricultura, Pecuária e Abastec',\n",
       " 55000.0: 'Ministério da Cidadania',\n",
       " 24000.0: 'Ministério da Ciência, Tecnologia, Inovações ',\n",
       " 52000.0: 'Ministério da Defesa',\n",
       " 25000.0: 'Ministério da Economia',\n",
       " 26000.0: 'Ministério da Educação',\n",
       " 39000.0: 'Ministério da Infraestrutura',\n",
       " 30000.0: 'Ministério da Justiça e Segurança Pública',\n",
       " 81000.0: 'Ministério da Mulher, Família e Direitos Huma',\n",
       " 58000.0: 'Ministério da Pesca e Aquicultura',\n",
       " 33000.0: 'Ministério da Previdência Social',\n",
       " 36000.0: 'Ministério da Saúde',\n",
       " 41000.0: 'Ministério das Comunicações',\n",
       " 57000.0: 'Ministério das Mulheres, Igualdade Racial, da',\n",
       " 35000.0: 'Ministério das Relações Exteriores',\n",
       " 32000.0: 'Ministério de Minas e Energia',\n",
       " 49000.0: 'Ministério do Desenvolvimento Agrário',\n",
       " 53000.0: 'Ministério do Desenvolvimento Regional',\n",
       " 51000.0: 'Ministério do Esporte',\n",
       " 44000.0: 'Ministério do Meio Ambiente',\n",
       " 38000.0: 'Ministério do Trabalho e Emprego',\n",
       " 54000.0: 'Ministério do Turismo',\n",
       " 20000.0: 'Presidência da República'}"
      ]
     },
     "execution_count": 731,
     "metadata": {},
     "output_type": "execute_result"
    }
   ],
   "source": [
    "dic_id_os"
   ]
  },
  {
   "cell_type": "markdown",
   "metadata": {},
   "source": [
    "Ya con nuestro diccionario vamos a rellenar los nombres e id de las organizaciones superiores."
   ]
  },
  {
   "cell_type": "markdown",
   "metadata": {},
   "source": [
    "Hemos comprobado que todos los campos de organización superior concuerdan con su id a excepción de cuando son NaN, corregimos los NaN. además quedarán sin corregir aquellas filas donde id y organización superioir son ambos NaN."
   ]
  },
  {
   "cell_type": "code",
   "execution_count": 732,
   "metadata": {},
   "outputs": [
    {
     "data": {
      "text/plain": [
       "(10545, 16)"
      ]
     },
     "execution_count": 732,
     "metadata": {},
     "output_type": "execute_result"
    }
   ],
   "source": [
    "# filas que van a quedar sin corregir.\n",
    "filtro1 = df[\"id organizacion superior\"].isnull()\n",
    "filtro2 = df[\"organizacion superior\"].isnull()\n",
    "df[filtro1 & filtro2].shape"
   ]
  },
  {
   "cell_type": "code",
   "execution_count": 733,
   "metadata": {},
   "outputs": [
    {
     "name": "stderr",
     "output_type": "stream",
     "text": [
      "C:\\Users\\Elena\\AppData\\Local\\Temp\\ipykernel_13844\\3684483159.py:1: FutureWarning: A value is trying to be set on a copy of a DataFrame or Series through chained assignment using an inplace method.\n",
      "The behavior will change in pandas 3.0. This inplace method will never work because the intermediate object on which we are setting values always behaves as a copy.\n",
      "\n",
      "For example, when doing 'df[col].method(value, inplace=True)', try using 'df.method({col: value}, inplace=True)' or df[col] = df[col].method(value) instead, to perform the operation inplace on the original object.\n",
      "\n",
      "\n",
      "  df[\"organizacion superior\"].fillna(df[\"id organizacion superior\"].map(dic_id_os), inplace=True)\n"
     ]
    }
   ],
   "source": [
    "df[\"organizacion superior\"].fillna(df[\"id organizacion superior\"].map(dic_id_os), inplace=True)"
   ]
  },
  {
   "cell_type": "code",
   "execution_count": 734,
   "metadata": {},
   "outputs": [
    {
     "name": "stdout",
     "output_type": "stream",
     "text": [
      "Han quedado a null 10545, es decir, un 1.03% del total de las organizaciones superiores.\n"
     ]
    }
   ],
   "source": [
    "os_null = df[df[\"organizacion superior\"].isnull()].shape[0]\n",
    "os_sin_corregir = os_null/df.shape[0]*100\n",
    "print(f\"Han quedado a null {os_null}, es decir, un {np.round(os_sin_corregir,2)}% del total de las organizaciones superiores.\")"
   ]
  },
  {
   "cell_type": "code",
   "execution_count": 735,
   "metadata": {},
   "outputs": [
    {
     "data": {
      "text/plain": [
       "30359"
      ]
     },
     "execution_count": 735,
     "metadata": {},
     "output_type": "execute_result"
    }
   ],
   "source": [
    "df[df[\"id organizacion superior\"].isnull()].shape[0]"
   ]
  },
  {
   "cell_type": "markdown",
   "metadata": {},
   "source": [
    "Como podemos ver ids hay 30359 a null los cuales podemos corregir al rededor de unos 20000 a partir del nombre de la organizacion superior."
   ]
  },
  {
   "cell_type": "code",
   "execution_count": 736,
   "metadata": {},
   "outputs": [
    {
     "data": {
      "text/plain": [
       "{'Advocacia-Geral da União': 63000.0,\n",
       " 'Controladoria-Geral da União': 37000.0,\n",
       " 'Ministério da Agricultura, Pecuária e Abastec': 22000.0,\n",
       " 'Ministério da Cidadania': 55000.0,\n",
       " 'Ministério da Ciência, Tecnologia, Inovações ': 24000.0,\n",
       " 'Ministério da Defesa': 52000.0,\n",
       " 'Ministério da Economia': 25000.0,\n",
       " 'Ministério da Educação': 26000.0,\n",
       " 'Ministério da Infraestrutura': 39000.0,\n",
       " 'Ministério da Justiça e Segurança Pública': 30000.0,\n",
       " 'Ministério da Mulher, Família e Direitos Huma': 81000.0,\n",
       " 'Ministério da Pesca e Aquicultura': 58000.0,\n",
       " 'Ministério da Previdência Social': 33000.0,\n",
       " 'Ministério da Saúde': 36000.0,\n",
       " 'Ministério das Comunicações': 41000.0,\n",
       " 'Ministério das Mulheres, Igualdade Racial, da': 57000.0,\n",
       " 'Ministério das Relações Exteriores': 35000.0,\n",
       " 'Ministério de Minas e Energia': 32000.0,\n",
       " 'Ministério do Desenvolvimento Agrário': 49000.0,\n",
       " 'Ministério do Desenvolvimento Regional': 53000.0,\n",
       " 'Ministério do Esporte': 51000.0,\n",
       " 'Ministério do Meio Ambiente': 44000.0,\n",
       " 'Ministério do Trabalho e Emprego': 38000.0,\n",
       " 'Ministério do Turismo': 54000.0,\n",
       " 'Presidência da República': 20000.0}"
      ]
     },
     "execution_count": 736,
     "metadata": {},
     "output_type": "execute_result"
    }
   ],
   "source": [
    "#Invertimos el diccionario\n",
    "dic_organizaciones_id = {valor: clave for clave, valor in dic_id_os.items()}\n",
    "dic_organizaciones_id\n"
   ]
  },
  {
   "cell_type": "code",
   "execution_count": 737,
   "metadata": {},
   "outputs": [
    {
     "name": "stderr",
     "output_type": "stream",
     "text": [
      "C:\\Users\\Elena\\AppData\\Local\\Temp\\ipykernel_13844\\1809695679.py:1: FutureWarning: A value is trying to be set on a copy of a DataFrame or Series through chained assignment using an inplace method.\n",
      "The behavior will change in pandas 3.0. This inplace method will never work because the intermediate object on which we are setting values always behaves as a copy.\n",
      "\n",
      "For example, when doing 'df[col].method(value, inplace=True)', try using 'df.method({col: value}, inplace=True)' or df[col] = df[col].method(value) instead, to perform the operation inplace on the original object.\n",
      "\n",
      "\n",
      "  df[\"id organizacion superior\"].fillna(df[\"organizacion superior\"].map(dic_organizaciones_id), inplace=True)\n"
     ]
    }
   ],
   "source": [
    "df[\"id organizacion superior\"].fillna(df[\"organizacion superior\"].map(dic_organizaciones_id), inplace=True)"
   ]
  },
  {
   "cell_type": "code",
   "execution_count": 738,
   "metadata": {},
   "outputs": [
    {
     "data": {
      "text/plain": [
       "10545"
      ]
     },
     "execution_count": 738,
     "metadata": {},
     "output_type": "execute_result"
    }
   ],
   "source": [
    "df[df[\"id organizacion superior\"].isnull()].shape[0]"
   ]
  },
  {
   "cell_type": "markdown",
   "metadata": {},
   "source": [
    "Comprobamos cuantos null hay ahora y efectivamente se han reducido hasta 10545, los mismo que para los nombres de las organizaciones superiores ya que son todas las filas que tienen ambos campos a null. Aunque al representar un 1% y al no haber forma de arreglarlo puede ser despreciable."
   ]
  },
  {
   "cell_type": "code",
   "execution_count": 739,
   "metadata": {},
   "outputs": [
    {
     "data": {
      "text/plain": [
       "Unnamed: 0                      0\n",
       "id organizacion superior    10545\n",
       "organizacion superior       10545\n",
       "id organizacion             25117\n",
       "organizacion                34886\n",
       "id unidad gestora           33581\n",
       "unidad gestora              19481\n",
       "categoria economica         18978\n",
       "origen ingreso              38417\n",
       "tipo ingreso                31927\n",
       "valor previsto              51315\n",
       "valor registrado            26419\n",
       "valor recaudado             39442\n",
       "porcentaje recaudado        24134\n",
       "fecha recaudacion           23747\n",
       "anio recaudacion                0\n",
       "dtype: int64"
      ]
     },
     "execution_count": 739,
     "metadata": {},
     "output_type": "execute_result"
    }
   ],
   "source": [
    "df.isnull().sum()"
   ]
  },
  {
   "cell_type": "markdown",
   "metadata": {},
   "source": [
    "___"
   ]
  },
  {
   "cell_type": "code",
   "execution_count": 740,
   "metadata": {},
   "outputs": [
    {
     "data": {
      "text/html": [
       "<div>\n",
       "<style scoped>\n",
       "    .dataframe tbody tr th:only-of-type {\n",
       "        vertical-align: middle;\n",
       "    }\n",
       "\n",
       "    .dataframe tbody tr th {\n",
       "        vertical-align: top;\n",
       "    }\n",
       "\n",
       "    .dataframe thead th {\n",
       "        text-align: right;\n",
       "    }\n",
       "</style>\n",
       "<table border=\"1\" class=\"dataframe\">\n",
       "  <thead>\n",
       "    <tr style=\"text-align: right;\">\n",
       "      <th></th>\n",
       "      <th>id organizacion</th>\n",
       "      <th>id organizacion superior</th>\n",
       "    </tr>\n",
       "  </thead>\n",
       "  <tbody>\n",
       "  </tbody>\n",
       "</table>\n",
       "</div>"
      ],
      "text/plain": [
       "Empty DataFrame\n",
       "Columns: [id organizacion, id organizacion superior]\n",
       "Index: []"
      ]
     },
     "execution_count": 740,
     "metadata": {},
     "output_type": "execute_result"
    }
   ],
   "source": [
    "# pd.set_option(\"display.max_rows\", None)\n",
    "resultado = df.groupby(['id organizacion'])['id organizacion superior'].nunique().reset_index()\n",
    "resultado[resultado[\"id organizacion superior\"]!=1]"
   ]
  },
  {
   "cell_type": "markdown",
   "metadata": {},
   "source": [
    "Por lo tanto para cada par de id orgnización solo va a estar asociado a un único id organizacion superior. Creamos un diccionario con clave el id de organización y como valor tuplas de los valores de id organizacion superior y organizacion superior."
   ]
  },
  {
   "cell_type": "code",
   "execution_count": 741,
   "metadata": {},
   "outputs": [
    {
     "data": {
      "text/plain": [
       "291"
      ]
     },
     "execution_count": 741,
     "metadata": {},
     "output_type": "execute_result"
    }
   ],
   "source": [
    "# Eliminamos aquellas filas donde haya nulos\n",
    "df_validos = df.dropna(subset=['id organizacion superior', 'organizacion superior', 'id organizacion'])\n",
    "\n",
    "diccionario_orga_a_sup = {}\n",
    "for index, row in df_validos.iterrows():\n",
    "    diccionario_orga_a_sup[row['id organizacion']] = (row['id organizacion superior'], row['organizacion superior'])\n",
    "\n",
    "len(diccionario_orga_a_sup)"
   ]
  },
  {
   "cell_type": "code",
   "execution_count": 742,
   "metadata": {},
   "outputs": [],
   "source": [
    "with open('../datos/diccionario_orga_a_sup.json', 'w') as file:\n",
    "    json.dump(diccionario_orga_a_sup, file)"
   ]
  },
  {
   "cell_type": "markdown",
   "metadata": {},
   "source": [
    "He intentado meter esta funcion en el archivo .py pero llevaba más de dos minutos ejecutandose y no terminaba, en cambio si la dejo aquí tarda 30 secs."
   ]
  },
  {
   "cell_type": "code",
   "execution_count": 743,
   "metadata": {},
   "outputs": [],
   "source": [
    "def rellenar_orga_sup(row):\n",
    "    # Accedemos a los nulos que etán donde ambos campos son nulos.\n",
    "    if pd.isna(row['id organizacion superior']) and pd.isna(row['organizacion superior']):\n",
    "        id_org = row['id organizacion']\n",
    "        if id_org in diccionario_orga_a_sup:\n",
    "            row['id organizacion superior'], row['organizacion superior'] = diccionario_orga_a_sup[id_org]\n",
    "    return row\n",
    "\n",
    "df = df.apply(rellenar_orga_sup, axis=1)"
   ]
  },
  {
   "cell_type": "code",
   "execution_count": 744,
   "metadata": {},
   "outputs": [
    {
     "data": {
      "text/plain": [
       "Unnamed: 0                  0.000000\n",
       "id organizacion superior    0.029234\n",
       "organizacion superior       0.029234\n",
       "id organizacion             2.447540\n",
       "organizacion                3.399486\n",
       "id unidad gestora           3.272319\n",
       "unidad gestora              1.898337\n",
       "categoria economica         1.849322\n",
       "origen ingreso              3.743566\n",
       "tipo ingreso                3.111144\n",
       "valor previsto              5.000419\n",
       "valor registrado            2.574414\n",
       "valor recaudado             3.843448\n",
       "porcentaje recaudado        2.351751\n",
       "fecha recaudacion           2.314040\n",
       "anio recaudacion            0.000000\n",
       "dtype: float64"
      ]
     },
     "execution_count": 744,
     "metadata": {},
     "output_type": "execute_result"
    }
   ],
   "source": [
    "df.isnull().sum()/df.shape[0]*100"
   ]
  },
  {
   "cell_type": "markdown",
   "metadata": {},
   "source": [
    "Hemos conseguido reducir los nulos a un 0.03% para id organizacion superioir y organizacion superior."
   ]
  },
  {
   "cell_type": "markdown",
   "metadata": {},
   "source": [
    "### 2- Gestión de los nulos de id organizacion y organizacion."
   ]
  },
  {
   "cell_type": "markdown",
   "metadata": {},
   "source": [
    "Vamos a seguir la misma estrategia que en el paso anterior."
   ]
  },
  {
   "cell_type": "code",
   "execution_count": 745,
   "metadata": {},
   "outputs": [
    {
     "data": {
      "text/plain": [
       "292"
      ]
     },
     "execution_count": 745,
     "metadata": {},
     "output_type": "execute_result"
    }
   ],
   "source": [
    "len(df[\"id organizacion\"].unique())"
   ]
  },
  {
   "cell_type": "code",
   "execution_count": 746,
   "metadata": {},
   "outputs": [
    {
     "data": {
      "text/plain": [
       "288"
      ]
     },
     "execution_count": 746,
     "metadata": {},
     "output_type": "execute_result"
    }
   ],
   "source": [
    "len(df[\"organizacion\"].unique())"
   ]
  },
  {
   "cell_type": "markdown",
   "metadata": {},
   "source": [
    "Hay más ids que organizaciones, lo cual impica que una misma organización puede tener 2 id, veámoslo."
   ]
  },
  {
   "cell_type": "code",
   "execution_count": 747,
   "metadata": {},
   "outputs": [
    {
     "data": {
      "text/plain": [
       "288"
      ]
     },
     "execution_count": 747,
     "metadata": {},
     "output_type": "execute_result"
    }
   ],
   "source": [
    "lista_organizaciones = list(df[\"organizacion\"].unique())\n",
    "len(lista_organizaciones)"
   ]
  },
  {
   "cell_type": "code",
   "execution_count": 748,
   "metadata": {},
   "outputs": [
    {
     "name": "stdout",
     "output_type": "stream",
     "text": [
      "\n",
      "Agência Nacional de Transportes Aquaviários\n",
      "[68201. 39251.]\n",
      "\n",
      "Fundo Nacional Antidrogas\n",
      "[30912. 20117.]\n",
      "\n",
      "Fundo Nacional do Idoso\n",
      "[64902. 30914.]\n",
      "\n",
      "Fundo Nacional para a Criança e o Adolescente\n",
      "[64901. 30913.]\n"
     ]
    }
   ],
   "source": [
    "for orga in lista_organizaciones:\n",
    "    filtro1 = df[\"id organizacion\"].notnull()\n",
    "    filtro2 = df[\"organizacion\"] == orga\n",
    "    if len(df[filtro1 & filtro2][\"id organizacion\"].unique()) > 1:\n",
    "        print(f\"\\n{orga}\")\n",
    "        print(df[filtro1 & filtro2][\"id organizacion\"].unique())"
   ]
  },
  {
   "cell_type": "markdown",
   "metadata": {},
   "source": [
    "Efectivamente vemos que hay tres organizaciones con dos id. Vamos a ver que está pasando."
   ]
  },
  {
   "cell_type": "markdown",
   "metadata": {},
   "source": [
    "- Para la Agência Nacional de Transportes Aquaviários vemos que el id 39251 solo seusa en 5 filas y todas son de 2013 por lo que puede ser que sea un id viejo y haya transitado hacia el nuevo que es 68201, por lo que vamos a cambiar el id viejo por el nuevo para homogeneizar los datos."
   ]
  },
  {
   "cell_type": "code",
   "execution_count": 749,
   "metadata": {},
   "outputs": [
    {
     "data": {
      "text/html": [
       "<div>\n",
       "<style scoped>\n",
       "    .dataframe tbody tr th:only-of-type {\n",
       "        vertical-align: middle;\n",
       "    }\n",
       "\n",
       "    .dataframe tbody tr th {\n",
       "        vertical-align: top;\n",
       "    }\n",
       "\n",
       "    .dataframe thead th {\n",
       "        text-align: right;\n",
       "    }\n",
       "</style>\n",
       "<table border=\"1\" class=\"dataframe\">\n",
       "  <thead>\n",
       "    <tr style=\"text-align: right;\">\n",
       "      <th></th>\n",
       "      <th>Unnamed: 0</th>\n",
       "      <th>id organizacion superior</th>\n",
       "      <th>organizacion superior</th>\n",
       "      <th>id organizacion</th>\n",
       "      <th>organizacion</th>\n",
       "      <th>id unidad gestora</th>\n",
       "      <th>unidad gestora</th>\n",
       "      <th>categoria economica</th>\n",
       "      <th>origen ingreso</th>\n",
       "      <th>tipo ingreso</th>\n",
       "      <th>valor previsto</th>\n",
       "      <th>valor registrado</th>\n",
       "      <th>valor recaudado</th>\n",
       "      <th>porcentaje recaudado</th>\n",
       "      <th>fecha recaudacion</th>\n",
       "      <th>anio recaudacion</th>\n",
       "    </tr>\n",
       "  </thead>\n",
       "  <tbody>\n",
       "    <tr>\n",
       "      <th>3304</th>\n",
       "      <td>3304</td>\n",
       "      <td>39000.0</td>\n",
       "      <td>Ministério da Infraestrutura</td>\n",
       "      <td>68201.0</td>\n",
       "      <td>Agência Nacional de Transportes Aquaviários</td>\n",
       "      <td>682010.0</td>\n",
       "      <td>AGENCIA NACIONAL DE TRANSPORTES AQUAVIARIOS</td>\n",
       "      <td>Receitas Correntes</td>\n",
       "      <td>Outras Receitas Correntes</td>\n",
       "      <td>Indenizações, restituições e ressarcimentos</td>\n",
       "      <td>0.0</td>\n",
       "      <td>0.0</td>\n",
       "      <td>18958.86</td>\n",
       "      <td>0.0</td>\n",
       "      <td>2013-12-31</td>\n",
       "      <td>2013.0</td>\n",
       "    </tr>\n",
       "  </tbody>\n",
       "</table>\n",
       "</div>"
      ],
      "text/plain": [
       "      Unnamed: 0  id organizacion superior         organizacion superior  \\\n",
       "3304        3304                   39000.0  Ministério da Infraestrutura   \n",
       "\n",
       "      id organizacion                                 organizacion  \\\n",
       "3304          68201.0  Agência Nacional de Transportes Aquaviários   \n",
       "\n",
       "      id unidad gestora                               unidad gestora  \\\n",
       "3304           682010.0  AGENCIA NACIONAL DE TRANSPORTES AQUAVIARIOS   \n",
       "\n",
       "     categoria economica             origen ingreso  \\\n",
       "3304  Receitas Correntes  Outras Receitas Correntes   \n",
       "\n",
       "                                     tipo ingreso  valor previsto  \\\n",
       "3304  Indenizações, restituições e ressarcimentos             0.0   \n",
       "\n",
       "      valor registrado  valor recaudado  porcentaje recaudado  \\\n",
       "3304               0.0         18958.86                   0.0   \n",
       "\n",
       "     fecha recaudacion  anio recaudacion  \n",
       "3304        2013-12-31            2013.0  "
      ]
     },
     "execution_count": 749,
     "metadata": {},
     "output_type": "execute_result"
    }
   ],
   "source": [
    "filtro1_1 = df[\"id organizacion\"] == 68201\n",
    "df[filtro1_1].shape\n",
    "df[filtro1_1].head(1)"
   ]
  },
  {
   "cell_type": "code",
   "execution_count": 750,
   "metadata": {},
   "outputs": [
    {
     "data": {
      "text/html": [
       "<div>\n",
       "<style scoped>\n",
       "    .dataframe tbody tr th:only-of-type {\n",
       "        vertical-align: middle;\n",
       "    }\n",
       "\n",
       "    .dataframe tbody tr th {\n",
       "        vertical-align: top;\n",
       "    }\n",
       "\n",
       "    .dataframe thead th {\n",
       "        text-align: right;\n",
       "    }\n",
       "</style>\n",
       "<table border=\"1\" class=\"dataframe\">\n",
       "  <thead>\n",
       "    <tr style=\"text-align: right;\">\n",
       "      <th></th>\n",
       "      <th>Unnamed: 0</th>\n",
       "      <th>id organizacion superior</th>\n",
       "      <th>organizacion superior</th>\n",
       "      <th>id organizacion</th>\n",
       "      <th>organizacion</th>\n",
       "      <th>id unidad gestora</th>\n",
       "      <th>unidad gestora</th>\n",
       "      <th>categoria economica</th>\n",
       "      <th>origen ingreso</th>\n",
       "      <th>tipo ingreso</th>\n",
       "      <th>valor previsto</th>\n",
       "      <th>valor registrado</th>\n",
       "      <th>valor recaudado</th>\n",
       "      <th>porcentaje recaudado</th>\n",
       "      <th>fecha recaudacion</th>\n",
       "      <th>anio recaudacion</th>\n",
       "    </tr>\n",
       "  </thead>\n",
       "  <tbody>\n",
       "    <tr>\n",
       "      <th>3307</th>\n",
       "      <td>3307</td>\n",
       "      <td>39000.0</td>\n",
       "      <td>Ministério da Infraestrutura</td>\n",
       "      <td>39251.0</td>\n",
       "      <td>Agência Nacional de Transportes Aquaviários</td>\n",
       "      <td>393002.0</td>\n",
       "      <td>AGENCIA NACIONAL DE TRANSPORTES AQUAVIARIOS</td>\n",
       "      <td>NaN</td>\n",
       "      <td>Outras Receitas Correntes</td>\n",
       "      <td>Indenizações, restituições e ressarcimentos</td>\n",
       "      <td>0.0</td>\n",
       "      <td>0.0</td>\n",
       "      <td>8481.37</td>\n",
       "      <td>0.0</td>\n",
       "      <td>2013-12-31</td>\n",
       "      <td>2013.0</td>\n",
       "    </tr>\n",
       "  </tbody>\n",
       "</table>\n",
       "</div>"
      ],
      "text/plain": [
       "      Unnamed: 0  id organizacion superior         organizacion superior  \\\n",
       "3307        3307                   39000.0  Ministério da Infraestrutura   \n",
       "\n",
       "      id organizacion                                 organizacion  \\\n",
       "3307          39251.0  Agência Nacional de Transportes Aquaviários   \n",
       "\n",
       "      id unidad gestora                               unidad gestora  \\\n",
       "3307           393002.0  AGENCIA NACIONAL DE TRANSPORTES AQUAVIARIOS   \n",
       "\n",
       "     categoria economica             origen ingreso  \\\n",
       "3307                 NaN  Outras Receitas Correntes   \n",
       "\n",
       "                                     tipo ingreso  valor previsto  \\\n",
       "3307  Indenizações, restituições e ressarcimentos             0.0   \n",
       "\n",
       "      valor registrado  valor recaudado  porcentaje recaudado  \\\n",
       "3307               0.0          8481.37                   0.0   \n",
       "\n",
       "     fecha recaudacion  anio recaudacion  \n",
       "3307        2013-12-31            2013.0  "
      ]
     },
     "execution_count": 750,
     "metadata": {},
     "output_type": "execute_result"
    }
   ],
   "source": [
    "filtro1_2 = df[\"id organizacion\"] == 39251\n",
    "df[filtro1_2].shape\n",
    "df[filtro1_2].head(1)"
   ]
  },
  {
   "cell_type": "code",
   "execution_count": 751,
   "metadata": {},
   "outputs": [],
   "source": [
    "df[\"id organizacion\"] = df[\"id organizacion\"].apply(sl.cambio_id_39251)"
   ]
  },
  {
   "cell_type": "code",
   "execution_count": 752,
   "metadata": {},
   "outputs": [
    {
     "data": {
      "text/plain": [
       "(0, 16)"
      ]
     },
     "execution_count": 752,
     "metadata": {},
     "output_type": "execute_result"
    }
   ],
   "source": [
    "filtro1 = df[\"id organizacion\"] == 39251\n",
    "df[filtro1].shape"
   ]
  },
  {
   "cell_type": "markdown",
   "metadata": {},
   "source": [
    "- Para la Fundo Nacional Antidrogas pasa algo similar, sin embargo, el id 20117 aparece 20 veces y de forma aleatoria pues aparece en 2013, 2014, 2015, 2016 y hasta 2017, pero no a partir de 2017, lo que puede indicar que se fue transicionando de id durante varios años usandose dos a la vez hasta que en 2017 se dejó de usar. Además también se observa que para ambos ids a pesar de tener la misma unidad gestora también tienen ids de unidad gestora distintos."
   ]
  },
  {
   "cell_type": "markdown",
   "metadata": {},
   "source": [
    "IMPORTANTE:"
   ]
  },
  {
   "cell_type": "markdown",
   "metadata": {},
   "source": [
    "He vuelto sobre mis pasos y me he dado cuenta de que la organización superior para los distintos id es distinta, por lo que si los unificara todos es como si estuviera perdiendo información ya que aunque la organización sea la misma si tiene el id de organización 30912 quiere decir que su organización superior es Ministério da Justiça e Segurança Pública y si tiene el id 20117 su organización superioir es Presidência da República. Me he dado cuenta de que pasa lo mismo también para los dos siguientes. En mi opinión unificar ambos id y dejar el que más aparece implicaría en cierta forma perder información, ya que si yo tengo un valor NaN para orga superioir e id de orga superior pero con id de organización 20117 se puede inferir que la organización superior es Presidência da República. Pero si unificasemos los id y pusiesemos para la organización Fundo Nacional Antidroga el id 30912 si tenemos un valor en NaN para id de orga superior y orga superior no podemos inferir si era Presidência da República o Ministério da Justiça e Segurança Pública. Pero como hemos visto que solo tenemos a NaN un 1% de las filas esto lo gestionaré si tuviera tiempo más adelante."
   ]
  },
  {
   "cell_type": "code",
   "execution_count": 753,
   "metadata": {},
   "outputs": [
    {
     "name": "stdout",
     "output_type": "stream",
     "text": [
      "(7399, 16)\n",
      "[200246.     nan]\n",
      "['FUNDO NACIONAL ANTIDROGAS' nan]\n"
     ]
    },
    {
     "data": {
      "text/html": [
       "<div>\n",
       "<style scoped>\n",
       "    .dataframe tbody tr th:only-of-type {\n",
       "        vertical-align: middle;\n",
       "    }\n",
       "\n",
       "    .dataframe tbody tr th {\n",
       "        vertical-align: top;\n",
       "    }\n",
       "\n",
       "    .dataframe thead th {\n",
       "        text-align: right;\n",
       "    }\n",
       "</style>\n",
       "<table border=\"1\" class=\"dataframe\">\n",
       "  <thead>\n",
       "    <tr style=\"text-align: right;\">\n",
       "      <th></th>\n",
       "      <th>Unnamed: 0</th>\n",
       "      <th>id organizacion superior</th>\n",
       "      <th>organizacion superior</th>\n",
       "      <th>id organizacion</th>\n",
       "      <th>organizacion</th>\n",
       "      <th>id unidad gestora</th>\n",
       "      <th>unidad gestora</th>\n",
       "      <th>categoria economica</th>\n",
       "      <th>origen ingreso</th>\n",
       "      <th>tipo ingreso</th>\n",
       "      <th>valor previsto</th>\n",
       "      <th>valor registrado</th>\n",
       "      <th>valor recaudado</th>\n",
       "      <th>porcentaje recaudado</th>\n",
       "      <th>fecha recaudacion</th>\n",
       "      <th>anio recaudacion</th>\n",
       "    </tr>\n",
       "  </thead>\n",
       "  <tbody>\n",
       "    <tr>\n",
       "      <th>3447</th>\n",
       "      <td>3447</td>\n",
       "      <td>30000.0</td>\n",
       "      <td>Ministério da Justiça e Segurança Pública</td>\n",
       "      <td>30912.0</td>\n",
       "      <td>Fundo Nacional Antidrogas</td>\n",
       "      <td>200246.0</td>\n",
       "      <td>FUNDO NACIONAL ANTIDROGAS</td>\n",
       "      <td>Receitas Correntes</td>\n",
       "      <td>NaN</td>\n",
       "      <td>Multas administrativas, contratuais e judicia</td>\n",
       "      <td>0.0</td>\n",
       "      <td>0.0</td>\n",
       "      <td>44.79</td>\n",
       "      <td>0.0</td>\n",
       "      <td>2013-12-31</td>\n",
       "      <td>2013.0</td>\n",
       "    </tr>\n",
       "  </tbody>\n",
       "</table>\n",
       "</div>"
      ],
      "text/plain": [
       "      Unnamed: 0  id organizacion superior  \\\n",
       "3447        3447                   30000.0   \n",
       "\n",
       "                          organizacion superior  id organizacion  \\\n",
       "3447  Ministério da Justiça e Segurança Pública          30912.0   \n",
       "\n",
       "                   organizacion  id unidad gestora             unidad gestora  \\\n",
       "3447  Fundo Nacional Antidrogas           200246.0  FUNDO NACIONAL ANTIDROGAS   \n",
       "\n",
       "     categoria economica origen ingreso  \\\n",
       "3447  Receitas Correntes            NaN   \n",
       "\n",
       "                                       tipo ingreso  valor previsto  \\\n",
       "3447  Multas administrativas, contratuais e judicia             0.0   \n",
       "\n",
       "      valor registrado  valor recaudado  porcentaje recaudado  \\\n",
       "3447               0.0            44.79                   0.0   \n",
       "\n",
       "     fecha recaudacion  anio recaudacion  \n",
       "3447        2013-12-31            2013.0  "
      ]
     },
     "execution_count": 753,
     "metadata": {},
     "output_type": "execute_result"
    }
   ],
   "source": [
    "filtro2_1 = df[\"id organizacion\"] == 30912\n",
    "print(df[filtro2_1].shape)\n",
    "print(df[filtro2_1][\"id unidad gestora\"].unique())\n",
    "print(df[filtro2_1][\"unidad gestora\"].unique())\n",
    "df[filtro2_1].head(1)"
   ]
  },
  {
   "cell_type": "code",
   "execution_count": 754,
   "metadata": {},
   "outputs": [
    {
     "name": "stdout",
     "output_type": "stream",
     "text": [
      "(20, 16)\n",
      "[110246.]\n",
      "['FUNDO NACIONAL ANTIDROGAS']\n"
     ]
    },
    {
     "data": {
      "text/html": [
       "<div>\n",
       "<style scoped>\n",
       "    .dataframe tbody tr th:only-of-type {\n",
       "        vertical-align: middle;\n",
       "    }\n",
       "\n",
       "    .dataframe tbody tr th {\n",
       "        vertical-align: top;\n",
       "    }\n",
       "\n",
       "    .dataframe thead th {\n",
       "        text-align: right;\n",
       "    }\n",
       "</style>\n",
       "<table border=\"1\" class=\"dataframe\">\n",
       "  <thead>\n",
       "    <tr style=\"text-align: right;\">\n",
       "      <th></th>\n",
       "      <th>Unnamed: 0</th>\n",
       "      <th>id organizacion superior</th>\n",
       "      <th>organizacion superior</th>\n",
       "      <th>id organizacion</th>\n",
       "      <th>organizacion</th>\n",
       "      <th>id unidad gestora</th>\n",
       "      <th>unidad gestora</th>\n",
       "      <th>categoria economica</th>\n",
       "      <th>origen ingreso</th>\n",
       "      <th>tipo ingreso</th>\n",
       "      <th>valor previsto</th>\n",
       "      <th>valor registrado</th>\n",
       "      <th>valor recaudado</th>\n",
       "      <th>porcentaje recaudado</th>\n",
       "      <th>fecha recaudacion</th>\n",
       "      <th>anio recaudacion</th>\n",
       "    </tr>\n",
       "  </thead>\n",
       "  <tbody>\n",
       "    <tr>\n",
       "      <th>4481</th>\n",
       "      <td>4481</td>\n",
       "      <td>20000.0</td>\n",
       "      <td>Presidência da República</td>\n",
       "      <td>20117.0</td>\n",
       "      <td>Fundo Nacional Antidrogas</td>\n",
       "      <td>110246.0</td>\n",
       "      <td>FUNDO NACIONAL ANTIDROGAS</td>\n",
       "      <td>Receitas Correntes</td>\n",
       "      <td>Outras Receitas Correntes</td>\n",
       "      <td>Demais receitas correntes</td>\n",
       "      <td>0.0</td>\n",
       "      <td>0.0</td>\n",
       "      <td>4819.4</td>\n",
       "      <td>0.0</td>\n",
       "      <td>2013-12-31</td>\n",
       "      <td>2013.0</td>\n",
       "    </tr>\n",
       "  </tbody>\n",
       "</table>\n",
       "</div>"
      ],
      "text/plain": [
       "      Unnamed: 0  id organizacion superior     organizacion superior  \\\n",
       "4481        4481                   20000.0  Presidência da República   \n",
       "\n",
       "      id organizacion               organizacion  id unidad gestora  \\\n",
       "4481          20117.0  Fundo Nacional Antidrogas           110246.0   \n",
       "\n",
       "                 unidad gestora categoria economica  \\\n",
       "4481  FUNDO NACIONAL ANTIDROGAS  Receitas Correntes   \n",
       "\n",
       "                 origen ingreso               tipo ingreso  valor previsto  \\\n",
       "4481  Outras Receitas Correntes  Demais receitas correntes             0.0   \n",
       "\n",
       "      valor registrado  valor recaudado  porcentaje recaudado  \\\n",
       "4481               0.0           4819.4                   0.0   \n",
       "\n",
       "     fecha recaudacion  anio recaudacion  \n",
       "4481        2013-12-31            2013.0  "
      ]
     },
     "execution_count": 754,
     "metadata": {},
     "output_type": "execute_result"
    }
   ],
   "source": [
    "filtro2_2 = df[\"id organizacion\"] == 20117\n",
    "print(df[filtro2_2].shape)\n",
    "print(df[filtro2_2][\"id unidad gestora\"].unique())\n",
    "print(df[filtro2_2][\"unidad gestora\"].unique())\n",
    "df[filtro2_2].head(1)"
   ]
  },
  {
   "cell_type": "code",
   "execution_count": 755,
   "metadata": {},
   "outputs": [],
   "source": [
    "df[\"id organizacion\"] = df[\"id organizacion\"].apply(sl.cambio_id_20117)"
   ]
  },
  {
   "cell_type": "code",
   "execution_count": 756,
   "metadata": {},
   "outputs": [
    {
     "data": {
      "text/plain": [
       "(0, 16)"
      ]
     },
     "execution_count": 756,
     "metadata": {},
     "output_type": "execute_result"
    }
   ],
   "source": [
    "filtro2 = df[\"id organizacion\"] == 20117\n",
    "df[filtro2].shape"
   ]
  },
  {
   "cell_type": "markdown",
   "metadata": {},
   "source": [
    "- Continuamos con los id de Fundo Nacional do Idoso. De nuevo ocurre lo mismo, el id 64902 aparece solo 99 veces y hasta 2017, el id 30914 aparece 223 y a partir de 2017 lo que indica un camio de id, siendo el actual 30914. De nuevo los id de unidad gestora son distintos aunque la unidad gestora sea la misma.\n"
   ]
  },
  {
   "cell_type": "code",
   "execution_count": 757,
   "metadata": {},
   "outputs": [
    {
     "name": "stdout",
     "output_type": "stream",
     "text": [
      "(100, 16)\n"
     ]
    },
    {
     "data": {
      "text/html": [
       "<div>\n",
       "<style scoped>\n",
       "    .dataframe tbody tr th:only-of-type {\n",
       "        vertical-align: middle;\n",
       "    }\n",
       "\n",
       "    .dataframe tbody tr th {\n",
       "        vertical-align: top;\n",
       "    }\n",
       "\n",
       "    .dataframe thead th {\n",
       "        text-align: right;\n",
       "    }\n",
       "</style>\n",
       "<table border=\"1\" class=\"dataframe\">\n",
       "  <thead>\n",
       "    <tr style=\"text-align: right;\">\n",
       "      <th></th>\n",
       "      <th>Unnamed: 0</th>\n",
       "      <th>id organizacion superior</th>\n",
       "      <th>organizacion superior</th>\n",
       "      <th>id organizacion</th>\n",
       "      <th>organizacion</th>\n",
       "      <th>id unidad gestora</th>\n",
       "      <th>unidad gestora</th>\n",
       "      <th>categoria economica</th>\n",
       "      <th>origen ingreso</th>\n",
       "      <th>tipo ingreso</th>\n",
       "      <th>valor previsto</th>\n",
       "      <th>valor registrado</th>\n",
       "      <th>valor recaudado</th>\n",
       "      <th>porcentaje recaudado</th>\n",
       "      <th>fecha recaudacion</th>\n",
       "      <th>anio recaudacion</th>\n",
       "    </tr>\n",
       "  </thead>\n",
       "  <tbody>\n",
       "    <tr>\n",
       "      <th>3784</th>\n",
       "      <td>3784</td>\n",
       "      <td>57000.0</td>\n",
       "      <td>Ministério das Mulheres, Igualdade Racial, da</td>\n",
       "      <td>64902.0</td>\n",
       "      <td>Fundo Nacional do Idoso</td>\n",
       "      <td>207001.0</td>\n",
       "      <td>FUNDO NACIONAL DO IDOSO</td>\n",
       "      <td>Receitas Correntes</td>\n",
       "      <td>Transferências Correntes</td>\n",
       "      <td>Transferências dos Municípios e de suas Entid</td>\n",
       "      <td>3000000.0</td>\n",
       "      <td>0.0</td>\n",
       "      <td>5850000.0</td>\n",
       "      <td>195.0</td>\n",
       "      <td>2013-12-31</td>\n",
       "      <td>2013.0</td>\n",
       "    </tr>\n",
       "  </tbody>\n",
       "</table>\n",
       "</div>"
      ],
      "text/plain": [
       "      Unnamed: 0  id organizacion superior  \\\n",
       "3784        3784                   57000.0   \n",
       "\n",
       "                              organizacion superior  id organizacion  \\\n",
       "3784  Ministério das Mulheres, Igualdade Racial, da          64902.0   \n",
       "\n",
       "                 organizacion  id unidad gestora           unidad gestora  \\\n",
       "3784  Fundo Nacional do Idoso           207001.0  FUNDO NACIONAL DO IDOSO   \n",
       "\n",
       "     categoria economica            origen ingreso  \\\n",
       "3784  Receitas Correntes  Transferências Correntes   \n",
       "\n",
       "                                       tipo ingreso  valor previsto  \\\n",
       "3784  Transferências dos Municípios e de suas Entid       3000000.0   \n",
       "\n",
       "      valor registrado  valor recaudado  porcentaje recaudado  \\\n",
       "3784               0.0        5850000.0                 195.0   \n",
       "\n",
       "     fecha recaudacion  anio recaudacion  \n",
       "3784        2013-12-31            2013.0  "
      ]
     },
     "execution_count": 757,
     "metadata": {},
     "output_type": "execute_result"
    }
   ],
   "source": [
    "filtro3_1 = df[\"id organizacion\"] == 64902\n",
    "print(df[filtro3_1].shape)\n",
    "df[filtro3_1].head(1)"
   ]
  },
  {
   "cell_type": "code",
   "execution_count": 758,
   "metadata": {},
   "outputs": [
    {
     "name": "stdout",
     "output_type": "stream",
     "text": [
      "(223, 16)\n"
     ]
    },
    {
     "data": {
      "text/html": [
       "<div>\n",
       "<style scoped>\n",
       "    .dataframe tbody tr th:only-of-type {\n",
       "        vertical-align: middle;\n",
       "    }\n",
       "\n",
       "    .dataframe tbody tr th {\n",
       "        vertical-align: top;\n",
       "    }\n",
       "\n",
       "    .dataframe thead th {\n",
       "        text-align: right;\n",
       "    }\n",
       "</style>\n",
       "<table border=\"1\" class=\"dataframe\">\n",
       "  <thead>\n",
       "    <tr style=\"text-align: right;\">\n",
       "      <th></th>\n",
       "      <th>Unnamed: 0</th>\n",
       "      <th>id organizacion superior</th>\n",
       "      <th>organizacion superior</th>\n",
       "      <th>id organizacion</th>\n",
       "      <th>organizacion</th>\n",
       "      <th>id unidad gestora</th>\n",
       "      <th>unidad gestora</th>\n",
       "      <th>categoria economica</th>\n",
       "      <th>origen ingreso</th>\n",
       "      <th>tipo ingreso</th>\n",
       "      <th>valor previsto</th>\n",
       "      <th>valor registrado</th>\n",
       "      <th>valor recaudado</th>\n",
       "      <th>porcentaje recaudado</th>\n",
       "      <th>fecha recaudacion</th>\n",
       "      <th>anio recaudacion</th>\n",
       "    </tr>\n",
       "  </thead>\n",
       "  <tbody>\n",
       "    <tr>\n",
       "      <th>359704</th>\n",
       "      <td>359741</td>\n",
       "      <td>81000.0</td>\n",
       "      <td>Ministério da Mulher, Família e Direitos Huma</td>\n",
       "      <td>30914.0</td>\n",
       "      <td>Fundo Nacional do Idoso</td>\n",
       "      <td>307002.0</td>\n",
       "      <td>FUNDO NACIONAL DO IDOSO</td>\n",
       "      <td>Receitas Correntes</td>\n",
       "      <td>Receita Patrimonial</td>\n",
       "      <td>Valores Mobiliários</td>\n",
       "      <td>NaN</td>\n",
       "      <td>0.0</td>\n",
       "      <td>165329.77</td>\n",
       "      <td>0.0</td>\n",
       "      <td>2017-03-30</td>\n",
       "      <td>2017.0</td>\n",
       "    </tr>\n",
       "  </tbody>\n",
       "</table>\n",
       "</div>"
      ],
      "text/plain": [
       "        Unnamed: 0  id organizacion superior  \\\n",
       "359704      359741                   81000.0   \n",
       "\n",
       "                                organizacion superior  id organizacion  \\\n",
       "359704  Ministério da Mulher, Família e Direitos Huma          30914.0   \n",
       "\n",
       "                   organizacion  id unidad gestora           unidad gestora  \\\n",
       "359704  Fundo Nacional do Idoso           307002.0  FUNDO NACIONAL DO IDOSO   \n",
       "\n",
       "       categoria economica       origen ingreso         tipo ingreso  \\\n",
       "359704  Receitas Correntes  Receita Patrimonial  Valores Mobiliários   \n",
       "\n",
       "        valor previsto  valor registrado  valor recaudado  \\\n",
       "359704             NaN               0.0        165329.77   \n",
       "\n",
       "        porcentaje recaudado fecha recaudacion  anio recaudacion  \n",
       "359704                   0.0        2017-03-30            2017.0  "
      ]
     },
     "execution_count": 758,
     "metadata": {},
     "output_type": "execute_result"
    }
   ],
   "source": [
    "filtro3_2 = df[\"id organizacion\"] == 30914\n",
    "print(df[filtro3_2].shape)\n",
    "df[filtro3_2].head(1)"
   ]
  },
  {
   "cell_type": "code",
   "execution_count": 759,
   "metadata": {},
   "outputs": [],
   "source": [
    "df[\"id organizacion\"] = df[\"id organizacion\"].apply(sl.cambio_id_64902)"
   ]
  },
  {
   "cell_type": "code",
   "execution_count": 760,
   "metadata": {},
   "outputs": [
    {
     "data": {
      "text/plain": [
       "(0, 16)"
      ]
     },
     "execution_count": 760,
     "metadata": {},
     "output_type": "execute_result"
    }
   ],
   "source": [
    "filtro3 = df[\"id organizacion\"] == 64902\n",
    "df[filtro2].shape"
   ]
  },
  {
   "cell_type": "markdown",
   "metadata": {},
   "source": [
    "- Terminamos con Fundo Nacional para a Criança e o Adolescente, en este caso ambos id se usn en 2021, el 64901 se empieza a usar en 2013 mientras que es 30913 se usa a apartir de 2017, por lo que vamos a dejar 30913."
   ]
  },
  {
   "cell_type": "code",
   "execution_count": 761,
   "metadata": {},
   "outputs": [
    {
     "name": "stdout",
     "output_type": "stream",
     "text": [
      "(180, 16)\n",
      "(722, 16)\n"
     ]
    }
   ],
   "source": [
    "filtro4_1 = df[\"id organizacion\"] == 64901\n",
    "print(df[filtro4_1].shape)\n",
    "filtro4_2 = df[\"id organizacion\"] == 30913\n",
    "print(df[filtro4_2].shape)"
   ]
  },
  {
   "cell_type": "code",
   "execution_count": 762,
   "metadata": {},
   "outputs": [
    {
     "data": {
      "text/html": [
       "<div>\n",
       "<style scoped>\n",
       "    .dataframe tbody tr th:only-of-type {\n",
       "        vertical-align: middle;\n",
       "    }\n",
       "\n",
       "    .dataframe tbody tr th {\n",
       "        vertical-align: top;\n",
       "    }\n",
       "\n",
       "    .dataframe thead th {\n",
       "        text-align: right;\n",
       "    }\n",
       "</style>\n",
       "<table border=\"1\" class=\"dataframe\">\n",
       "  <thead>\n",
       "    <tr style=\"text-align: right;\">\n",
       "      <th></th>\n",
       "      <th>Unnamed: 0</th>\n",
       "      <th>id organizacion superior</th>\n",
       "      <th>organizacion superior</th>\n",
       "      <th>id organizacion</th>\n",
       "      <th>organizacion</th>\n",
       "      <th>id unidad gestora</th>\n",
       "      <th>unidad gestora</th>\n",
       "      <th>categoria economica</th>\n",
       "      <th>origen ingreso</th>\n",
       "      <th>tipo ingreso</th>\n",
       "      <th>valor previsto</th>\n",
       "      <th>valor registrado</th>\n",
       "      <th>valor recaudado</th>\n",
       "      <th>porcentaje recaudado</th>\n",
       "      <th>fecha recaudacion</th>\n",
       "      <th>anio recaudacion</th>\n",
       "    </tr>\n",
       "  </thead>\n",
       "  <tbody>\n",
       "    <tr>\n",
       "      <th>359752</th>\n",
       "      <td>359789</td>\n",
       "      <td>81000.0</td>\n",
       "      <td>Ministério da Mulher, Família e Direitos Huma</td>\n",
       "      <td>30913.0</td>\n",
       "      <td>Fundo Nacional para a Criança e o Adolescente</td>\n",
       "      <td>307001.0</td>\n",
       "      <td>FUNDO NACIONAL PARA A CRIANCA E O ADOLESCENTE</td>\n",
       "      <td>Receitas Correntes</td>\n",
       "      <td>Outras Receitas Correntes</td>\n",
       "      <td>Demais receitas correntes</td>\n",
       "      <td>0.0</td>\n",
       "      <td>0.0</td>\n",
       "      <td>15648.75</td>\n",
       "      <td>NaN</td>\n",
       "      <td>2017-06-20</td>\n",
       "      <td>2017.0</td>\n",
       "    </tr>\n",
       "  </tbody>\n",
       "</table>\n",
       "</div>"
      ],
      "text/plain": [
       "        Unnamed: 0  id organizacion superior  \\\n",
       "359752      359789                   81000.0   \n",
       "\n",
       "                                organizacion superior  id organizacion  \\\n",
       "359752  Ministério da Mulher, Família e Direitos Huma          30913.0   \n",
       "\n",
       "                                         organizacion  id unidad gestora  \\\n",
       "359752  Fundo Nacional para a Criança e o Adolescente           307001.0   \n",
       "\n",
       "                                       unidad gestora categoria economica  \\\n",
       "359752  FUNDO NACIONAL PARA A CRIANCA E O ADOLESCENTE  Receitas Correntes   \n",
       "\n",
       "                   origen ingreso               tipo ingreso  valor previsto  \\\n",
       "359752  Outras Receitas Correntes  Demais receitas correntes             0.0   \n",
       "\n",
       "        valor registrado  valor recaudado  porcentaje recaudado  \\\n",
       "359752               0.0         15648.75                   NaN   \n",
       "\n",
       "       fecha recaudacion  anio recaudacion  \n",
       "359752        2017-06-20            2017.0  "
      ]
     },
     "execution_count": 762,
     "metadata": {},
     "output_type": "execute_result"
    }
   ],
   "source": [
    "df[filtro4_2].head(1)"
   ]
  },
  {
   "cell_type": "code",
   "execution_count": 763,
   "metadata": {},
   "outputs": [
    {
     "data": {
      "text/html": [
       "<div>\n",
       "<style scoped>\n",
       "    .dataframe tbody tr th:only-of-type {\n",
       "        vertical-align: middle;\n",
       "    }\n",
       "\n",
       "    .dataframe tbody tr th {\n",
       "        vertical-align: top;\n",
       "    }\n",
       "\n",
       "    .dataframe thead th {\n",
       "        text-align: right;\n",
       "    }\n",
       "</style>\n",
       "<table border=\"1\" class=\"dataframe\">\n",
       "  <thead>\n",
       "    <tr style=\"text-align: right;\">\n",
       "      <th></th>\n",
       "      <th>Unnamed: 0</th>\n",
       "      <th>id organizacion superior</th>\n",
       "      <th>organizacion superior</th>\n",
       "      <th>id organizacion</th>\n",
       "      <th>organizacion</th>\n",
       "      <th>id unidad gestora</th>\n",
       "      <th>unidad gestora</th>\n",
       "      <th>categoria economica</th>\n",
       "      <th>origen ingreso</th>\n",
       "      <th>tipo ingreso</th>\n",
       "      <th>valor previsto</th>\n",
       "      <th>valor registrado</th>\n",
       "      <th>valor recaudado</th>\n",
       "      <th>porcentaje recaudado</th>\n",
       "      <th>fecha recaudacion</th>\n",
       "      <th>anio recaudacion</th>\n",
       "    </tr>\n",
       "  </thead>\n",
       "  <tbody>\n",
       "    <tr>\n",
       "      <th>3785</th>\n",
       "      <td>3785</td>\n",
       "      <td>57000.0</td>\n",
       "      <td>Ministério das Mulheres, Igualdade Racial, da</td>\n",
       "      <td>64901.0</td>\n",
       "      <td>Fundo Nacional para a Criança e o Adolescente</td>\n",
       "      <td>110244.0</td>\n",
       "      <td>FUNDO NACIONAL PARA A CRIANCA E O ADOLESCENTE</td>\n",
       "      <td>Receitas Correntes</td>\n",
       "      <td>Transferências Correntes</td>\n",
       "      <td>Transferências dos Municípios e de suas Entid</td>\n",
       "      <td>24290692.0</td>\n",
       "      <td>NaN</td>\n",
       "      <td>9277740.79</td>\n",
       "      <td>38.0</td>\n",
       "      <td>2013-12-31</td>\n",
       "      <td>2013.0</td>\n",
       "    </tr>\n",
       "  </tbody>\n",
       "</table>\n",
       "</div>"
      ],
      "text/plain": [
       "      Unnamed: 0  id organizacion superior  \\\n",
       "3785        3785                   57000.0   \n",
       "\n",
       "                              organizacion superior  id organizacion  \\\n",
       "3785  Ministério das Mulheres, Igualdade Racial, da          64901.0   \n",
       "\n",
       "                                       organizacion  id unidad gestora  \\\n",
       "3785  Fundo Nacional para a Criança e o Adolescente           110244.0   \n",
       "\n",
       "                                     unidad gestora categoria economica  \\\n",
       "3785  FUNDO NACIONAL PARA A CRIANCA E O ADOLESCENTE  Receitas Correntes   \n",
       "\n",
       "                origen ingreso                                   tipo ingreso  \\\n",
       "3785  Transferências Correntes  Transferências dos Municípios e de suas Entid   \n",
       "\n",
       "      valor previsto  valor registrado  valor recaudado  porcentaje recaudado  \\\n",
       "3785      24290692.0               NaN       9277740.79                  38.0   \n",
       "\n",
       "     fecha recaudacion  anio recaudacion  \n",
       "3785        2013-12-31            2013.0  "
      ]
     },
     "execution_count": 763,
     "metadata": {},
     "output_type": "execute_result"
    }
   ],
   "source": [
    "df[filtro4_1].head(1)"
   ]
  },
  {
   "cell_type": "code",
   "execution_count": 764,
   "metadata": {},
   "outputs": [],
   "source": [
    "df[\"id organizacion\"] = df[\"id organizacion\"].apply(sl.cambio_id_64901)"
   ]
  },
  {
   "cell_type": "code",
   "execution_count": 765,
   "metadata": {},
   "outputs": [
    {
     "data": {
      "text/plain": [
       "(0, 16)"
      ]
     },
     "execution_count": 765,
     "metadata": {},
     "output_type": "execute_result"
    }
   ],
   "source": [
    "filtro4 = df[\"id organizacion\"] == 64901\n",
    "df[filtro4].shape"
   ]
  },
  {
   "cell_type": "code",
   "execution_count": 766,
   "metadata": {},
   "outputs": [
    {
     "name": "stdout",
     "output_type": "stream",
     "text": [
      "0\n"
     ]
    }
   ],
   "source": [
    "#Comprobamos que ya solo hay un id por organización\n",
    "flag = 0\n",
    "for orga in lista_organizaciones:\n",
    "    filtro1 = df[\"id organizacion\"].notnull()\n",
    "    filtro2 = df[\"organizacion\"] == orga\n",
    "    if len(df[filtro1 & filtro2][\"id organizacion\"].unique()) > 1:\n",
    "        flag=1\n",
    "        print(f\"\\n{orga}\")\n",
    "        print(df[filtro1 & filtro2][\"id organizacion\"].unique())\n",
    "print(flag)"
   ]
  },
  {
   "cell_type": "markdown",
   "metadata": {},
   "source": [
    "Ya podemos hacer un diccionario para rellenar valores."
   ]
  },
  {
   "cell_type": "code",
   "execution_count": 767,
   "metadata": {},
   "outputs": [
    {
     "name": "stdout",
     "output_type": "stream",
     "text": [
      "288\n"
     ]
    }
   ],
   "source": [
    "lista_id_organizaciones = list(df[\"id organizacion\"].unique())\n",
    "print(len(lista_id_organizaciones))"
   ]
  },
  {
   "cell_type": "code",
   "execution_count": 768,
   "metadata": {},
   "outputs": [],
   "source": [
    "dic_id_organizacion = {}\n",
    "for id in lista_id_organizaciones:\n",
    "    try:\n",
    "        filtro1 = df[\"id organizacion\"] == float(id)\n",
    "        filtro2 = df[\"organizacion\"].notnull()\n",
    "        dic_id_organizacion[float(id)]=df[filtro1 & filtro2][\"organizacion\"].unique()[0]\n",
    "    except:\n",
    "        pass"
   ]
  },
  {
   "cell_type": "code",
   "execution_count": 769,
   "metadata": {},
   "outputs": [
    {
     "data": {
      "text/plain": [
       "np.int64(25117)"
      ]
     },
     "execution_count": 769,
     "metadata": {},
     "output_type": "execute_result"
    }
   ],
   "source": [
    "df[\"id organizacion\"].isnull().sum()"
   ]
  },
  {
   "cell_type": "code",
   "execution_count": 770,
   "metadata": {},
   "outputs": [
    {
     "data": {
      "text/plain": [
       "(905, 16)"
      ]
     },
     "execution_count": 770,
     "metadata": {},
     "output_type": "execute_result"
    }
   ],
   "source": [
    "# filas que van a quedar sin corregir.\n",
    "filtro1 = df[\"id organizacion\"].isnull()\n",
    "filtro2 = df[\"organizacion\"].isnull()\n",
    "df[filtro1 & filtro2].shape"
   ]
  },
  {
   "cell_type": "code",
   "execution_count": 771,
   "metadata": {},
   "outputs": [
    {
     "name": "stderr",
     "output_type": "stream",
     "text": [
      "C:\\Users\\Elena\\AppData\\Local\\Temp\\ipykernel_13844\\3881576057.py:1: FutureWarning: A value is trying to be set on a copy of a DataFrame or Series through chained assignment using an inplace method.\n",
      "The behavior will change in pandas 3.0. This inplace method will never work because the intermediate object on which we are setting values always behaves as a copy.\n",
      "\n",
      "For example, when doing 'df[col].method(value, inplace=True)', try using 'df.method({col: value}, inplace=True)' or df[col] = df[col].method(value) instead, to perform the operation inplace on the original object.\n",
      "\n",
      "\n",
      "  df[\"organizacion\"].fillna(df[\"id organizacion\"].map(dic_id_organizacion), inplace=True)\n"
     ]
    }
   ],
   "source": [
    "df[\"organizacion\"].fillna(df[\"id organizacion\"].map(dic_id_organizacion), inplace=True)"
   ]
  },
  {
   "cell_type": "code",
   "execution_count": 772,
   "metadata": {},
   "outputs": [
    {
     "name": "stdout",
     "output_type": "stream",
     "text": [
      "Han quedado a null 905, es decir, un 0.09% del total de las organizaciones.\n"
     ]
    }
   ],
   "source": [
    "orga_null = df[df[\"organizacion\"].isnull()].shape[0]\n",
    "orga_sin_corregir = orga_null/df.shape[0]*100\n",
    "print(f\"Han quedado a null {orga_null}, es decir, un {np.round(orga_sin_corregir,2)}% del total de las organizaciones.\")"
   ]
  },
  {
   "cell_type": "code",
   "execution_count": 773,
   "metadata": {},
   "outputs": [
    {
     "data": {
      "text/plain": [
       "25117"
      ]
     },
     "execution_count": 773,
     "metadata": {},
     "output_type": "execute_result"
    }
   ],
   "source": [
    "df[df[\"id organizacion\"].isnull()].shape[0]"
   ]
  },
  {
   "cell_type": "markdown",
   "metadata": {},
   "source": [
    "Como podemos ver ids hay 25117 a null los cuales podemos corregir al rededor de unos 24200 a partir del nombre de la organizacion."
   ]
  },
  {
   "cell_type": "code",
   "execution_count": 774,
   "metadata": {},
   "outputs": [],
   "source": [
    "#Invertimos el diccionario\n",
    "dic_orga_id = {valor: clave for clave, valor in dic_id_organizacion.items()}"
   ]
  },
  {
   "cell_type": "code",
   "execution_count": 775,
   "metadata": {},
   "outputs": [
    {
     "name": "stderr",
     "output_type": "stream",
     "text": [
      "C:\\Users\\Elena\\AppData\\Local\\Temp\\ipykernel_13844\\2430629590.py:1: FutureWarning: A value is trying to be set on a copy of a DataFrame or Series through chained assignment using an inplace method.\n",
      "The behavior will change in pandas 3.0. This inplace method will never work because the intermediate object on which we are setting values always behaves as a copy.\n",
      "\n",
      "For example, when doing 'df[col].method(value, inplace=True)', try using 'df.method({col: value}, inplace=True)' or df[col] = df[col].method(value) instead, to perform the operation inplace on the original object.\n",
      "\n",
      "\n",
      "  df[\"id organizacion\"].fillna(df[\"organizacion\"].map(dic_orga_id), inplace=True)\n"
     ]
    }
   ],
   "source": [
    "df[\"id organizacion\"].fillna(df[\"organizacion\"].map(dic_orga_id), inplace=True)"
   ]
  },
  {
   "cell_type": "code",
   "execution_count": 776,
   "metadata": {},
   "outputs": [
    {
     "data": {
      "text/plain": [
       "905"
      ]
     },
     "execution_count": 776,
     "metadata": {},
     "output_type": "execute_result"
    }
   ],
   "source": [
    "df[df[\"id organizacion\"].isnull()].shape[0]"
   ]
  },
  {
   "cell_type": "markdown",
   "metadata": {},
   "source": [
    "Comprobamos cuantos null hay ahora y efectivamente se han reducido hasta 905, los mismo que para los nombres de las organizaciones ya que son todas las filas que tienen ambos campos a null. Aunque al representar un 0.1% y al no haber forma de arreglarlo puede ser despreciable."
   ]
  },
  {
   "cell_type": "markdown",
   "metadata": {},
   "source": [
    "### 3- Gestión de los nulos de id unidad gestora y unidad gestora."
   ]
  },
  {
   "cell_type": "markdown",
   "metadata": {},
   "source": [
    "Vamos a seguir la misma estrategia que en el paso anterior."
   ]
  },
  {
   "cell_type": "code",
   "execution_count": 777,
   "metadata": {},
   "outputs": [
    {
     "data": {
      "text/plain": [
       "365"
      ]
     },
     "execution_count": 777,
     "metadata": {},
     "output_type": "execute_result"
    }
   ],
   "source": [
    "len(df[\"id unidad gestora\"].unique())"
   ]
  },
  {
   "cell_type": "code",
   "execution_count": 778,
   "metadata": {},
   "outputs": [
    {
     "data": {
      "text/plain": [
       "357"
      ]
     },
     "execution_count": 778,
     "metadata": {},
     "output_type": "execute_result"
    }
   ],
   "source": [
    "len(df[\"unidad gestora\"].unique())"
   ]
  },
  {
   "cell_type": "markdown",
   "metadata": {},
   "source": [
    "Como esperábamos, hay más ids que unidades gestoras."
   ]
  },
  {
   "cell_type": "code",
   "execution_count": 779,
   "metadata": {},
   "outputs": [
    {
     "data": {
      "text/plain": [
       "357"
      ]
     },
     "execution_count": 779,
     "metadata": {},
     "output_type": "execute_result"
    }
   ],
   "source": [
    "lista_gestoras = list(df[\"unidad gestora\"].unique())\n",
    "len(lista_gestoras)"
   ]
  },
  {
   "cell_type": "code",
   "execution_count": 780,
   "metadata": {},
   "outputs": [
    {
     "name": "stdout",
     "output_type": "stream",
     "text": [
      "\n",
      "SETORIAL PROG.ORCAMENTARIA E FINANCEIRA-SFB\n",
      "[440088. 130214.]\n",
      "\n",
      "COORDENACAO-GERAL DE ORCAMENTO E FINANCAS\n",
      "[240102. 410002.]\n",
      "\n",
      "DIRETORIA DE FINANCAS-SISTEMA PARA O PAIS/MM\n",
      "[673001. 873001.]\n",
      "\n",
      "AGENCIA NACIONAL DE TRANSPORTES AQUAVIARIOS\n",
      "[682010. 393002.]\n",
      "\n",
      "FUNDO NACIONAL ANTIDROGAS\n",
      "[200246. 110246.]\n",
      "\n",
      "FUNDO NACIONAL DO IDOSO\n",
      "[207001. 307002.]\n",
      "\n",
      "FUNDO NACIONAL PARA A CRIANCA E O ADOLESCENTE\n",
      "[110244. 307001.]\n",
      "\n",
      "COORDENACAO-GERAL DE RECURSOS LOGISTICOS\n",
      "[410003. 240101.]\n"
     ]
    }
   ],
   "source": [
    "for gestora in lista_gestoras:\n",
    "    filtro1 = df[\"id unidad gestora\"].notnull()\n",
    "    filtro2 = df[\"unidad gestora\"] == gestora\n",
    "    if len(df[filtro1 & filtro2][\"id unidad gestora\"].unique()) > 1:\n",
    "        print(f\"\\n{gestora}\")\n",
    "        print(df[filtro1 & filtro2][\"id unidad gestora\"].unique())"
   ]
  },
  {
   "cell_type": "markdown",
   "metadata": {},
   "source": [
    "- Para SETORIAL PROG.ORCAMENTARIA E FINANCEIRA-SFB, el id 130214 solo aparece 7 veces en 2019, lo reemplazamos."
   ]
  },
  {
   "cell_type": "code",
   "execution_count": 781,
   "metadata": {},
   "outputs": [
    {
     "name": "stdout",
     "output_type": "stream",
     "text": [
      "(584, 16)\n",
      "(7, 16)\n"
     ]
    },
    {
     "data": {
      "text/html": [
       "<div>\n",
       "<style scoped>\n",
       "    .dataframe tbody tr th:only-of-type {\n",
       "        vertical-align: middle;\n",
       "    }\n",
       "\n",
       "    .dataframe tbody tr th {\n",
       "        vertical-align: top;\n",
       "    }\n",
       "\n",
       "    .dataframe thead th {\n",
       "        text-align: right;\n",
       "    }\n",
       "</style>\n",
       "<table border=\"1\" class=\"dataframe\">\n",
       "  <thead>\n",
       "    <tr style=\"text-align: right;\">\n",
       "      <th></th>\n",
       "      <th>Unnamed: 0</th>\n",
       "      <th>id organizacion superior</th>\n",
       "      <th>organizacion superior</th>\n",
       "      <th>id organizacion</th>\n",
       "      <th>organizacion</th>\n",
       "      <th>id unidad gestora</th>\n",
       "      <th>unidad gestora</th>\n",
       "      <th>categoria economica</th>\n",
       "      <th>origen ingreso</th>\n",
       "      <th>tipo ingreso</th>\n",
       "      <th>valor previsto</th>\n",
       "      <th>valor registrado</th>\n",
       "      <th>valor recaudado</th>\n",
       "      <th>porcentaje recaudado</th>\n",
       "      <th>fecha recaudacion</th>\n",
       "      <th>anio recaudacion</th>\n",
       "    </tr>\n",
       "  </thead>\n",
       "  <tbody>\n",
       "    <tr>\n",
       "      <th>573028</th>\n",
       "      <td>573088</td>\n",
       "      <td>22000.0</td>\n",
       "      <td>Ministério da Agricultura, Pecuária e Abastec</td>\n",
       "      <td>44208.0</td>\n",
       "      <td>Serviço Florestal Brasileiro</td>\n",
       "      <td>130214.0</td>\n",
       "      <td>SETORIAL PROG.ORCAMENTARIA E FINANCEIRA-SFB</td>\n",
       "      <td>Receitas Correntes</td>\n",
       "      <td>Receita Patrimonial</td>\n",
       "      <td>Exploração de recursos naturais</td>\n",
       "      <td>0.0</td>\n",
       "      <td>0.0</td>\n",
       "      <td>11902.8</td>\n",
       "      <td>0.0</td>\n",
       "      <td>2019-04-29</td>\n",
       "      <td>2019.0</td>\n",
       "    </tr>\n",
       "  </tbody>\n",
       "</table>\n",
       "</div>"
      ],
      "text/plain": [
       "        Unnamed: 0  id organizacion superior  \\\n",
       "573028      573088                   22000.0   \n",
       "\n",
       "                                organizacion superior  id organizacion  \\\n",
       "573028  Ministério da Agricultura, Pecuária e Abastec          44208.0   \n",
       "\n",
       "                        organizacion  id unidad gestora  \\\n",
       "573028  Serviço Florestal Brasileiro           130214.0   \n",
       "\n",
       "                                     unidad gestora categoria economica  \\\n",
       "573028  SETORIAL PROG.ORCAMENTARIA E FINANCEIRA-SFB  Receitas Correntes   \n",
       "\n",
       "             origen ingreso                     tipo ingreso  valor previsto  \\\n",
       "573028  Receita Patrimonial  Exploração de recursos naturais             0.0   \n",
       "\n",
       "        valor registrado  valor recaudado  porcentaje recaudado  \\\n",
       "573028               0.0          11902.8                   0.0   \n",
       "\n",
       "       fecha recaudacion  anio recaudacion  \n",
       "573028        2019-04-29            2019.0  "
      ]
     },
     "execution_count": 781,
     "metadata": {},
     "output_type": "execute_result"
    }
   ],
   "source": [
    "filtro1_1 = df[\"id unidad gestora\"] == 440088\n",
    "print(df[filtro1_1].shape)\n",
    "df[filtro1_1].head(1)\n",
    "\n",
    "filtro1_2 = df[\"id unidad gestora\"] == 130214\n",
    "print(df[filtro1_2].shape)\n",
    "df[filtro1_2].head(1)\n"
   ]
  },
  {
   "cell_type": "code",
   "execution_count": 782,
   "metadata": {},
   "outputs": [],
   "source": [
    "df[\"id unidad gestora\"] = df[\"id unidad gestora\"].apply(sl.cambio_id_130214)"
   ]
  },
  {
   "cell_type": "code",
   "execution_count": 783,
   "metadata": {},
   "outputs": [
    {
     "data": {
      "text/plain": [
       "(0, 16)"
      ]
     },
     "execution_count": 783,
     "metadata": {},
     "output_type": "execute_result"
    }
   ],
   "source": [
    "filtro1 = df[\"id unidad gestora\"] == 130214\n",
    "df[filtro1].shape"
   ]
  },
  {
   "cell_type": "markdown",
   "metadata": {},
   "source": [
    "A partir de aqui he implementado la estrategia de que el id que aparezca en más filas es el que prevalece, me gustaría pararme a analizarlo en mayor profundidad pero no me da tiempo."
   ]
  },
  {
   "cell_type": "markdown",
   "metadata": {},
   "source": [
    "- COORDENACAO-GERAL DE ORCAMENTO E FINANCAS"
   ]
  },
  {
   "cell_type": "code",
   "execution_count": 784,
   "metadata": {},
   "outputs": [
    {
     "name": "stdout",
     "output_type": "stream",
     "text": [
      "(5369, 16)\n",
      "(290, 16)\n"
     ]
    },
    {
     "data": {
      "text/plain": [
       "(0, 16)"
      ]
     },
     "execution_count": 784,
     "metadata": {},
     "output_type": "execute_result"
    }
   ],
   "source": [
    "filtro2_1 = df[\"id unidad gestora\"] == 240102\n",
    "print(df[filtro2_1].shape)\n",
    "df[filtro2_1].head(1)\n",
    "\n",
    "filtro2_2 = df[\"id unidad gestora\"] == 410002\n",
    "print(df[filtro2_2].shape)\n",
    "df[filtro2_2].head(1)\n",
    "\n",
    "df[\"id unidad gestora\"] = df[\"id unidad gestora\"].apply(sl.cambio_id_410002)\n",
    "\n",
    "filtro2 = df[\"id unidad gestora\"] == 410002\n",
    "df[filtro2].shape\n"
   ]
  },
  {
   "cell_type": "markdown",
   "metadata": {},
   "source": [
    "- DIRETORIA DE FINANCAS-SISTEMA PARA O PAIS/MM\n"
   ]
  },
  {
   "cell_type": "code",
   "execution_count": 785,
   "metadata": {},
   "outputs": [
    {
     "name": "stdout",
     "output_type": "stream",
     "text": [
      "(18610, 16)\n",
      "(290, 16)\n"
     ]
    },
    {
     "data": {
      "text/plain": [
       "(0, 16)"
      ]
     },
     "execution_count": 785,
     "metadata": {},
     "output_type": "execute_result"
    }
   ],
   "source": [
    "filtro3_1 = df[\"id unidad gestora\"] == 673001\n",
    "print(df[filtro3_1].shape)\n",
    "df[filtro3_1].head(1)\n",
    "\n",
    "filtro3_2 = df[\"id unidad gestora\"] == 873001\n",
    "print(df[filtro2_2].shape)\n",
    "df[filtro3_2].head(1)\n",
    "\n",
    "df[\"id unidad gestora\"] = df[\"id unidad gestora\"].apply(sl.cambio_id_873001)\n",
    "\n",
    "filtro3 = df[\"id unidad gestora\"] == 873001\n",
    "df[filtro3].shape"
   ]
  },
  {
   "cell_type": "markdown",
   "metadata": {},
   "source": [
    "- AGENCIA NACIONAL DE TRANSPORTES AQUAVIARIOS\n"
   ]
  },
  {
   "cell_type": "code",
   "execution_count": 786,
   "metadata": {},
   "outputs": [
    {
     "name": "stdout",
     "output_type": "stream",
     "text": [
      "(2096, 16)\n",
      "(5, 16)\n"
     ]
    },
    {
     "data": {
      "text/plain": [
       "(0, 16)"
      ]
     },
     "execution_count": 786,
     "metadata": {},
     "output_type": "execute_result"
    }
   ],
   "source": [
    "filtro4_1 = df[\"id unidad gestora\"] == 682010\n",
    "print(df[filtro4_1].shape)\n",
    "df[filtro4_1].head(1)\n",
    "\n",
    "filtro4_2 = df[\"id unidad gestora\"] == 393002\n",
    "print(df[filtro4_2].shape)\n",
    "df[filtro4_2].head(1)\n",
    "\n",
    "df[\"id unidad gestora\"] = df[\"id unidad gestora\"].apply(sl.cambio_id_393002)\n",
    "\n",
    "filtro4 = df[\"id unidad gestora\"] == 393002\n",
    "df[filtro4].shape"
   ]
  },
  {
   "cell_type": "markdown",
   "metadata": {},
   "source": [
    "- FUNDO NACIONAL ANTIDROGAS\n"
   ]
  },
  {
   "cell_type": "code",
   "execution_count": 787,
   "metadata": {},
   "outputs": [
    {
     "name": "stdout",
     "output_type": "stream",
     "text": [
      "(7323, 16)\n",
      "(20, 16)\n"
     ]
    },
    {
     "data": {
      "text/plain": [
       "(0, 16)"
      ]
     },
     "execution_count": 787,
     "metadata": {},
     "output_type": "execute_result"
    }
   ],
   "source": [
    "filtro5_1 = df[\"id unidad gestora\"] == 200246\n",
    "print(df[filtro5_1].shape)\n",
    "df[filtro5_1].head(1)\n",
    "\n",
    "filtro5_2 = df[\"id unidad gestora\"] == 110246\n",
    "print(df[filtro5_2].shape)\n",
    "df[filtro5_2].head(1)\n",
    "\n",
    "df[\"id unidad gestora\"] = df[\"id unidad gestora\"].apply(sl.cambio_id_110246)\n",
    "\n",
    "filtro5 = df[\"id unidad gestora\"] == 110246\n",
    "df[filtro5].shape"
   ]
  },
  {
   "cell_type": "markdown",
   "metadata": {},
   "source": [
    "- FUNDO NACIONAL DO IDOSO\n"
   ]
  },
  {
   "cell_type": "markdown",
   "metadata": {},
   "source": [
    "Me he dado cuenta de que esto lo podía haber automatizado antes y de una forma aún más eficiente, pero como ya me quedan tres no voy a cambiarlo todo."
   ]
  },
  {
   "cell_type": "code",
   "execution_count": 788,
   "metadata": {},
   "outputs": [
    {
     "name": "stdout",
     "output_type": "stream",
     "text": [
      "Para el 207001 tenemos un shape de (85, 16)\n",
      "Para el 307002 tenemos un shape de (226, 16)\n",
      " Cambiamos 207001 --> 307002\n",
      "(0, 16)\n"
     ]
    }
   ],
   "source": [
    "num1=207001\n",
    "num2=307002\n",
    "\n",
    "filtro1 = df[\"id unidad gestora\"] == num1\n",
    "valor1 = df[filtro1].shape[0]\n",
    "print(f\"Para el {num1} tenemos un shape de {df[filtro1].shape}\")\n",
    "\n",
    "filtro2 = df[\"id unidad gestora\"] == num2\n",
    "valor2 = df[filtro2].shape[0]\n",
    "print(f\"Para el {num2} tenemos un shape de {df[filtro2].shape}\")\n",
    "\n",
    "if valor1 > valor2:\n",
    "    print(f\" Cambiamos {num2} --> {num1}\")\n",
    "    df[\"id unidad gestora\"] = df[\"id unidad gestora\"].apply(lambda id: num1 if id == num2 else id)\n",
    "    filtro = df[\"id unidad gestora\"] == num2\n",
    "    print(df[filtro].shape)\n",
    "\n",
    "else:\n",
    "    print(f\" Cambiamos {num1} --> {num2}\")\n",
    "    df[\"id unidad gestora\"] = df[\"id unidad gestora\"].apply(lambda id: num2 if id == num1 else id)\n",
    "    filtro = df[\"id unidad gestora\"] == num1\n",
    "    print(df[filtro].shape)\n",
    "\n"
   ]
  },
  {
   "cell_type": "markdown",
   "metadata": {},
   "source": [
    "- FUNDO NACIONAL PARA A CRIANCA E O ADOLESCENTE"
   ]
  },
  {
   "cell_type": "code",
   "execution_count": 789,
   "metadata": {},
   "outputs": [
    {
     "name": "stdout",
     "output_type": "stream",
     "text": [
      "Para el 110244 tenemos un shape de (161, 16)\n",
      "Para el 307001 tenemos un shape de (728, 16)\n",
      " Cambiamos 110244 --> 307001\n",
      "(0, 16)\n"
     ]
    }
   ],
   "source": [
    "num1=110244\n",
    "num2=307001\n",
    "\n",
    "filtro1 = df[\"id unidad gestora\"] == num1\n",
    "valor1 = df[filtro1].shape[0]\n",
    "print(f\"Para el {num1} tenemos un shape de {df[filtro1].shape}\")\n",
    "\n",
    "filtro2 = df[\"id unidad gestora\"] == num2\n",
    "valor2 = df[filtro2].shape[0]\n",
    "print(f\"Para el {num2} tenemos un shape de {df[filtro2].shape}\")\n",
    "\n",
    "if valor1 > valor2:\n",
    "    print(f\" Cambiamos {num2} --> {num1}\")\n",
    "    df[\"id unidad gestora\"] = df[\"id unidad gestora\"].apply(lambda id: num1 if id == num2 else id)\n",
    "    filtro = df[\"id unidad gestora\"] == num2\n",
    "    print(df[filtro].shape)\n",
    "\n",
    "else:\n",
    "    print(f\" Cambiamos {num1} --> {num2}\")\n",
    "    df[\"id unidad gestora\"] = df[\"id unidad gestora\"].apply(lambda id: num2 if id == num1 else id)\n",
    "    filtro = df[\"id unidad gestora\"] == num1\n",
    "    print(df[filtro].shape)"
   ]
  },
  {
   "cell_type": "markdown",
   "metadata": {},
   "source": [
    "- COORDENACAO-GERAL DE RECURSOS LOGISTICOS\n"
   ]
  },
  {
   "cell_type": "code",
   "execution_count": 790,
   "metadata": {},
   "outputs": [
    {
     "name": "stdout",
     "output_type": "stream",
     "text": [
      "Para el 410003 tenemos un shape de (3, 16)\n",
      "Para el 240101 tenemos un shape de (3, 16)\n",
      " Cambiamos 410003 --> 240101\n",
      "(0, 16)\n"
     ]
    }
   ],
   "source": [
    "num1=410003\n",
    "num2=240101\n",
    "\n",
    "filtro1 = df[\"id unidad gestora\"] == num1\n",
    "valor1 = df[filtro1].shape[0]\n",
    "print(f\"Para el {num1} tenemos un shape de {df[filtro1].shape}\")\n",
    "\n",
    "filtro2 = df[\"id unidad gestora\"] == num2\n",
    "valor2 = df[filtro2].shape[0]\n",
    "print(f\"Para el {num2} tenemos un shape de {df[filtro2].shape}\")\n",
    "\n",
    "if valor1 > valor2:\n",
    "    print(f\" Cambiamos {num2} --> {num1}\")\n",
    "    df[\"id unidad gestora\"] = df[\"id unidad gestora\"].apply(lambda id: num1 if id == num2 else id)\n",
    "    filtro = df[\"id unidad gestora\"] == num2\n",
    "    print(df[filtro].shape)\n",
    "\n",
    "else:\n",
    "    print(f\" Cambiamos {num1} --> {num2}\")\n",
    "    df[\"id unidad gestora\"] = df[\"id unidad gestora\"].apply(lambda id: num2 if id == num1 else id)\n",
    "    filtro = df[\"id unidad gestora\"] == num1\n",
    "    print(df[filtro].shape)"
   ]
  },
  {
   "cell_type": "markdown",
   "metadata": {},
   "source": [
    "Comprobamos que solo haya un id por unidad gestora:"
   ]
  },
  {
   "cell_type": "code",
   "execution_count": 791,
   "metadata": {},
   "outputs": [
    {
     "name": "stdout",
     "output_type": "stream",
     "text": [
      "0\n"
     ]
    }
   ],
   "source": [
    "flag=0\n",
    "for gestora in lista_gestoras:\n",
    "    filtro1 = df[\"id unidad gestora\"].notnull()\n",
    "    filtro2 = df[\"unidad gestora\"] == gestora\n",
    "    if len(df[filtro1 & filtro2][\"id unidad gestora\"].unique()) > 1:\n",
    "        flag=1\n",
    "        print(f\"\\n{gestora}\")\n",
    "        print(df[filtro1 & filtro2][\"id unidad gestora\"].unique())\n",
    "print(flag)"
   ]
  },
  {
   "cell_type": "markdown",
   "metadata": {},
   "source": [
    "Ya podemos hacer un diccionario para rellenar los valores:"
   ]
  },
  {
   "cell_type": "code",
   "execution_count": 792,
   "metadata": {},
   "outputs": [
    {
     "name": "stdout",
     "output_type": "stream",
     "text": [
      "357\n"
     ]
    }
   ],
   "source": [
    "lista_id_gestoras = list(df[\"id unidad gestora\"].unique())\n",
    "print(len(lista_id_gestoras))"
   ]
  },
  {
   "cell_type": "code",
   "execution_count": 793,
   "metadata": {},
   "outputs": [],
   "source": [
    "dic_id_gestoras = {}\n",
    "for id in lista_id_gestoras:\n",
    "    try:\n",
    "        filtro1 = df[\"id unidad gestora\"] == float(id)\n",
    "        filtro2 = df[\"unidad gestora\"].notnull()\n",
    "        dic_id_gestoras[float(id)]=df[filtro1 & filtro2][\"unidad gestora\"].unique()[0]\n",
    "    except:\n",
    "        pass"
   ]
  },
  {
   "cell_type": "code",
   "execution_count": 794,
   "metadata": {},
   "outputs": [
    {
     "data": {
      "text/plain": [
       "np.int64(33581)"
      ]
     },
     "execution_count": 794,
     "metadata": {},
     "output_type": "execute_result"
    }
   ],
   "source": [
    "df[\"id unidad gestora\"].isnull().sum()"
   ]
  },
  {
   "cell_type": "code",
   "execution_count": 795,
   "metadata": {},
   "outputs": [
    {
     "data": {
      "text/plain": [
       "(614, 16)"
      ]
     },
     "execution_count": 795,
     "metadata": {},
     "output_type": "execute_result"
    }
   ],
   "source": [
    "# filas que van a quedar sin corregir.\n",
    "filtro1 = df[\"id unidad gestora\"].isnull()\n",
    "filtro2 = df[\"unidad gestora\"].isnull()\n",
    "df[filtro1 & filtro2].shape"
   ]
  },
  {
   "cell_type": "code",
   "execution_count": 796,
   "metadata": {},
   "outputs": [
    {
     "name": "stderr",
     "output_type": "stream",
     "text": [
      "C:\\Users\\Elena\\AppData\\Local\\Temp\\ipykernel_13844\\2383688579.py:1: FutureWarning: A value is trying to be set on a copy of a DataFrame or Series through chained assignment using an inplace method.\n",
      "The behavior will change in pandas 3.0. This inplace method will never work because the intermediate object on which we are setting values always behaves as a copy.\n",
      "\n",
      "For example, when doing 'df[col].method(value, inplace=True)', try using 'df.method({col: value}, inplace=True)' or df[col] = df[col].method(value) instead, to perform the operation inplace on the original object.\n",
      "\n",
      "\n",
      "  df[\"unidad gestora\"].fillna(df[\"id unidad gestora\"].map(dic_id_gestoras), inplace=True)\n"
     ]
    }
   ],
   "source": [
    "df[\"unidad gestora\"].fillna(df[\"id unidad gestora\"].map(dic_id_gestoras), inplace=True)"
   ]
  },
  {
   "cell_type": "code",
   "execution_count": 797,
   "metadata": {},
   "outputs": [
    {
     "name": "stdout",
     "output_type": "stream",
     "text": [
      "Han quedado a null 614, es decir, un 0.06% del total de las filas en unidades gestoras.\n"
     ]
    }
   ],
   "source": [
    "gestora_null = df[df[\"unidad gestora\"].isnull()].shape[0]\n",
    "gestora_sin_corregir = gestora_null/df.shape[0]*100\n",
    "print(f\"Han quedado a null {gestora_null}, es decir, un {np.round(gestora_sin_corregir,2)}% del total de las filas en unidades gestoras.\")"
   ]
  },
  {
   "cell_type": "code",
   "execution_count": 798,
   "metadata": {},
   "outputs": [
    {
     "data": {
      "text/plain": [
       "33581"
      ]
     },
     "execution_count": 798,
     "metadata": {},
     "output_type": "execute_result"
    }
   ],
   "source": [
    "df[df[\"id unidad gestora\"].isnull()].shape[0]"
   ]
  },
  {
   "cell_type": "markdown",
   "metadata": {},
   "source": [
    "Como podemos ver ids hay 33581 a null los cuales podemos corregir alrededor de unos 33000 a partir del nombre de la organizacion."
   ]
  },
  {
   "cell_type": "code",
   "execution_count": 799,
   "metadata": {},
   "outputs": [],
   "source": [
    "#Invertimos el diccionario\n",
    "dic_gestora_id = {valor: clave for clave, valor in dic_id_gestoras.items()}"
   ]
  },
  {
   "cell_type": "code",
   "execution_count": 800,
   "metadata": {},
   "outputs": [
    {
     "name": "stderr",
     "output_type": "stream",
     "text": [
      "C:\\Users\\Elena\\AppData\\Local\\Temp\\ipykernel_13844\\105797111.py:1: FutureWarning: A value is trying to be set on a copy of a DataFrame or Series through chained assignment using an inplace method.\n",
      "The behavior will change in pandas 3.0. This inplace method will never work because the intermediate object on which we are setting values always behaves as a copy.\n",
      "\n",
      "For example, when doing 'df[col].method(value, inplace=True)', try using 'df.method({col: value}, inplace=True)' or df[col] = df[col].method(value) instead, to perform the operation inplace on the original object.\n",
      "\n",
      "\n",
      "  df[\"id unidad gestora\"].fillna(df[\"unidad gestora\"].map(dic_gestora_id), inplace=True)\n"
     ]
    }
   ],
   "source": [
    "df[\"id unidad gestora\"].fillna(df[\"unidad gestora\"].map(dic_gestora_id), inplace=True)"
   ]
  },
  {
   "cell_type": "code",
   "execution_count": 801,
   "metadata": {},
   "outputs": [
    {
     "data": {
      "text/plain": [
       "614"
      ]
     },
     "execution_count": 801,
     "metadata": {},
     "output_type": "execute_result"
    }
   ],
   "source": [
    "df[df[\"id unidad gestora\"].isnull()].shape[0]"
   ]
  },
  {
   "cell_type": "markdown",
   "metadata": {},
   "source": [
    "Comprobamos cuantos null hay ahora y efectivamente se han reducido hasta 614, los mismo que para los nombres de las unidades gestoras ya que son todas las filas que tienen ambos campos a null. Aunque al representar un 0.06% y al no haber forma de arreglarlo puede ser despreciable."
   ]
  },
  {
   "cell_type": "markdown",
   "metadata": {},
   "source": [
    "### 4- Gestión de los nulos de categoría económica."
   ]
  },
  {
   "cell_type": "code",
   "execution_count": 802,
   "metadata": {},
   "outputs": [
    {
     "data": {
      "text/plain": [
       "Unnamed: 0                  0.000000\n",
       "id organizacion superior    0.029234\n",
       "organizacion superior       0.029234\n",
       "id organizacion             0.088188\n",
       "organizacion                0.088188\n",
       "id unidad gestora           0.059832\n",
       "unidad gestora              0.059832\n",
       "categoria economica         1.849322\n",
       "origen ingreso              3.743566\n",
       "tipo ingreso                3.111144\n",
       "valor previsto              5.000419\n",
       "valor registrado            2.574414\n",
       "valor recaudado             3.843448\n",
       "porcentaje recaudado        2.351751\n",
       "fecha recaudacion           2.314040\n",
       "anio recaudacion            0.000000\n",
       "dtype: float64"
      ]
     },
     "execution_count": 802,
     "metadata": {},
     "output_type": "execute_result"
    }
   ],
   "source": [
    "df.isnull().sum()/df.shape[0]*100"
   ]
  },
  {
   "cell_type": "code",
   "execution_count": 803,
   "metadata": {},
   "outputs": [
    {
     "data": {
      "text/plain": [
       "categoria economica\n",
       "Receitas Correntes                           961445\n",
       "Receitas de Capital                           29523\n",
       "Receitas Correntes - intra-orçamentárias      15926\n",
       "Sem informação                                  252\n",
       "Receitas de Capital - intra-orçamentárias        90\n",
       "Name: count, dtype: int64"
      ]
     },
     "execution_count": 803,
     "metadata": {},
     "output_type": "execute_result"
    }
   ],
   "source": [
    "df[\"categoria economica\"].value_counts()"
   ]
  },
  {
   "cell_type": "code",
   "execution_count": 804,
   "metadata": {},
   "outputs": [
    {
     "data": {
      "text/plain": [
       "np.int64(18978)"
      ]
     },
     "execution_count": 804,
     "metadata": {},
     "output_type": "execute_result"
    }
   ],
   "source": [
    "df[\"categoria economica\"].isna().sum()"
   ]
  },
  {
   "cell_type": "code",
   "execution_count": 805,
   "metadata": {},
   "outputs": [
    {
     "data": {
      "text/plain": [
       "np.float64(1.849321876333786)"
      ]
     },
     "execution_count": 805,
     "metadata": {},
     "output_type": "execute_result"
    }
   ],
   "source": [
    "df[\"categoria economica\"].isna().sum()/df.shape[0]*100"
   ]
  },
  {
   "cell_type": "markdown",
   "metadata": {},
   "source": [
    "Tenemos casi un 2% de nulos en esta columna, como no tenemos información con la que rellenarlos y sabemos que dentro de categorías exite una que es \"Sem informação\", en vez de dejar los nulos vamos a meterlos en esta categoría."
   ]
  },
  {
   "cell_type": "code",
   "execution_count": 806,
   "metadata": {},
   "outputs": [
    {
     "name": "stderr",
     "output_type": "stream",
     "text": [
      "C:\\Users\\Elena\\AppData\\Local\\Temp\\ipykernel_13844\\2181394413.py:1: FutureWarning: A value is trying to be set on a copy of a DataFrame or Series through chained assignment using an inplace method.\n",
      "The behavior will change in pandas 3.0. This inplace method will never work because the intermediate object on which we are setting values always behaves as a copy.\n",
      "\n",
      "For example, when doing 'df[col].method(value, inplace=True)', try using 'df.method({col: value}, inplace=True)' or df[col] = df[col].method(value) instead, to perform the operation inplace on the original object.\n",
      "\n",
      "\n",
      "  df[\"categoria economica\"].fillna(\"Sem informação\", inplace=True)\n"
     ]
    }
   ],
   "source": [
    "df[\"categoria economica\"].fillna(\"Sem informação\", inplace=True)"
   ]
  },
  {
   "cell_type": "code",
   "execution_count": 807,
   "metadata": {},
   "outputs": [
    {
     "data": {
      "text/plain": [
       "categoria economica\n",
       "Receitas Correntes                           961445\n",
       "Receitas de Capital                           29523\n",
       "Sem informação                                19230\n",
       "Receitas Correntes - intra-orçamentárias      15926\n",
       "Receitas de Capital - intra-orçamentárias        90\n",
       "Name: count, dtype: int64"
      ]
     },
     "execution_count": 807,
     "metadata": {},
     "output_type": "execute_result"
    }
   ],
   "source": [
    "df[\"categoria economica\"].value_counts()"
   ]
  },
  {
   "cell_type": "code",
   "execution_count": 808,
   "metadata": {},
   "outputs": [
    {
     "data": {
      "text/plain": [
       "np.int64(0)"
      ]
     },
     "execution_count": 808,
     "metadata": {},
     "output_type": "execute_result"
    }
   ],
   "source": [
    "df[\"categoria economica\"].isna().sum()"
   ]
  },
  {
   "cell_type": "markdown",
   "metadata": {},
   "source": [
    "### 5- Gestión de los nulos de origen ingreso."
   ]
  },
  {
   "cell_type": "code",
   "execution_count": 809,
   "metadata": {},
   "outputs": [
    {
     "data": {
      "text/plain": [
       "array(['Outras Receitas Correntes', 'Receita de Serviços',\n",
       "       'Transferências de Capital', 'Alienação de Bens',\n",
       "       'Receita Agropecuária', 'Transferências Correntes',\n",
       "       'Receita Patrimonial', 'Operações de Crédito',\n",
       "       'Impostos, Taxas e Contribuições de Melhoria', nan,\n",
       "       'Amortizações de Empréstimos', 'Contribuições',\n",
       "       'Receita Industrial', 'Outras Receitas de Capital',\n",
       "       'Receitas Correntes - a classificar', 'Sem informação'],\n",
       "      dtype=object)"
      ]
     },
     "execution_count": 809,
     "metadata": {},
     "output_type": "execute_result"
    }
   ],
   "source": [
    "df[\"origen ingreso\"].unique()"
   ]
  },
  {
   "cell_type": "code",
   "execution_count": 810,
   "metadata": {},
   "outputs": [
    {
     "data": {
      "text/plain": [
       "np.float64(3.7435661567665224)"
      ]
     },
     "execution_count": 810,
     "metadata": {},
     "output_type": "execute_result"
    }
   ],
   "source": [
    "df[\"origen ingreso\"].isna().sum()/df.shape[0]*100"
   ]
  },
  {
   "cell_type": "markdown",
   "metadata": {},
   "source": [
    "Tenemos un 3.8% de origenes de ingreso a nulo, como no tenemos información sidicinet como para saber de forma segura de donde vienen vamos a ponerlos como \"Sem informação\""
   ]
  },
  {
   "cell_type": "code",
   "execution_count": 811,
   "metadata": {},
   "outputs": [
    {
     "name": "stderr",
     "output_type": "stream",
     "text": [
      "C:\\Users\\Elena\\AppData\\Local\\Temp\\ipykernel_13844\\886053175.py:1: FutureWarning: A value is trying to be set on a copy of a DataFrame or Series through chained assignment using an inplace method.\n",
      "The behavior will change in pandas 3.0. This inplace method will never work because the intermediate object on which we are setting values always behaves as a copy.\n",
      "\n",
      "For example, when doing 'df[col].method(value, inplace=True)', try using 'df.method({col: value}, inplace=True)' or df[col] = df[col].method(value) instead, to perform the operation inplace on the original object.\n",
      "\n",
      "\n",
      "  df[\"origen ingreso\"].fillna(\"Sem informação\", inplace=True)\n"
     ]
    }
   ],
   "source": [
    "df[\"origen ingreso\"].fillna(\"Sem informação\", inplace=True)"
   ]
  },
  {
   "cell_type": "code",
   "execution_count": 812,
   "metadata": {},
   "outputs": [
    {
     "data": {
      "text/plain": [
       "np.int64(0)"
      ]
     },
     "execution_count": 812,
     "metadata": {},
     "output_type": "execute_result"
    }
   ],
   "source": [
    "df[\"origen ingreso\"].isna().sum()"
   ]
  },
  {
   "cell_type": "markdown",
   "metadata": {},
   "source": [
    "### 6- Gestión de los nulos de tipo ingreso."
   ]
  },
  {
   "cell_type": "code",
   "execution_count": 813,
   "metadata": {},
   "outputs": [
    {
     "data": {
      "text/plain": [
       "np.float64(3.1111444591478974)"
      ]
     },
     "execution_count": 813,
     "metadata": {},
     "output_type": "execute_result"
    }
   ],
   "source": [
    "df[\"tipo ingreso\"].isna().sum()/df.shape[0]*100"
   ]
  },
  {
   "cell_type": "markdown",
   "metadata": {},
   "source": [
    "De nuevo, en la columna \"tipo ingreso\" tenemos un 3.13% de los datos nulos, como hay muchas categorías y no sabems a cual pertenecen los nulos antes que darlos a NaN les metemos en \"Sem informação\"."
   ]
  },
  {
   "cell_type": "code",
   "execution_count": 814,
   "metadata": {},
   "outputs": [
    {
     "data": {
      "text/plain": [
       "array(['Bens, Direitos e Valores Incorporados ao Patr',\n",
       "       'Indenizações, restituições e ressarcimentos',\n",
       "       'Multas administrativas, contratuais e judicia',\n",
       "       'Demais receitas correntes', 'Receita de Serviços',\n",
       "       'Transferências de Instituições Privadas',\n",
       "       'Alienação de bens móveis',\n",
       "       'Receita da produção animal e derivados',\n",
       "       'Transferências dos Municípios e de suas Entid',\n",
       "       'Alienação de bens imóveis', 'Transferências de Pessoas Físicas',\n",
       "       'Valores Mobiliários',\n",
       "       'Exploração do patrimônio imobiliário do Estad',\n",
       "       'Operações de crédito - mercado interno', 'Taxas', nan,\n",
       "       'Delegação de Serviços Públicos Mediante Conce',\n",
       "       'Outras receitas agropecuárias', 'Amortizações de Empréstimos',\n",
       "       'Contribuições econômicas', 'Transferências de Convênios',\n",
       "       'Indenizações e restituições',\n",
       "       'Receitas da indústria de transformação', 'Contribuições sociais',\n",
       "       'Receita dívida ativa alienação de estoques de',\n",
       "       'Receita da produção vegetal',\n",
       "       'Receita dívida ativa proveniente de amortizaç',\n",
       "       'Exploração de recursos naturais',\n",
       "       'Receitas Correntes - a classificar',\n",
       "       'Receita de concessões e permissões',\n",
       "       'Demais receitas patrimoniais', 'Cessão de direitos',\n",
       "       'Transferências de Outras Instituições Pública',\n",
       "       'Operações de crédito - mercado externo', 'Impostos',\n",
       "       'Resultado do Banco Central do Brasil',\n",
       "       'Receitas decorrentes de aportes periódicos pa', 'Sem informação',\n",
       "       'Receitas de valores mobiliários',\n",
       "       'Receitas decorrentes de compensações ao Regim',\n",
       "       'Receita títulos do tesouro nacional resgatado',\n",
       "       'Remuneração das Disponibilidades do Tesouro N', 'Outras receitas',\n",
       "       'Transferências do Exterior',\n",
       "       'Transferências dos Estados e do Distrito Fede',\n",
       "       'Integralização do capital social', 'Receita da dívida ativa',\n",
       "       'Serviços Administrativos e Comerciais Gerais', 'Outros serviços',\n",
       "       'Receita Agropecuária', 'Transferências Correntes',\n",
       "       'Transferências da União e de suas Entidades',\n",
       "       'Receita Industrial', 'Serviços e Atividades Financeiras',\n",
       "       'Transferências de Capital',\n",
       "       'Serviços e Atividades Referentes à Saúde',\n",
       "       'Serviços e Atividades Referentes à Navegação ',\n",
       "       'Remuneração das Disponibilidades do Tesouro',\n",
       "       'Contribuições para Entidades Privadas de Serv',\n",
       "       'Alienação de bens intangíveis', 'Resgate de Títulos do Tesouro',\n",
       "       'Exploração do patrimônio intangível',\n",
       "       'Transferências Provenientes de Depósito Não I',\n",
       "       'Demais receitas de capital'], dtype=object)"
      ]
     },
     "execution_count": 814,
     "metadata": {},
     "output_type": "execute_result"
    }
   ],
   "source": [
    "df[\"tipo ingreso\"].unique()"
   ]
  },
  {
   "cell_type": "code",
   "execution_count": 815,
   "metadata": {},
   "outputs": [
    {
     "name": "stderr",
     "output_type": "stream",
     "text": [
      "C:\\Users\\Elena\\AppData\\Local\\Temp\\ipykernel_13844\\1751979089.py:1: FutureWarning: A value is trying to be set on a copy of a DataFrame or Series through chained assignment using an inplace method.\n",
      "The behavior will change in pandas 3.0. This inplace method will never work because the intermediate object on which we are setting values always behaves as a copy.\n",
      "\n",
      "For example, when doing 'df[col].method(value, inplace=True)', try using 'df.method({col: value}, inplace=True)' or df[col] = df[col].method(value) instead, to perform the operation inplace on the original object.\n",
      "\n",
      "\n",
      "  df[\"tipo ingreso\"].fillna(\"Sem informação\", inplace=True)\n"
     ]
    }
   ],
   "source": [
    "df[\"tipo ingreso\"].fillna(\"Sem informação\", inplace=True)"
   ]
  },
  {
   "cell_type": "code",
   "execution_count": 816,
   "metadata": {},
   "outputs": [
    {
     "data": {
      "text/plain": [
       "np.int64(0)"
      ]
     },
     "execution_count": 816,
     "metadata": {},
     "output_type": "execute_result"
    }
   ],
   "source": [
    "df[\"tipo ingreso\"].isna().sum()"
   ]
  },
  {
   "cell_type": "markdown",
   "metadata": {},
   "source": [
    "### 6- Gestión de los nulos de valores previsto, registrado, recaudado y porcentaje.\n"
   ]
  },
  {
   "cell_type": "code",
   "execution_count": 817,
   "metadata": {},
   "outputs": [
    {
     "data": {
      "text/plain": [
       "Index(['Unnamed: 0', 'id organizacion superior', 'organizacion superior',\n",
       "       'id organizacion', 'organizacion', 'id unidad gestora',\n",
       "       'unidad gestora', 'categoria economica', 'origen ingreso',\n",
       "       'tipo ingreso', 'valor previsto', 'valor registrado', 'valor recaudado',\n",
       "       'porcentaje recaudado', 'fecha recaudacion', 'anio recaudacion'],\n",
       "      dtype='object')"
      ]
     },
     "execution_count": 817,
     "metadata": {},
     "output_type": "execute_result"
    }
   ],
   "source": [
    "df.columns"
   ]
  },
  {
   "cell_type": "code",
   "execution_count": 818,
   "metadata": {},
   "outputs": [
    {
     "data": {
      "text/plain": [
       "valor previsto          51315\n",
       "valor registrado        26419\n",
       "valor recaudado         39442\n",
       "porcentaje recaudado    24134\n",
       "dtype: int64"
      ]
     },
     "execution_count": 818,
     "metadata": {},
     "output_type": "execute_result"
    }
   ],
   "source": [
    "df.isnull().sum()[[\"valor previsto\", \"valor registrado\", \"valor recaudado\", \"porcentaje recaudado\"]]"
   ]
  },
  {
   "cell_type": "code",
   "execution_count": 819,
   "metadata": {},
   "outputs": [
    {
     "data": {
      "text/plain": [
       "valor previsto          5.000419\n",
       "valor registrado        2.574414\n",
       "valor recaudado         3.843448\n",
       "porcentaje recaudado    2.351751\n",
       "dtype: float64"
      ]
     },
     "execution_count": 819,
     "metadata": {},
     "output_type": "execute_result"
    }
   ],
   "source": [
    "(df.isnull().sum()/df.shape[0]*100)[[\"valor previsto\", \"valor registrado\", \"valor recaudado\", \"porcentaje recaudado\"]]"
   ]
  },
  {
   "cell_type": "code",
   "execution_count": 820,
   "metadata": {},
   "outputs": [
    {
     "name": "stdout",
     "output_type": "stream",
     "text": [
      "(51315, 16)\n",
      "(26419, 16)\n",
      "(39442, 16)\n",
      "(24134, 16)\n",
      " Los 3 campos a null: (54, 16)\n",
      " Los 4 campos a null: (0, 16)\n"
     ]
    }
   ],
   "source": [
    "filtro1 = df[\"valor previsto\"].isnull()\n",
    "filtro2 = df[\"valor registrado\"].isnull()\n",
    "filtro3 = df[\"valor recaudado\"].isnull()\n",
    "filtro4 = df[\"porcentaje recaudado\"].isnull()\n",
    "\n",
    "filtro5 = df[\"valor previsto\"]==0\n",
    "filtro6 = df[\"valor registrado\"]==0\n",
    "filtro7 = df[\"valor recaudado\"]==0\n",
    "filtro8 = df[\"porcentaje recaudado\"]==0\n",
    "\n",
    "filtros_comb = filtro1 & filtro2 & filtro3 & filtro4\n",
    "\n",
    "print(df[filtro1].shape)\n",
    "print(df[filtro2].shape)\n",
    "print(df[filtro3].shape)\n",
    "print(df[filtro4].shape)\n",
    "print(f\" Los 3 campos a null: {df[filtro1 & filtro2 & filtro3].shape}\")\n",
    "print(f\" Los 4 campos a null: {df[filtros_comb].shape}\")"
   ]
  },
  {
   "cell_type": "markdown",
   "metadata": {},
   "source": [
    "- Para las filas que no sea null su valor recaudado y valor previsto podemos calcular su porcentaje."
   ]
  },
  {
   "cell_type": "code",
   "execution_count": 821,
   "metadata": {},
   "outputs": [
    {
     "data": {
      "text/html": [
       "<div>\n",
       "<style scoped>\n",
       "    .dataframe tbody tr th:only-of-type {\n",
       "        vertical-align: middle;\n",
       "    }\n",
       "\n",
       "    .dataframe tbody tr th {\n",
       "        vertical-align: top;\n",
       "    }\n",
       "\n",
       "    .dataframe thead th {\n",
       "        text-align: right;\n",
       "    }\n",
       "</style>\n",
       "<table border=\"1\" class=\"dataframe\">\n",
       "  <thead>\n",
       "    <tr style=\"text-align: right;\">\n",
       "      <th></th>\n",
       "      <th>Unnamed: 0</th>\n",
       "      <th>id organizacion superior</th>\n",
       "      <th>organizacion superior</th>\n",
       "      <th>id organizacion</th>\n",
       "      <th>organizacion</th>\n",
       "      <th>id unidad gestora</th>\n",
       "      <th>unidad gestora</th>\n",
       "      <th>categoria economica</th>\n",
       "      <th>origen ingreso</th>\n",
       "      <th>tipo ingreso</th>\n",
       "      <th>valor previsto</th>\n",
       "      <th>valor registrado</th>\n",
       "      <th>valor recaudado</th>\n",
       "      <th>porcentaje recaudado</th>\n",
       "      <th>fecha recaudacion</th>\n",
       "      <th>anio recaudacion</th>\n",
       "    </tr>\n",
       "  </thead>\n",
       "  <tbody>\n",
       "  </tbody>\n",
       "</table>\n",
       "</div>"
      ],
      "text/plain": [
       "Empty DataFrame\n",
       "Columns: [Unnamed: 0, id organizacion superior, organizacion superior, id organizacion, organizacion, id unidad gestora, unidad gestora, categoria economica, origen ingreso, tipo ingreso, valor previsto, valor registrado, valor recaudado, porcentaje recaudado, fecha recaudacion, anio recaudacion]\n",
       "Index: []"
      ]
     },
     "execution_count": 821,
     "metadata": {},
     "output_type": "execute_result"
    }
   ],
   "source": [
    "df[filtro5 & ~filtro3 & filtro4 & df[\"valor previsto\"]!=0].head(2)"
   ]
  },
  {
   "cell_type": "code",
   "execution_count": 822,
   "metadata": {},
   "outputs": [],
   "source": [
    "def calcular_porcentaje(fila):\n",
    "    if pd.isnull(fila['porcentaje recaudado']) and pd.notnull(fila['valor previsto']) and pd.notnull(fila['valor recaudado']) and fila['valor previsto']!=0:\n",
    "        return (fila['valor recaudado'] / fila['valor previsto']) * 100\n",
    "    return fila['porcentaje recaudado']\n",
    "\n",
    "df['porcentaje recaudado'] = df.apply(calcular_porcentaje, axis=1)"
   ]
  },
  {
   "cell_type": "code",
   "execution_count": 823,
   "metadata": {},
   "outputs": [
    {
     "data": {
      "text/plain": [
       "np.float64(2.3008846108121697)"
      ]
     },
     "execution_count": 823,
     "metadata": {},
     "output_type": "execute_result"
    }
   ],
   "source": [
    "# Algo a descendido, aunque no mucho.\n",
    "(df.isnull().sum()/df.shape[0]*100)[\"porcentaje recaudado\"]"
   ]
  },
  {
   "cell_type": "markdown",
   "metadata": {},
   "source": [
    "- Las filas que tengan los valores a null y el porcentaje a 0 no aportan nada de valor y podemos quitarlas. Lo mismo ocurre si de las 4 columnas hay 3 a null y la restante a 0, esas las quitamos. O las columnas que tienen 3 ceros y un nan, los 0 si que nos aportaría un cierto valor pero no es nada reaslita que 3 de las 4 columnas sean 0, ahí claramente está habiendo un problema a la hora de recoger los datos que sería de vital importancial solucionarlo."
   ]
  },
  {
   "cell_type": "code",
   "execution_count": 824,
   "metadata": {},
   "outputs": [
    {
     "data": {
      "text/plain": [
       "1026214"
      ]
     },
     "execution_count": 824,
     "metadata": {},
     "output_type": "execute_result"
    }
   ],
   "source": [
    "df.shape[0]"
   ]
  },
  {
   "cell_type": "code",
   "execution_count": 825,
   "metadata": {},
   "outputs": [],
   "source": [
    "# filtro: nan nan nan 0\n",
    "f1 = filtro1 & filtro2 & filtro3 & filtro8\n",
    "# filtro: nan nan 0 nan\n",
    "f2 = filtro1 & filtro2 & filtro7 & filtro4\n",
    "# filtro: nan 0 nan nan\n",
    "f3 = filtro1 & filtro6 & filtro3 & filtro4\n",
    "# filtro: 0 nan nan nan\n",
    "f4 = filtro5 & filtro2 & filtro3 & filtro4\n",
    "\n",
    "# filtro: nan 0 0 0\n",
    "f5 = filtro1 & filtro6 & filtro7 & filtro8\n",
    "# filtro: 0 nan 0 0\n",
    "f6 = filtro5 & filtro2 & filtro7 & filtro8\n",
    "# filtro: 0 0 nan 0\n",
    "f7 = filtro5 & filtro6 & filtro3 & filtro8\n",
    "# filtro: 0 0 0 nan\n",
    "f8 = filtro5 & filtro6 & filtro7 & filtro4\n",
    "# filtro: 0 0 0 0 (podría dejarlos pero es que estos valores no sería realistas y harían ruido)\n",
    "f9 = filtro5 & filtro6 & filtro7 & filtro8\n",
    "\n",
    "filtros_combo = f1 | f2 | f3 | f4 | f5 | f6 | f7 | f8 | f9\n"
   ]
  },
  {
   "cell_type": "code",
   "execution_count": 826,
   "metadata": {},
   "outputs": [
    {
     "data": {
      "text/plain": [
       "(39012, 16)"
      ]
     },
     "execution_count": 826,
     "metadata": {},
     "output_type": "execute_result"
    }
   ],
   "source": [
    "df[f1|f2|f3|f4|f5|f6|f7|f8|f9].shape"
   ]
  },
  {
   "cell_type": "code",
   "execution_count": 827,
   "metadata": {},
   "outputs": [],
   "source": [
    "df_final = df[~filtros_combo] #invierto el filtro para quedarme con las filas contrarias a las que lo cumplen."
   ]
  },
  {
   "cell_type": "code",
   "execution_count": 828,
   "metadata": {},
   "outputs": [
    {
     "data": {
      "text/plain": [
       "(987202, 16)"
      ]
     },
     "execution_count": 828,
     "metadata": {},
     "output_type": "execute_result"
    }
   ],
   "source": [
    "df_final.shape"
   ]
  },
  {
   "cell_type": "code",
   "execution_count": 829,
   "metadata": {},
   "outputs": [
    {
     "data": {
      "text/plain": [
       "'Nos hemos quedado con un 96.2% de la tabla original'"
      ]
     },
     "execution_count": 829,
     "metadata": {},
     "output_type": "execute_result"
    }
   ],
   "source": [
    "(f\"Nos hemos quedado con un {np.round(df_final.shape[0]/df.shape[0]*100, 2)}% de la tabla original\")"
   ]
  },
  {
   "cell_type": "code",
   "execution_count": 830,
   "metadata": {},
   "outputs": [
    {
     "data": {
      "text/plain": [
       "Unnamed: 0                  0.000000\n",
       "id organizacion superior    0.029680\n",
       "organizacion superior       0.029680\n",
       "id organizacion             0.087723\n",
       "organizacion                0.087723\n",
       "id unidad gestora           0.059967\n",
       "unidad gestora              0.059967\n",
       "categoria economica         0.000000\n",
       "origen ingreso              0.000000\n",
       "tipo ingreso                0.000000\n",
       "valor previsto              5.127826\n",
       "valor registrado            2.644241\n",
       "valor recaudado             0.475181\n",
       "porcentaje recaudado        2.376515\n",
       "fecha recaudacion           2.314217\n",
       "anio recaudacion            0.000000\n",
       "dtype: float64"
      ]
     },
     "execution_count": 830,
     "metadata": {},
     "output_type": "execute_result"
    }
   ],
   "source": [
    "df_final.isnull().sum()/df_final.shape[0]*100"
   ]
  },
  {
   "cell_type": "code",
   "execution_count": 831,
   "metadata": {},
   "outputs": [
    {
     "data": {
      "text/plain": [
       "Unnamed: 0                           int64\n",
       "id organizacion superior           float64\n",
       "organizacion superior               object\n",
       "id organizacion                    float64\n",
       "organizacion                        object\n",
       "id unidad gestora                  float64\n",
       "unidad gestora                      object\n",
       "categoria economica                 object\n",
       "origen ingreso                      object\n",
       "tipo ingreso                        object\n",
       "valor previsto                     float64\n",
       "valor registrado                   float64\n",
       "valor recaudado                    float64\n",
       "porcentaje recaudado               float64\n",
       "fecha recaudacion           datetime64[ns]\n",
       "anio recaudacion                   float64\n",
       "dtype: object"
      ]
     },
     "execution_count": 831,
     "metadata": {},
     "output_type": "execute_result"
    }
   ],
   "source": [
    "df_final.dtypes"
   ]
  },
  {
   "cell_type": "markdown",
   "metadata": {},
   "source": [
    "### 7- Gestión de los nulos de fecha recaudación.\n"
   ]
  },
  {
   "cell_type": "markdown",
   "metadata": {},
   "source": [
    "Un 2.3% de los datos de la columna son nulos, no hay forma de reemplazarlos por una fecha, pero por lo menos tenemos la columna de año y podriamos borara esta pero si quisieramos acceder a los meses ya no se podría por lo que por ahora vamos a dejarla como esta."
   ]
  },
  {
   "cell_type": "markdown",
   "metadata": {},
   "source": [
    "## Operaciones finales"
   ]
  },
  {
   "cell_type": "code",
   "execution_count": 832,
   "metadata": {},
   "outputs": [],
   "source": [
    "df_final.reset_index(inplace=True)"
   ]
  },
  {
   "cell_type": "code",
   "execution_count": 833,
   "metadata": {},
   "outputs": [],
   "source": [
    "df_final = df_final.drop(columns=['Unnamed: 0', 'index'])\n"
   ]
  },
  {
   "cell_type": "code",
   "execution_count": 834,
   "metadata": {},
   "outputs": [
    {
     "data": {
      "text/html": [
       "<div>\n",
       "<style scoped>\n",
       "    .dataframe tbody tr th:only-of-type {\n",
       "        vertical-align: middle;\n",
       "    }\n",
       "\n",
       "    .dataframe tbody tr th {\n",
       "        vertical-align: top;\n",
       "    }\n",
       "\n",
       "    .dataframe thead th {\n",
       "        text-align: right;\n",
       "    }\n",
       "</style>\n",
       "<table border=\"1\" class=\"dataframe\">\n",
       "  <thead>\n",
       "    <tr style=\"text-align: right;\">\n",
       "      <th></th>\n",
       "      <th>id organizacion superior</th>\n",
       "      <th>organizacion superior</th>\n",
       "      <th>id organizacion</th>\n",
       "      <th>organizacion</th>\n",
       "      <th>id unidad gestora</th>\n",
       "      <th>unidad gestora</th>\n",
       "      <th>categoria economica</th>\n",
       "      <th>origen ingreso</th>\n",
       "      <th>tipo ingreso</th>\n",
       "      <th>valor previsto</th>\n",
       "      <th>valor registrado</th>\n",
       "      <th>valor recaudado</th>\n",
       "      <th>porcentaje recaudado</th>\n",
       "      <th>fecha recaudacion</th>\n",
       "      <th>anio recaudacion</th>\n",
       "    </tr>\n",
       "  </thead>\n",
       "  <tbody>\n",
       "    <tr>\n",
       "      <th>0</th>\n",
       "      <td>63000.0</td>\n",
       "      <td>Advocacia-Geral da União</td>\n",
       "      <td>63000.0</td>\n",
       "      <td>Advocacia-Geral da União - Unidades com víncul...</td>\n",
       "      <td>110060.0</td>\n",
       "      <td>COORD. GERAL DE ORC. FIN. E ANAL. CONT. - AGU</td>\n",
       "      <td>Receitas Correntes</td>\n",
       "      <td>Outras Receitas Correntes</td>\n",
       "      <td>Bens, Direitos e Valores Incorporados ao Patr</td>\n",
       "      <td>0.0</td>\n",
       "      <td>0.0</td>\n",
       "      <td>1297.13</td>\n",
       "      <td>0.0</td>\n",
       "      <td>2013-12-31</td>\n",
       "      <td>2013.0</td>\n",
       "    </tr>\n",
       "    <tr>\n",
       "      <th>1</th>\n",
       "      <td>63000.0</td>\n",
       "      <td>Advocacia-Geral da União</td>\n",
       "      <td>63000.0</td>\n",
       "      <td>Advocacia-Geral da União - Unidades com víncul...</td>\n",
       "      <td>110060.0</td>\n",
       "      <td>COORD. GERAL DE ORC. FIN. E ANAL. CONT. - AGU</td>\n",
       "      <td>Receitas Correntes</td>\n",
       "      <td>Outras Receitas Correntes</td>\n",
       "      <td>Indenizações, restituições e ressarcimentos</td>\n",
       "      <td>0.0</td>\n",
       "      <td>0.0</td>\n",
       "      <td>26666621.42</td>\n",
       "      <td>0.0</td>\n",
       "      <td>2013-12-31</td>\n",
       "      <td>2013.0</td>\n",
       "    </tr>\n",
       "    <tr>\n",
       "      <th>2</th>\n",
       "      <td>63000.0</td>\n",
       "      <td>Advocacia-Geral da União</td>\n",
       "      <td>63000.0</td>\n",
       "      <td>Advocacia-Geral da União - Unidades com víncul...</td>\n",
       "      <td>110060.0</td>\n",
       "      <td>COORD. GERAL DE ORC. FIN. E ANAL. CONT. - AGU</td>\n",
       "      <td>Receitas Correntes</td>\n",
       "      <td>Outras Receitas Correntes</td>\n",
       "      <td>Multas administrativas, contratuais e judicia</td>\n",
       "      <td>0.0</td>\n",
       "      <td>0.0</td>\n",
       "      <td>301251.13</td>\n",
       "      <td>0.0</td>\n",
       "      <td>2013-12-31</td>\n",
       "      <td>2013.0</td>\n",
       "    </tr>\n",
       "    <tr>\n",
       "      <th>3</th>\n",
       "      <td>63000.0</td>\n",
       "      <td>Advocacia-Geral da União</td>\n",
       "      <td>63000.0</td>\n",
       "      <td>Advocacia-Geral da União - Unidades com víncul...</td>\n",
       "      <td>110060.0</td>\n",
       "      <td>COORD. GERAL DE ORC. FIN. E ANAL. CONT. - AGU</td>\n",
       "      <td>Receitas Correntes</td>\n",
       "      <td>Outras Receitas Correntes</td>\n",
       "      <td>Bens, Direitos e Valores Incorporados ao Patr</td>\n",
       "      <td>0.0</td>\n",
       "      <td>0.0</td>\n",
       "      <td>1855.58</td>\n",
       "      <td>0.0</td>\n",
       "      <td>2013-12-31</td>\n",
       "      <td>2013.0</td>\n",
       "    </tr>\n",
       "    <tr>\n",
       "      <th>4</th>\n",
       "      <td>63000.0</td>\n",
       "      <td>Advocacia-Geral da União</td>\n",
       "      <td>63000.0</td>\n",
       "      <td>Advocacia-Geral da União - Unidades com víncul...</td>\n",
       "      <td>110060.0</td>\n",
       "      <td>COORD. GERAL DE ORC. FIN. E ANAL. CONT. - AGU</td>\n",
       "      <td>Receitas Correntes</td>\n",
       "      <td>Outras Receitas Correntes</td>\n",
       "      <td>Indenizações, restituições e ressarcimentos</td>\n",
       "      <td>0.0</td>\n",
       "      <td>0.0</td>\n",
       "      <td>52140.68</td>\n",
       "      <td>0.0</td>\n",
       "      <td>2013-12-31</td>\n",
       "      <td>2013.0</td>\n",
       "    </tr>\n",
       "  </tbody>\n",
       "</table>\n",
       "</div>"
      ],
      "text/plain": [
       "   id organizacion superior     organizacion superior  id organizacion  \\\n",
       "0                   63000.0  Advocacia-Geral da União          63000.0   \n",
       "1                   63000.0  Advocacia-Geral da União          63000.0   \n",
       "2                   63000.0  Advocacia-Geral da União          63000.0   \n",
       "3                   63000.0  Advocacia-Geral da União          63000.0   \n",
       "4                   63000.0  Advocacia-Geral da União          63000.0   \n",
       "\n",
       "                                        organizacion  id unidad gestora  \\\n",
       "0  Advocacia-Geral da União - Unidades com víncul...           110060.0   \n",
       "1  Advocacia-Geral da União - Unidades com víncul...           110060.0   \n",
       "2  Advocacia-Geral da União - Unidades com víncul...           110060.0   \n",
       "3  Advocacia-Geral da União - Unidades com víncul...           110060.0   \n",
       "4  Advocacia-Geral da União - Unidades com víncul...           110060.0   \n",
       "\n",
       "                                  unidad gestora categoria economica  \\\n",
       "0  COORD. GERAL DE ORC. FIN. E ANAL. CONT. - AGU  Receitas Correntes   \n",
       "1  COORD. GERAL DE ORC. FIN. E ANAL. CONT. - AGU  Receitas Correntes   \n",
       "2  COORD. GERAL DE ORC. FIN. E ANAL. CONT. - AGU  Receitas Correntes   \n",
       "3  COORD. GERAL DE ORC. FIN. E ANAL. CONT. - AGU  Receitas Correntes   \n",
       "4  COORD. GERAL DE ORC. FIN. E ANAL. CONT. - AGU  Receitas Correntes   \n",
       "\n",
       "              origen ingreso                                   tipo ingreso  \\\n",
       "0  Outras Receitas Correntes  Bens, Direitos e Valores Incorporados ao Patr   \n",
       "1  Outras Receitas Correntes    Indenizações, restituições e ressarcimentos   \n",
       "2  Outras Receitas Correntes  Multas administrativas, contratuais e judicia   \n",
       "3  Outras Receitas Correntes  Bens, Direitos e Valores Incorporados ao Patr   \n",
       "4  Outras Receitas Correntes    Indenizações, restituições e ressarcimentos   \n",
       "\n",
       "   valor previsto  valor registrado  valor recaudado  porcentaje recaudado  \\\n",
       "0             0.0               0.0          1297.13                   0.0   \n",
       "1             0.0               0.0      26666621.42                   0.0   \n",
       "2             0.0               0.0        301251.13                   0.0   \n",
       "3             0.0               0.0          1855.58                   0.0   \n",
       "4             0.0               0.0         52140.68                   0.0   \n",
       "\n",
       "  fecha recaudacion  anio recaudacion  \n",
       "0        2013-12-31            2013.0  \n",
       "1        2013-12-31            2013.0  \n",
       "2        2013-12-31            2013.0  \n",
       "3        2013-12-31            2013.0  \n",
       "4        2013-12-31            2013.0  "
      ]
     },
     "execution_count": 834,
     "metadata": {},
     "output_type": "execute_result"
    }
   ],
   "source": [
    "df_final.head()"
   ]
  },
  {
   "cell_type": "code",
   "execution_count": 835,
   "metadata": {},
   "outputs": [
    {
     "data": {
      "text/plain": [
       "id organizacion superior    0.029680\n",
       "organizacion superior       0.029680\n",
       "id organizacion             0.087723\n",
       "organizacion                0.087723\n",
       "id unidad gestora           0.059967\n",
       "unidad gestora              0.059967\n",
       "categoria economica         0.000000\n",
       "origen ingreso              0.000000\n",
       "tipo ingreso                0.000000\n",
       "valor previsto              5.127826\n",
       "valor registrado            2.644241\n",
       "valor recaudado             0.475181\n",
       "porcentaje recaudado        2.376515\n",
       "fecha recaudacion           2.314217\n",
       "anio recaudacion            0.000000\n",
       "dtype: float64"
      ]
     },
     "execution_count": 835,
     "metadata": {},
     "output_type": "execute_result"
    }
   ],
   "source": [
    "(df_final.isnull().sum()/df_final.shape[0]*100)"
   ]
  },
  {
   "cell_type": "code",
   "execution_count": 836,
   "metadata": {},
   "outputs": [],
   "source": [
    "df_final.to_csv(\"../datos/tabla_limpia.csv\")"
   ]
  },
  {
   "cell_type": "markdown",
   "metadata": {},
   "source": [
    "# Conclusiones"
   ]
  },
  {
   "cell_type": "markdown",
   "metadata": {},
   "source": [
    "1 - Hemos corregido los nombres de las organizaciones superiores a partir de los id y han quedado solo 10543 sin corregir lo que representa un 1.04% del total. Lo mismo hemos hecho para corregir los id a partir del nombre de la organización superioir, de nuevo queda un 1.04% sin corregir el cual representa las filas donde ambas columnas tienen valores nulos. porterioirmente hemos conseguido reducirlo a un 0.03%.\n",
    "\n",
    "2 - Hemos corregido los nombres de las organizaciones a partir de los id y han quedado solo 905 sin corregir lo que representa un 0.1% del total. Lo mismo hemos hecho para corregir los id a partir del nombre de la organización, de nuevo queda un 0.1% sin corregir el cual representa las filas donde ambas columnas tienen valores nulos.\n",
    "\n",
    "3 - Hemos corregido los nombres de las unidades gestoras a partir de los id y han quedado solo 614 sin corregir lo que representa un 0.06% del total. Lo mismo hemos hecho para corregir los id a partir del nombre de la unidad gestora, de nuevo queda un 0.06% sin corregir el cual representa las filas donde ambas columnas tienen valores nulos.\n",
    "\n",
    "4 - Para las columnas 'categoria economica', 'origen ingreso', 'tipo ingreso', los nulos al no poder ser gestionados pues no sabemos que valor pueden tener los hemos asignado como \"Sem informação\" antes que dejarlos como nulos.\n",
    "\n",
    "5 - Para las columnas de \"valor previsto\", \"valor registrado\", \"valor recaudado\", \"porcentaje recaudado\", aparecen una grandísima cantidad de valors nulos lo que nos imposibilita realizar un buen EDA. A modo de limpieza hemos eliminado una gran cantidad de datos que no aportaban valor, quedandonos con tan solo un 0.65% de la tabla original. Si esto fuera un caso real no tendría sentido continuar con el estudio ya que de los datos aportados solo nos serían útiles menos de un 1% (y ni eso). Por lo que le pediría al gobierno de Brasil que por favor revisara estos datos y me los devolviera con unos valores más fieles a la realidad. Pero por ahora continuaremos con lo que hemos calculado.\n",
    "\n",
    "6 - Los nulos de la fecha de recaudación no puedo gestionarlos de ninguna manera por lo que los mantengo.\n"
   ]
  }
 ],
 "metadata": {
  "kernelspec": {
   "display_name": "Python 3",
   "language": "python",
   "name": "python3"
  },
  "language_info": {
   "codemirror_mode": {
    "name": "ipython",
    "version": 3
   },
   "file_extension": ".py",
   "mimetype": "text/x-python",
   "name": "python",
   "nbconvert_exporter": "python",
   "pygments_lexer": "ipython3",
   "version": "3.11.9"
  }
 },
 "nbformat": 4,
 "nbformat_minor": 2
}
