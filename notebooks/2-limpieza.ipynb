{
 "cells": [
  {
   "cell_type": "markdown",
   "metadata": {},
   "source": [
    "# Fase 2: Limpieza de Datos"
   ]
  },
  {
   "cell_type": "code",
   "execution_count": 1,
   "metadata": {},
   "outputs": [],
   "source": [
    "import pandas as pd\n",
    "import numpy as np\n",
    "import json\n",
    "\n",
    "import sys\n",
    "import os\n",
    "\n",
    "# Agregar el directorio 'src' al path\n",
    "sys.path.append(os.path.abspath('../src'))\n",
    "\n",
    "# Importar la función suma del módulo auxiliares\n",
    "import soporte_limpieza as sl"
   ]
  },
  {
   "cell_type": "code",
   "execution_count": 2,
   "metadata": {},
   "outputs": [
    {
     "data": {
      "text/html": [
       "<div>\n",
       "<style scoped>\n",
       "    .dataframe tbody tr th:only-of-type {\n",
       "        vertical-align: middle;\n",
       "    }\n",
       "\n",
       "    .dataframe tbody tr th {\n",
       "        vertical-align: top;\n",
       "    }\n",
       "\n",
       "    .dataframe thead th {\n",
       "        text-align: right;\n",
       "    }\n",
       "</style>\n",
       "<table border=\"1\" class=\"dataframe\">\n",
       "  <thead>\n",
       "    <tr style=\"text-align: right;\">\n",
       "      <th></th>\n",
       "      <th>Unnamed: 0</th>\n",
       "      <th>id organizacion superior</th>\n",
       "      <th>organizacion superior</th>\n",
       "      <th>id organizacion</th>\n",
       "      <th>organizacion</th>\n",
       "      <th>id unidad gestora</th>\n",
       "      <th>unidad gestora</th>\n",
       "      <th>categoria economica</th>\n",
       "      <th>origen ingreso</th>\n",
       "      <th>tipo ingreso</th>\n",
       "      <th>valor previsto</th>\n",
       "      <th>valor registrado</th>\n",
       "      <th>valor recaudado</th>\n",
       "      <th>porcentaje recaudado</th>\n",
       "      <th>fecha recaudacion</th>\n",
       "      <th>anio recaudacion</th>\n",
       "    </tr>\n",
       "  </thead>\n",
       "  <tbody>\n",
       "    <tr>\n",
       "      <th>0</th>\n",
       "      <td>0</td>\n",
       "      <td>63000.0</td>\n",
       "      <td>NaN</td>\n",
       "      <td>63000.0</td>\n",
       "      <td>Advocacia-Geral da União - Unidades com víncul...</td>\n",
       "      <td>110060.0</td>\n",
       "      <td>COORD. GERAL DE ORC. FIN. E ANAL. CONT. - AGU</td>\n",
       "      <td>Receitas Correntes</td>\n",
       "      <td>Outras Receitas Correntes</td>\n",
       "      <td>Bens, Direitos e Valores Incorporados ao Patr</td>\n",
       "      <td>0.0</td>\n",
       "      <td>0.0</td>\n",
       "      <td>0.0</td>\n",
       "      <td>0.0</td>\n",
       "      <td>2013-12-31</td>\n",
       "      <td>2013.0</td>\n",
       "    </tr>\n",
       "    <tr>\n",
       "      <th>1</th>\n",
       "      <td>1</td>\n",
       "      <td>63000.0</td>\n",
       "      <td>Advocacia-Geral da União</td>\n",
       "      <td>63000.0</td>\n",
       "      <td>Advocacia-Geral da União - Unidades com víncul...</td>\n",
       "      <td>110060.0</td>\n",
       "      <td>COORD. GERAL DE ORC. FIN. E ANAL. CONT. - AGU</td>\n",
       "      <td>Receitas Correntes</td>\n",
       "      <td>Outras Receitas Correntes</td>\n",
       "      <td>Indenizações, restituições e ressarcimentos</td>\n",
       "      <td>0.0</td>\n",
       "      <td>0.0</td>\n",
       "      <td>0.0</td>\n",
       "      <td>0.0</td>\n",
       "      <td>2013-12-31</td>\n",
       "      <td>2013.0</td>\n",
       "    </tr>\n",
       "  </tbody>\n",
       "</table>\n",
       "</div>"
      ],
      "text/plain": [
       "   Unnamed: 0  id organizacion superior     organizacion superior  \\\n",
       "0           0                   63000.0                       NaN   \n",
       "1           1                   63000.0  Advocacia-Geral da União   \n",
       "\n",
       "   id organizacion                                       organizacion  \\\n",
       "0          63000.0  Advocacia-Geral da União - Unidades com víncul...   \n",
       "1          63000.0  Advocacia-Geral da União - Unidades com víncul...   \n",
       "\n",
       "   id unidad gestora                                 unidad gestora  \\\n",
       "0           110060.0  COORD. GERAL DE ORC. FIN. E ANAL. CONT. - AGU   \n",
       "1           110060.0  COORD. GERAL DE ORC. FIN. E ANAL. CONT. - AGU   \n",
       "\n",
       "  categoria economica             origen ingreso  \\\n",
       "0  Receitas Correntes  Outras Receitas Correntes   \n",
       "1  Receitas Correntes  Outras Receitas Correntes   \n",
       "\n",
       "                                    tipo ingreso  valor previsto  \\\n",
       "0  Bens, Direitos e Valores Incorporados ao Patr             0.0   \n",
       "1    Indenizações, restituições e ressarcimentos             0.0   \n",
       "\n",
       "   valor registrado  valor recaudado  porcentaje recaudado fecha recaudacion  \\\n",
       "0               0.0              0.0                   0.0        2013-12-31   \n",
       "1               0.0              0.0                   0.0        2013-12-31   \n",
       "\n",
       "   anio recaudacion  \n",
       "0            2013.0  \n",
       "1            2013.0  "
      ]
     },
     "execution_count": 2,
     "metadata": {},
     "output_type": "execute_result"
    }
   ],
   "source": [
    "df = pd.read_csv(\"../datos/tablas_concatenadas.csv\")\n",
    "df.head(2)"
   ]
  },
  {
   "cell_type": "code",
   "execution_count": 3,
   "metadata": {},
   "outputs": [
    {
     "data": {
      "text/plain": [
       "Unnamed: 0                       0\n",
       "id organizacion superior     30351\n",
       "organizacion superior       357007\n",
       "id organizacion              25111\n",
       "organizacion                 34861\n",
       "id unidad gestora            33566\n",
       "unidad gestora               19470\n",
       "categoria economica          18971\n",
       "origen ingreso               38394\n",
       "tipo ingreso                 31905\n",
       "valor previsto               51276\n",
       "valor registrado             51276\n",
       "valor recaudado              51276\n",
       "porcentaje recaudado         51276\n",
       "fecha recaudacion            16324\n",
       "anio recaudacion                 0\n",
       "dtype: int64"
      ]
     },
     "execution_count": 3,
     "metadata": {},
     "output_type": "execute_result"
    }
   ],
   "source": [
    "df.isnull().sum()"
   ]
  },
  {
   "cell_type": "markdown",
   "metadata": {},
   "source": [
    "### 1- Gestión de los nulos de id organizacion superior y organizacion superior."
   ]
  },
  {
   "cell_type": "markdown",
   "metadata": {},
   "source": [
    "Vamos a ver si podemos crear un diccionario para los id y los nombres de la organización superior."
   ]
  },
  {
   "cell_type": "code",
   "execution_count": 4,
   "metadata": {},
   "outputs": [
    {
     "data": {
      "text/plain": [
       "26"
      ]
     },
     "execution_count": 4,
     "metadata": {},
     "output_type": "execute_result"
    }
   ],
   "source": [
    "len(df[\"id organizacion superior\"].unique())"
   ]
  },
  {
   "cell_type": "code",
   "execution_count": 5,
   "metadata": {},
   "outputs": [
    {
     "data": {
      "text/plain": [
       "26"
      ]
     },
     "execution_count": 5,
     "metadata": {},
     "output_type": "execute_result"
    }
   ],
   "source": [
    "len(df[\"organizacion superior\"].unique())"
   ]
  },
  {
   "cell_type": "markdown",
   "metadata": {},
   "source": [
    "A priori parece que hay el mismo numero de ids que de nombres, buena señal."
   ]
  },
  {
   "cell_type": "code",
   "execution_count": 6,
   "metadata": {},
   "outputs": [
    {
     "data": {
      "text/plain": [
       "[np.float64(63000.0),\n",
       " np.float64(37000.0),\n",
       " np.float64(nan),\n",
       " np.float64(22000.0),\n",
       " np.float64(55000.0),\n",
       " np.float64(24000.0),\n",
       " np.float64(52000.0),\n",
       " np.float64(25000.0),\n",
       " np.float64(26000.0),\n",
       " np.float64(39000.0),\n",
       " np.float64(30000.0),\n",
       " np.float64(81000.0),\n",
       " np.float64(58000.0),\n",
       " np.float64(33000.0),\n",
       " np.float64(36000.0),\n",
       " np.float64(41000.0),\n",
       " np.float64(57000.0),\n",
       " np.float64(35000.0),\n",
       " np.float64(32000.0),\n",
       " np.float64(49000.0),\n",
       " np.float64(53000.0),\n",
       " np.float64(51000.0),\n",
       " np.float64(44000.0),\n",
       " np.float64(38000.0),\n",
       " np.float64(54000.0),\n",
       " np.float64(20000.0)]"
      ]
     },
     "execution_count": 6,
     "metadata": {},
     "output_type": "execute_result"
    }
   ],
   "source": [
    "lista_id_os = list(df[\"id organizacion superior\"].unique())\n",
    "lista_id_os"
   ]
  },
  {
   "cell_type": "code",
   "execution_count": 7,
   "metadata": {},
   "outputs": [
    {
     "name": "stdout",
     "output_type": "stream",
     "text": [
      "\n",
      "63000.0\n",
      "1\n",
      "\n",
      "37000.0\n",
      "1\n",
      "\n",
      "nan\n",
      "0\n",
      "\n",
      "22000.0\n",
      "1\n",
      "\n",
      "55000.0\n",
      "1\n",
      "\n",
      "24000.0\n",
      "1\n",
      "\n",
      "52000.0\n",
      "1\n",
      "\n",
      "25000.0\n",
      "1\n",
      "\n",
      "26000.0\n",
      "1\n",
      "\n",
      "39000.0\n",
      "1\n",
      "\n",
      "30000.0\n",
      "1\n",
      "\n",
      "81000.0\n",
      "1\n",
      "\n",
      "58000.0\n",
      "1\n",
      "\n",
      "33000.0\n",
      "1\n",
      "\n",
      "36000.0\n",
      "1\n",
      "\n",
      "41000.0\n",
      "1\n",
      "\n",
      "57000.0\n",
      "1\n",
      "\n",
      "35000.0\n",
      "1\n",
      "\n",
      "32000.0\n",
      "1\n",
      "\n",
      "49000.0\n",
      "1\n",
      "\n",
      "53000.0\n",
      "1\n",
      "\n",
      "51000.0\n",
      "1\n",
      "\n",
      "44000.0\n",
      "1\n",
      "\n",
      "38000.0\n",
      "1\n",
      "\n",
      "54000.0\n",
      "1\n",
      "\n",
      "20000.0\n",
      "1\n"
     ]
    }
   ],
   "source": [
    "for id in lista_id_os:\n",
    "    print(f\"\\n{id}\")\n",
    "    filtro1 = df[\"id organizacion superior\"] == float(id)\n",
    "    filtro2 = df[\"organizacion superior\"].notnull()\n",
    "    print(len(df[filtro1 & filtro2][\"organizacion superior\"].unique()))"
   ]
  },
  {
   "cell_type": "markdown",
   "metadata": {},
   "source": [
    "Como vemos que para cada id hay un unico valor creamos un diccionario:"
   ]
  },
  {
   "cell_type": "code",
   "execution_count": 8,
   "metadata": {},
   "outputs": [],
   "source": [
    "dic_id_os = {}\n",
    "for id in lista_id_os:\n",
    "    try:\n",
    "        filtro1 = df[\"id organizacion superior\"] == float(id)\n",
    "        filtro2 = df[\"organizacion superior\"].notnull()\n",
    "        dic_id_os[float(id)]=df[filtro1 & filtro2][\"organizacion superior\"].unique()[0]\n",
    "    except:\n",
    "        pass"
   ]
  },
  {
   "cell_type": "code",
   "execution_count": 9,
   "metadata": {},
   "outputs": [
    {
     "data": {
      "text/plain": [
       "{63000.0: 'Advocacia-Geral da União',\n",
       " 37000.0: 'Controladoria-Geral da União',\n",
       " 22000.0: 'Ministério da Agricultura, Pecuária e Abastec',\n",
       " 55000.0: 'Ministério da Cidadania',\n",
       " 24000.0: 'Ministério da Ciência, Tecnologia, Inovações ',\n",
       " 52000.0: 'Ministério da Defesa',\n",
       " 25000.0: 'Ministério da Economia',\n",
       " 26000.0: 'Ministério da Educação',\n",
       " 39000.0: 'Ministério da Infraestrutura',\n",
       " 30000.0: 'Ministério da Justiça e Segurança Pública',\n",
       " 81000.0: 'Ministério da Mulher, Família e Direitos Huma',\n",
       " 58000.0: 'Ministério da Pesca e Aquicultura',\n",
       " 33000.0: 'Ministério da Previdência Social',\n",
       " 36000.0: 'Ministério da Saúde',\n",
       " 41000.0: 'Ministério das Comunicações',\n",
       " 57000.0: 'Ministério das Mulheres, Igualdade Racial, da',\n",
       " 35000.0: 'Ministério das Relações Exteriores',\n",
       " 32000.0: 'Ministério de Minas e Energia',\n",
       " 49000.0: 'Ministério do Desenvolvimento Agrário',\n",
       " 53000.0: 'Ministério do Desenvolvimento Regional',\n",
       " 51000.0: 'Ministério do Esporte',\n",
       " 44000.0: 'Ministério do Meio Ambiente',\n",
       " 38000.0: 'Ministério do Trabalho e Emprego',\n",
       " 54000.0: 'Ministério do Turismo',\n",
       " 20000.0: 'Presidência da República'}"
      ]
     },
     "execution_count": 9,
     "metadata": {},
     "output_type": "execute_result"
    }
   ],
   "source": [
    "dic_id_os"
   ]
  },
  {
   "cell_type": "markdown",
   "metadata": {},
   "source": [
    "Ya con nuestro diccionario vamos a rellenar los nombres e id de las organizaciones superiores."
   ]
  },
  {
   "cell_type": "markdown",
   "metadata": {},
   "source": [
    "Hemos comprobado que todos los campos de organización superior concuerdan con su id a excepción de cuando son NaN, corregimos los NaN. además quedarán sin corregir aquellas filas donde id y organización superioir son ambos NaN."
   ]
  },
  {
   "cell_type": "code",
   "execution_count": 10,
   "metadata": {},
   "outputs": [
    {
     "data": {
      "text/plain": [
       "(10543, 16)"
      ]
     },
     "execution_count": 10,
     "metadata": {},
     "output_type": "execute_result"
    }
   ],
   "source": [
    "# filas que van a quedar sin corregir.\n",
    "filtro1 = df[\"id organizacion superior\"].isnull()\n",
    "filtro2 = df[\"organizacion superior\"].isnull()\n",
    "df[filtro1 & filtro2].shape"
   ]
  },
  {
   "cell_type": "code",
   "execution_count": 11,
   "metadata": {},
   "outputs": [
    {
     "name": "stderr",
     "output_type": "stream",
     "text": [
      "C:\\Users\\Elena\\AppData\\Local\\Temp\\ipykernel_23924\\3684483159.py:1: FutureWarning: A value is trying to be set on a copy of a DataFrame or Series through chained assignment using an inplace method.\n",
      "The behavior will change in pandas 3.0. This inplace method will never work because the intermediate object on which we are setting values always behaves as a copy.\n",
      "\n",
      "For example, when doing 'df[col].method(value, inplace=True)', try using 'df.method({col: value}, inplace=True)' or df[col] = df[col].method(value) instead, to perform the operation inplace on the original object.\n",
      "\n",
      "\n",
      "  df[\"organizacion superior\"].fillna(df[\"id organizacion superior\"].map(dic_id_os), inplace=True)\n"
     ]
    }
   ],
   "source": [
    "df[\"organizacion superior\"].fillna(df[\"id organizacion superior\"].map(dic_id_os), inplace=True)"
   ]
  },
  {
   "cell_type": "code",
   "execution_count": 12,
   "metadata": {},
   "outputs": [
    {
     "name": "stdout",
     "output_type": "stream",
     "text": [
      "Han quedado a null 10543, es decir, un 1.04% del total de las organizaciones superiores.\n"
     ]
    }
   ],
   "source": [
    "os_null = df[df[\"organizacion superior\"].isnull()].shape[0]\n",
    "os_sin_corregir = os_null/df.shape[0]*100\n",
    "print(f\"Han quedado a null {os_null}, es decir, un {np.round(os_sin_corregir,2)}% del total de las organizaciones superiores.\")"
   ]
  },
  {
   "cell_type": "code",
   "execution_count": 13,
   "metadata": {},
   "outputs": [
    {
     "data": {
      "text/plain": [
       "30351"
      ]
     },
     "execution_count": 13,
     "metadata": {},
     "output_type": "execute_result"
    }
   ],
   "source": [
    "df[df[\"id organizacion superior\"].isnull()].shape[0]"
   ]
  },
  {
   "cell_type": "markdown",
   "metadata": {},
   "source": [
    "Como podemos ver ids hay 30351 a null los cuales podemos corregir al rededor de unos 20000 a partir del nombre de la organizacion superior."
   ]
  },
  {
   "cell_type": "code",
   "execution_count": 14,
   "metadata": {},
   "outputs": [
    {
     "data": {
      "text/plain": [
       "{'Advocacia-Geral da União': 63000.0,\n",
       " 'Controladoria-Geral da União': 37000.0,\n",
       " 'Ministério da Agricultura, Pecuária e Abastec': 22000.0,\n",
       " 'Ministério da Cidadania': 55000.0,\n",
       " 'Ministério da Ciência, Tecnologia, Inovações ': 24000.0,\n",
       " 'Ministério da Defesa': 52000.0,\n",
       " 'Ministério da Economia': 25000.0,\n",
       " 'Ministério da Educação': 26000.0,\n",
       " 'Ministério da Infraestrutura': 39000.0,\n",
       " 'Ministério da Justiça e Segurança Pública': 30000.0,\n",
       " 'Ministério da Mulher, Família e Direitos Huma': 81000.0,\n",
       " 'Ministério da Pesca e Aquicultura': 58000.0,\n",
       " 'Ministério da Previdência Social': 33000.0,\n",
       " 'Ministério da Saúde': 36000.0,\n",
       " 'Ministério das Comunicações': 41000.0,\n",
       " 'Ministério das Mulheres, Igualdade Racial, da': 57000.0,\n",
       " 'Ministério das Relações Exteriores': 35000.0,\n",
       " 'Ministério de Minas e Energia': 32000.0,\n",
       " 'Ministério do Desenvolvimento Agrário': 49000.0,\n",
       " 'Ministério do Desenvolvimento Regional': 53000.0,\n",
       " 'Ministério do Esporte': 51000.0,\n",
       " 'Ministério do Meio Ambiente': 44000.0,\n",
       " 'Ministério do Trabalho e Emprego': 38000.0,\n",
       " 'Ministério do Turismo': 54000.0,\n",
       " 'Presidência da República': 20000.0}"
      ]
     },
     "execution_count": 14,
     "metadata": {},
     "output_type": "execute_result"
    }
   ],
   "source": [
    "#Invertimos el diccionario\n",
    "dic_organizaciones_id = {valor: clave for clave, valor in dic_id_os.items()}\n",
    "dic_organizaciones_id\n"
   ]
  },
  {
   "cell_type": "code",
   "execution_count": 15,
   "metadata": {},
   "outputs": [
    {
     "name": "stderr",
     "output_type": "stream",
     "text": [
      "C:\\Users\\Elena\\AppData\\Local\\Temp\\ipykernel_23924\\1809695679.py:1: FutureWarning: A value is trying to be set on a copy of a DataFrame or Series through chained assignment using an inplace method.\n",
      "The behavior will change in pandas 3.0. This inplace method will never work because the intermediate object on which we are setting values always behaves as a copy.\n",
      "\n",
      "For example, when doing 'df[col].method(value, inplace=True)', try using 'df.method({col: value}, inplace=True)' or df[col] = df[col].method(value) instead, to perform the operation inplace on the original object.\n",
      "\n",
      "\n",
      "  df[\"id organizacion superior\"].fillna(df[\"organizacion superior\"].map(dic_organizaciones_id), inplace=True)\n"
     ]
    }
   ],
   "source": [
    "df[\"id organizacion superior\"].fillna(df[\"organizacion superior\"].map(dic_organizaciones_id), inplace=True)"
   ]
  },
  {
   "cell_type": "code",
   "execution_count": 16,
   "metadata": {},
   "outputs": [
    {
     "data": {
      "text/plain": [
       "10543"
      ]
     },
     "execution_count": 16,
     "metadata": {},
     "output_type": "execute_result"
    }
   ],
   "source": [
    "df[df[\"id organizacion superior\"].isnull()].shape[0]"
   ]
  },
  {
   "cell_type": "markdown",
   "metadata": {},
   "source": [
    "Comprobamos cuantos null hay ahora y efectivamente se han reducido hasta 10543, los mismo que para los nombres de las organizaciones superiores ya que son todas las filas que tienen ambos campos a null. Aunque al represenatr un 1% y al no haber forma de arreglarlo puede ser despreciable."
   ]
  },
  {
   "cell_type": "markdown",
   "metadata": {},
   "source": [
    "### 2- Gestión de los nulos de id organizacion y organizacion."
   ]
  },
  {
   "cell_type": "markdown",
   "metadata": {},
   "source": [
    "Vamos a seguir la misma estrategia que en el paso anterior."
   ]
  },
  {
   "cell_type": "code",
   "execution_count": 17,
   "metadata": {},
   "outputs": [
    {
     "data": {
      "text/plain": [
       "292"
      ]
     },
     "execution_count": 17,
     "metadata": {},
     "output_type": "execute_result"
    }
   ],
   "source": [
    "len(df[\"id organizacion\"].unique())"
   ]
  },
  {
   "cell_type": "code",
   "execution_count": 18,
   "metadata": {},
   "outputs": [
    {
     "data": {
      "text/plain": [
       "288"
      ]
     },
     "execution_count": 18,
     "metadata": {},
     "output_type": "execute_result"
    }
   ],
   "source": [
    "len(df[\"organizacion\"].unique())"
   ]
  },
  {
   "cell_type": "markdown",
   "metadata": {},
   "source": [
    "Hay más ids que organizaciones, lo cual impica que una misma organización puede tener 2 id, veámoslo."
   ]
  },
  {
   "cell_type": "code",
   "execution_count": 19,
   "metadata": {},
   "outputs": [
    {
     "data": {
      "text/plain": [
       "288"
      ]
     },
     "execution_count": 19,
     "metadata": {},
     "output_type": "execute_result"
    }
   ],
   "source": [
    "lista_organizaciones = list(df[\"organizacion\"].unique())\n",
    "len(lista_organizaciones)"
   ]
  },
  {
   "cell_type": "code",
   "execution_count": 20,
   "metadata": {},
   "outputs": [
    {
     "name": "stdout",
     "output_type": "stream",
     "text": [
      "\n",
      "Agência Nacional de Transportes Aquaviários\n",
      "[68201. 39251.]\n",
      "\n",
      "Fundo Nacional Antidrogas\n",
      "[30912. 20117.]\n",
      "\n",
      "Fundo Nacional do Idoso\n",
      "[64902. 30914.]\n",
      "\n",
      "Fundo Nacional para a Criança e o Adolescente\n",
      "[64901. 30913.]\n"
     ]
    }
   ],
   "source": [
    "for orga in lista_organizaciones:\n",
    "    filtro1 = df[\"id organizacion\"].notnull()\n",
    "    filtro2 = df[\"organizacion\"] == orga\n",
    "    if len(df[filtro1 & filtro2][\"id organizacion\"].unique()) > 1:\n",
    "        print(f\"\\n{orga}\")\n",
    "        print(df[filtro1 & filtro2][\"id organizacion\"].unique())"
   ]
  },
  {
   "cell_type": "markdown",
   "metadata": {},
   "source": [
    "Efectivamente vemos que hay tres organizaciones con dos id. Vamos a ver que está pasando."
   ]
  },
  {
   "cell_type": "markdown",
   "metadata": {},
   "source": [
    "- Para la Agência Nacional de Transportes Aquaviários vemos que el id 39251 solo seusa en 5 filas y todas son de 2013 por lo que puede ser que sea un id viejo y haya transitado hacia el nuevo que es 68201, por lo que vamos a cambiar el id viejo por el nuevo para homogeneizar los datos."
   ]
  },
  {
   "cell_type": "code",
   "execution_count": 21,
   "metadata": {},
   "outputs": [
    {
     "data": {
      "text/html": [
       "<div>\n",
       "<style scoped>\n",
       "    .dataframe tbody tr th:only-of-type {\n",
       "        vertical-align: middle;\n",
       "    }\n",
       "\n",
       "    .dataframe tbody tr th {\n",
       "        vertical-align: top;\n",
       "    }\n",
       "\n",
       "    .dataframe thead th {\n",
       "        text-align: right;\n",
       "    }\n",
       "</style>\n",
       "<table border=\"1\" class=\"dataframe\">\n",
       "  <thead>\n",
       "    <tr style=\"text-align: right;\">\n",
       "      <th></th>\n",
       "      <th>Unnamed: 0</th>\n",
       "      <th>id organizacion superior</th>\n",
       "      <th>organizacion superior</th>\n",
       "      <th>id organizacion</th>\n",
       "      <th>organizacion</th>\n",
       "      <th>id unidad gestora</th>\n",
       "      <th>unidad gestora</th>\n",
       "      <th>categoria economica</th>\n",
       "      <th>origen ingreso</th>\n",
       "      <th>tipo ingreso</th>\n",
       "      <th>valor previsto</th>\n",
       "      <th>valor registrado</th>\n",
       "      <th>valor recaudado</th>\n",
       "      <th>porcentaje recaudado</th>\n",
       "      <th>fecha recaudacion</th>\n",
       "      <th>anio recaudacion</th>\n",
       "    </tr>\n",
       "  </thead>\n",
       "  <tbody>\n",
       "    <tr>\n",
       "      <th>3304</th>\n",
       "      <td>3304</td>\n",
       "      <td>39000.0</td>\n",
       "      <td>Ministério da Infraestrutura</td>\n",
       "      <td>68201.0</td>\n",
       "      <td>Agência Nacional de Transportes Aquaviários</td>\n",
       "      <td>682010.0</td>\n",
       "      <td>AGENCIA NACIONAL DE TRANSPORTES AQUAVIARIOS</td>\n",
       "      <td>Receitas Correntes</td>\n",
       "      <td>Outras Receitas Correntes</td>\n",
       "      <td>Indenizações, restituições e ressarcimentos</td>\n",
       "      <td>0.0</td>\n",
       "      <td>0.0</td>\n",
       "      <td>0.0</td>\n",
       "      <td>0.0</td>\n",
       "      <td>2013-12-31</td>\n",
       "      <td>2013.0</td>\n",
       "    </tr>\n",
       "    <tr>\n",
       "      <th>3356</th>\n",
       "      <td>3356</td>\n",
       "      <td>39000.0</td>\n",
       "      <td>Ministério da Infraestrutura</td>\n",
       "      <td>68201.0</td>\n",
       "      <td>Agência Nacional de Transportes Aquaviários</td>\n",
       "      <td>682010.0</td>\n",
       "      <td>AGENCIA NACIONAL DE TRANSPORTES AQUAVIARIOS</td>\n",
       "      <td>Receitas Correntes</td>\n",
       "      <td>Outras Receitas Correntes</td>\n",
       "      <td>Multas administrativas, contratuais e judicia</td>\n",
       "      <td>0.0</td>\n",
       "      <td>0.0</td>\n",
       "      <td>0.0</td>\n",
       "      <td>0.0</td>\n",
       "      <td>2013-12-31</td>\n",
       "      <td>2013.0</td>\n",
       "    </tr>\n",
       "    <tr>\n",
       "      <th>3366</th>\n",
       "      <td>3366</td>\n",
       "      <td>39000.0</td>\n",
       "      <td>Ministério da Infraestrutura</td>\n",
       "      <td>68201.0</td>\n",
       "      <td>Agência Nacional de Transportes Aquaviários</td>\n",
       "      <td>682010.0</td>\n",
       "      <td>AGENCIA NACIONAL DE TRANSPORTES AQUAVIARIOS</td>\n",
       "      <td>Receitas Correntes</td>\n",
       "      <td>Receita de Serviços</td>\n",
       "      <td>Receita de Serviços</td>\n",
       "      <td>0.0</td>\n",
       "      <td>0.0</td>\n",
       "      <td>0.0</td>\n",
       "      <td>0.0</td>\n",
       "      <td>2013-12-31</td>\n",
       "      <td>2013.0</td>\n",
       "    </tr>\n",
       "    <tr>\n",
       "      <th>3401</th>\n",
       "      <td>3401</td>\n",
       "      <td>39000.0</td>\n",
       "      <td>Ministério da Infraestrutura</td>\n",
       "      <td>68201.0</td>\n",
       "      <td>Agência Nacional de Transportes Aquaviários</td>\n",
       "      <td>682010.0</td>\n",
       "      <td>AGENCIA NACIONAL DE TRANSPORTES AQUAVIARIOS</td>\n",
       "      <td>Receitas Correntes</td>\n",
       "      <td>Outras Receitas Correntes</td>\n",
       "      <td>Multas administrativas, contratuais e judicia</td>\n",
       "      <td>0.0</td>\n",
       "      <td>0.0</td>\n",
       "      <td>0.0</td>\n",
       "      <td>0.0</td>\n",
       "      <td>2013-12-31</td>\n",
       "      <td>2013.0</td>\n",
       "    </tr>\n",
       "    <tr>\n",
       "      <th>7843</th>\n",
       "      <td>7844</td>\n",
       "      <td>39000.0</td>\n",
       "      <td>Ministério da Infraestrutura</td>\n",
       "      <td>68201.0</td>\n",
       "      <td>Agência Nacional de Transportes Aquaviários</td>\n",
       "      <td>682010.0</td>\n",
       "      <td>AGENCIA NACIONAL DE TRANSPORTES AQUAVIARIOS</td>\n",
       "      <td>Receitas Correntes</td>\n",
       "      <td>Outras Receitas Correntes</td>\n",
       "      <td>Multas administrativas, contratuais e judicia</td>\n",
       "      <td>NaN</td>\n",
       "      <td>NaN</td>\n",
       "      <td>NaN</td>\n",
       "      <td>NaN</td>\n",
       "      <td>2014-12-31</td>\n",
       "      <td>2014.0</td>\n",
       "    </tr>\n",
       "    <tr>\n",
       "      <th>...</th>\n",
       "      <td>...</td>\n",
       "      <td>...</td>\n",
       "      <td>...</td>\n",
       "      <td>...</td>\n",
       "      <td>...</td>\n",
       "      <td>...</td>\n",
       "      <td>...</td>\n",
       "      <td>...</td>\n",
       "      <td>...</td>\n",
       "      <td>...</td>\n",
       "      <td>...</td>\n",
       "      <td>...</td>\n",
       "      <td>...</td>\n",
       "      <td>...</td>\n",
       "      <td>...</td>\n",
       "      <td>...</td>\n",
       "    </tr>\n",
       "    <tr>\n",
       "      <th>985803</th>\n",
       "      <td>993258</td>\n",
       "      <td>39000.0</td>\n",
       "      <td>Ministério da Infraestrutura</td>\n",
       "      <td>68201.0</td>\n",
       "      <td>Agência Nacional de Transportes Aquaviários</td>\n",
       "      <td>682010.0</td>\n",
       "      <td>AGENCIA NACIONAL DE TRANSPORTES AQUAVIARIOS</td>\n",
       "      <td>Receitas Correntes</td>\n",
       "      <td>Outras Receitas Correntes</td>\n",
       "      <td>Multas administrativas, contratuais e judicia</td>\n",
       "      <td>0.0</td>\n",
       "      <td>0.0</td>\n",
       "      <td>0.0</td>\n",
       "      <td>0.0</td>\n",
       "      <td>2021-07-27</td>\n",
       "      <td>2021.0</td>\n",
       "    </tr>\n",
       "    <tr>\n",
       "      <th>985804</th>\n",
       "      <td>993259</td>\n",
       "      <td>39000.0</td>\n",
       "      <td>Ministério da Infraestrutura</td>\n",
       "      <td>68201.0</td>\n",
       "      <td>Agência Nacional de Transportes Aquaviários</td>\n",
       "      <td>682010.0</td>\n",
       "      <td>AGENCIA NACIONAL DE TRANSPORTES AQUAVIARIOS</td>\n",
       "      <td>Receitas Correntes</td>\n",
       "      <td>Outras Receitas Correntes</td>\n",
       "      <td>Multas administrativas, contratuais e judicia</td>\n",
       "      <td>0.0</td>\n",
       "      <td>0.0</td>\n",
       "      <td>0.0</td>\n",
       "      <td>0.0</td>\n",
       "      <td>2021-01-22</td>\n",
       "      <td>2021.0</td>\n",
       "    </tr>\n",
       "    <tr>\n",
       "      <th>985805</th>\n",
       "      <td>993260</td>\n",
       "      <td>39000.0</td>\n",
       "      <td>Ministério da Infraestrutura</td>\n",
       "      <td>68201.0</td>\n",
       "      <td>Agência Nacional de Transportes Aquaviários</td>\n",
       "      <td>682010.0</td>\n",
       "      <td>AGENCIA NACIONAL DE TRANSPORTES AQUAVIARIOS</td>\n",
       "      <td>Receitas Correntes</td>\n",
       "      <td>Outras Receitas Correntes</td>\n",
       "      <td>Multas administrativas, contratuais e judicia</td>\n",
       "      <td>0.0</td>\n",
       "      <td>0.0</td>\n",
       "      <td>0.0</td>\n",
       "      <td>0.0</td>\n",
       "      <td>2021-07-09</td>\n",
       "      <td>2021.0</td>\n",
       "    </tr>\n",
       "    <tr>\n",
       "      <th>985806</th>\n",
       "      <td>993261</td>\n",
       "      <td>39000.0</td>\n",
       "      <td>Ministério da Infraestrutura</td>\n",
       "      <td>68201.0</td>\n",
       "      <td>Agência Nacional de Transportes Aquaviários</td>\n",
       "      <td>682010.0</td>\n",
       "      <td>AGENCIA NACIONAL DE TRANSPORTES AQUAVIARIOS</td>\n",
       "      <td>Receitas Correntes</td>\n",
       "      <td>Outras Receitas Correntes</td>\n",
       "      <td>Multas administrativas, contratuais e judicia</td>\n",
       "      <td>0.0</td>\n",
       "      <td>0.0</td>\n",
       "      <td>0.0</td>\n",
       "      <td>0.0</td>\n",
       "      <td>2021-09-16</td>\n",
       "      <td>2021.0</td>\n",
       "    </tr>\n",
       "    <tr>\n",
       "      <th>985807</th>\n",
       "      <td>993262</td>\n",
       "      <td>39000.0</td>\n",
       "      <td>Ministério da Infraestrutura</td>\n",
       "      <td>68201.0</td>\n",
       "      <td>Agência Nacional de Transportes Aquaviários</td>\n",
       "      <td>NaN</td>\n",
       "      <td>AGENCIA NACIONAL DE TRANSPORTES AQUAVIARIOS</td>\n",
       "      <td>Receitas Correntes</td>\n",
       "      <td>Receita Patrimonial</td>\n",
       "      <td>Delegação de Serviços Públicos Mediante Conce</td>\n",
       "      <td>0.0</td>\n",
       "      <td>0.0</td>\n",
       "      <td>0.0</td>\n",
       "      <td>0.0</td>\n",
       "      <td>2021-02-22</td>\n",
       "      <td>2021.0</td>\n",
       "    </tr>\n",
       "  </tbody>\n",
       "</table>\n",
       "<p>2116 rows × 16 columns</p>\n",
       "</div>"
      ],
      "text/plain": [
       "        Unnamed: 0  id organizacion superior         organizacion superior  \\\n",
       "3304          3304                   39000.0  Ministério da Infraestrutura   \n",
       "3356          3356                   39000.0  Ministério da Infraestrutura   \n",
       "3366          3366                   39000.0  Ministério da Infraestrutura   \n",
       "3401          3401                   39000.0  Ministério da Infraestrutura   \n",
       "7843          7844                   39000.0  Ministério da Infraestrutura   \n",
       "...            ...                       ...                           ...   \n",
       "985803      993258                   39000.0  Ministério da Infraestrutura   \n",
       "985804      993259                   39000.0  Ministério da Infraestrutura   \n",
       "985805      993260                   39000.0  Ministério da Infraestrutura   \n",
       "985806      993261                   39000.0  Ministério da Infraestrutura   \n",
       "985807      993262                   39000.0  Ministério da Infraestrutura   \n",
       "\n",
       "        id organizacion                                 organizacion  \\\n",
       "3304            68201.0  Agência Nacional de Transportes Aquaviários   \n",
       "3356            68201.0  Agência Nacional de Transportes Aquaviários   \n",
       "3366            68201.0  Agência Nacional de Transportes Aquaviários   \n",
       "3401            68201.0  Agência Nacional de Transportes Aquaviários   \n",
       "7843            68201.0  Agência Nacional de Transportes Aquaviários   \n",
       "...                 ...                                          ...   \n",
       "985803          68201.0  Agência Nacional de Transportes Aquaviários   \n",
       "985804          68201.0  Agência Nacional de Transportes Aquaviários   \n",
       "985805          68201.0  Agência Nacional de Transportes Aquaviários   \n",
       "985806          68201.0  Agência Nacional de Transportes Aquaviários   \n",
       "985807          68201.0  Agência Nacional de Transportes Aquaviários   \n",
       "\n",
       "        id unidad gestora                               unidad gestora  \\\n",
       "3304             682010.0  AGENCIA NACIONAL DE TRANSPORTES AQUAVIARIOS   \n",
       "3356             682010.0  AGENCIA NACIONAL DE TRANSPORTES AQUAVIARIOS   \n",
       "3366             682010.0  AGENCIA NACIONAL DE TRANSPORTES AQUAVIARIOS   \n",
       "3401             682010.0  AGENCIA NACIONAL DE TRANSPORTES AQUAVIARIOS   \n",
       "7843             682010.0  AGENCIA NACIONAL DE TRANSPORTES AQUAVIARIOS   \n",
       "...                   ...                                          ...   \n",
       "985803           682010.0  AGENCIA NACIONAL DE TRANSPORTES AQUAVIARIOS   \n",
       "985804           682010.0  AGENCIA NACIONAL DE TRANSPORTES AQUAVIARIOS   \n",
       "985805           682010.0  AGENCIA NACIONAL DE TRANSPORTES AQUAVIARIOS   \n",
       "985806           682010.0  AGENCIA NACIONAL DE TRANSPORTES AQUAVIARIOS   \n",
       "985807                NaN  AGENCIA NACIONAL DE TRANSPORTES AQUAVIARIOS   \n",
       "\n",
       "       categoria economica             origen ingreso  \\\n",
       "3304    Receitas Correntes  Outras Receitas Correntes   \n",
       "3356    Receitas Correntes  Outras Receitas Correntes   \n",
       "3366    Receitas Correntes        Receita de Serviços   \n",
       "3401    Receitas Correntes  Outras Receitas Correntes   \n",
       "7843    Receitas Correntes  Outras Receitas Correntes   \n",
       "...                    ...                        ...   \n",
       "985803  Receitas Correntes  Outras Receitas Correntes   \n",
       "985804  Receitas Correntes  Outras Receitas Correntes   \n",
       "985805  Receitas Correntes  Outras Receitas Correntes   \n",
       "985806  Receitas Correntes  Outras Receitas Correntes   \n",
       "985807  Receitas Correntes        Receita Patrimonial   \n",
       "\n",
       "                                         tipo ingreso  valor previsto  \\\n",
       "3304      Indenizações, restituições e ressarcimentos             0.0   \n",
       "3356    Multas administrativas, contratuais e judicia             0.0   \n",
       "3366                              Receita de Serviços             0.0   \n",
       "3401    Multas administrativas, contratuais e judicia             0.0   \n",
       "7843    Multas administrativas, contratuais e judicia             NaN   \n",
       "...                                               ...             ...   \n",
       "985803  Multas administrativas, contratuais e judicia             0.0   \n",
       "985804  Multas administrativas, contratuais e judicia             0.0   \n",
       "985805  Multas administrativas, contratuais e judicia             0.0   \n",
       "985806  Multas administrativas, contratuais e judicia             0.0   \n",
       "985807  Delegação de Serviços Públicos Mediante Conce             0.0   \n",
       "\n",
       "        valor registrado  valor recaudado  porcentaje recaudado  \\\n",
       "3304                 0.0              0.0                   0.0   \n",
       "3356                 0.0              0.0                   0.0   \n",
       "3366                 0.0              0.0                   0.0   \n",
       "3401                 0.0              0.0                   0.0   \n",
       "7843                 NaN              NaN                   NaN   \n",
       "...                  ...              ...                   ...   \n",
       "985803               0.0              0.0                   0.0   \n",
       "985804               0.0              0.0                   0.0   \n",
       "985805               0.0              0.0                   0.0   \n",
       "985806               0.0              0.0                   0.0   \n",
       "985807               0.0              0.0                   0.0   \n",
       "\n",
       "       fecha recaudacion  anio recaudacion  \n",
       "3304          2013-12-31            2013.0  \n",
       "3356          2013-12-31            2013.0  \n",
       "3366          2013-12-31            2013.0  \n",
       "3401          2013-12-31            2013.0  \n",
       "7843          2014-12-31            2014.0  \n",
       "...                  ...               ...  \n",
       "985803        2021-07-27            2021.0  \n",
       "985804        2021-01-22            2021.0  \n",
       "985805        2021-07-09            2021.0  \n",
       "985806        2021-09-16            2021.0  \n",
       "985807        2021-02-22            2021.0  \n",
       "\n",
       "[2116 rows x 16 columns]"
      ]
     },
     "execution_count": 21,
     "metadata": {},
     "output_type": "execute_result"
    }
   ],
   "source": [
    "filtro1_1 = df[\"id organizacion\"] == 68201\n",
    "df[filtro1_1].shape\n",
    "df[filtro1_1].head(1)"
   ]
  },
  {
   "cell_type": "code",
   "execution_count": 42,
   "metadata": {},
   "outputs": [
    {
     "data": {
      "text/html": [
       "<div>\n",
       "<style scoped>\n",
       "    .dataframe tbody tr th:only-of-type {\n",
       "        vertical-align: middle;\n",
       "    }\n",
       "\n",
       "    .dataframe tbody tr th {\n",
       "        vertical-align: top;\n",
       "    }\n",
       "\n",
       "    .dataframe thead th {\n",
       "        text-align: right;\n",
       "    }\n",
       "</style>\n",
       "<table border=\"1\" class=\"dataframe\">\n",
       "  <thead>\n",
       "    <tr style=\"text-align: right;\">\n",
       "      <th></th>\n",
       "      <th>Unnamed: 0</th>\n",
       "      <th>id organizacion superior</th>\n",
       "      <th>organizacion superior</th>\n",
       "      <th>id organizacion</th>\n",
       "      <th>organizacion</th>\n",
       "      <th>id unidad gestora</th>\n",
       "      <th>unidad gestora</th>\n",
       "      <th>categoria economica</th>\n",
       "      <th>origen ingreso</th>\n",
       "      <th>tipo ingreso</th>\n",
       "      <th>valor previsto</th>\n",
       "      <th>valor registrado</th>\n",
       "      <th>valor recaudado</th>\n",
       "      <th>porcentaje recaudado</th>\n",
       "      <th>fecha recaudacion</th>\n",
       "      <th>anio recaudacion</th>\n",
       "    </tr>\n",
       "  </thead>\n",
       "  <tbody>\n",
       "  </tbody>\n",
       "</table>\n",
       "</div>"
      ],
      "text/plain": [
       "Empty DataFrame\n",
       "Columns: [Unnamed: 0, id organizacion superior, organizacion superior, id organizacion, organizacion, id unidad gestora, unidad gestora, categoria economica, origen ingreso, tipo ingreso, valor previsto, valor registrado, valor recaudado, porcentaje recaudado, fecha recaudacion, anio recaudacion]\n",
       "Index: []"
      ]
     },
     "execution_count": 42,
     "metadata": {},
     "output_type": "execute_result"
    }
   ],
   "source": [
    "filtro1_2 = df[\"id organizacion\"] == 39251\n",
    "df[filtro1_2].shape\n",
    "df[filtro1_2].head(1)"
   ]
  },
  {
   "cell_type": "code",
   "execution_count": 23,
   "metadata": {},
   "outputs": [],
   "source": [
    "df[\"id organizacion\"] = df[\"id organizacion\"].apply(sl.cambio_id_39251)"
   ]
  },
  {
   "cell_type": "code",
   "execution_count": 24,
   "metadata": {},
   "outputs": [
    {
     "data": {
      "text/plain": [
       "(0, 16)"
      ]
     },
     "execution_count": 24,
     "metadata": {},
     "output_type": "execute_result"
    }
   ],
   "source": [
    "filtro1 = df[\"id organizacion\"] == 39251\n",
    "df[filtro1].shape"
   ]
  },
  {
   "cell_type": "markdown",
   "metadata": {},
   "source": [
    "- Para la Fundo Nacional Antidrogas pasa algo similar, sin embargo, el id 20117 aparece 20 veces y de forma aleatoria pues aparece en 2013, 2014, 2015, 2016 y hasta 2017, pero no a partir de 2017, lo que puede indicar que se fue transicionando de id durante varios años usandose dos a la vez hasta que en 2017 se dejó de usar. Además también se observa que para ambos ids a pesar de tener la misma unidad gestora también tienen ids de unidad gestora distintos."
   ]
  },
  {
   "cell_type": "markdown",
   "metadata": {},
   "source": [
    "IMPORTANTE:"
   ]
  },
  {
   "cell_type": "markdown",
   "metadata": {},
   "source": [
    "He vuelto sobre mis pasos y me he dado cuenta de que la organización superior para los distintos id es distinta, por lo que si los unificara todos es como si estuviera perdiendo información ya que aunque la organización sea la misma si tiene el id de organización 30912 quiere decir que su organización superior es Ministério da Justiça e Segurança Pública y si tiene el id 20117 su organización superioir es Presidência da República. Me he dado cuenta de que pasa lo mismo también para los dos siguientes. En mi opinión unificar ambos id y dejar el que más aparece implicaría en cierta forma perder información, ya que si yo tengo un valor NaN para orga superioir e id de orga superior pero con id de organización 20117 se puede inferir que la organización superior es Presidência da República. Pero si unificasemos los id y pusiesemos para la organización Fundo Nacional Antidroga el id 30912 si tenemos un valor en NaN para id de orga superior y orga superior no podemos inferir si era Presidência da República o Ministério da Justiça e Segurança Pública. Pero como hemos visto que solo tenemos a NaN un 1% de las filas esto lo gestionaré si tuviera tiempo más adelante."
   ]
  },
  {
   "cell_type": "code",
   "execution_count": 25,
   "metadata": {},
   "outputs": [
    {
     "name": "stdout",
     "output_type": "stream",
     "text": [
      "(7322, 16)\n",
      "[200246.     nan]\n",
      "['FUNDO NACIONAL ANTIDROGAS' nan]\n"
     ]
    },
    {
     "data": {
      "text/html": [
       "<div>\n",
       "<style scoped>\n",
       "    .dataframe tbody tr th:only-of-type {\n",
       "        vertical-align: middle;\n",
       "    }\n",
       "\n",
       "    .dataframe tbody tr th {\n",
       "        vertical-align: top;\n",
       "    }\n",
       "\n",
       "    .dataframe thead th {\n",
       "        text-align: right;\n",
       "    }\n",
       "</style>\n",
       "<table border=\"1\" class=\"dataframe\">\n",
       "  <thead>\n",
       "    <tr style=\"text-align: right;\">\n",
       "      <th></th>\n",
       "      <th>Unnamed: 0</th>\n",
       "      <th>id organizacion superior</th>\n",
       "      <th>organizacion superior</th>\n",
       "      <th>id organizacion</th>\n",
       "      <th>organizacion</th>\n",
       "      <th>id unidad gestora</th>\n",
       "      <th>unidad gestora</th>\n",
       "      <th>categoria economica</th>\n",
       "      <th>origen ingreso</th>\n",
       "      <th>tipo ingreso</th>\n",
       "      <th>valor previsto</th>\n",
       "      <th>valor registrado</th>\n",
       "      <th>valor recaudado</th>\n",
       "      <th>porcentaje recaudado</th>\n",
       "      <th>fecha recaudacion</th>\n",
       "      <th>anio recaudacion</th>\n",
       "    </tr>\n",
       "  </thead>\n",
       "  <tbody>\n",
       "    <tr>\n",
       "      <th>3447</th>\n",
       "      <td>3447</td>\n",
       "      <td>30000.0</td>\n",
       "      <td>Ministério da Justiça e Segurança Pública</td>\n",
       "      <td>30912.0</td>\n",
       "      <td>Fundo Nacional Antidrogas</td>\n",
       "      <td>200246.0</td>\n",
       "      <td>FUNDO NACIONAL ANTIDROGAS</td>\n",
       "      <td>Receitas Correntes</td>\n",
       "      <td>NaN</td>\n",
       "      <td>Multas administrativas, contratuais e judicia</td>\n",
       "      <td>0.0</td>\n",
       "      <td>0.0</td>\n",
       "      <td>0.0</td>\n",
       "      <td>0.0</td>\n",
       "      <td>2013-12-31</td>\n",
       "      <td>2013.0</td>\n",
       "    </tr>\n",
       "  </tbody>\n",
       "</table>\n",
       "</div>"
      ],
      "text/plain": [
       "      Unnamed: 0  id organizacion superior  \\\n",
       "3447        3447                   30000.0   \n",
       "\n",
       "                          organizacion superior  id organizacion  \\\n",
       "3447  Ministério da Justiça e Segurança Pública          30912.0   \n",
       "\n",
       "                   organizacion  id unidad gestora             unidad gestora  \\\n",
       "3447  Fundo Nacional Antidrogas           200246.0  FUNDO NACIONAL ANTIDROGAS   \n",
       "\n",
       "     categoria economica origen ingreso  \\\n",
       "3447  Receitas Correntes            NaN   \n",
       "\n",
       "                                       tipo ingreso  valor previsto  \\\n",
       "3447  Multas administrativas, contratuais e judicia             0.0   \n",
       "\n",
       "      valor registrado  valor recaudado  porcentaje recaudado  \\\n",
       "3447               0.0              0.0                   0.0   \n",
       "\n",
       "     fecha recaudacion  anio recaudacion  \n",
       "3447        2013-12-31            2013.0  "
      ]
     },
     "execution_count": 25,
     "metadata": {},
     "output_type": "execute_result"
    }
   ],
   "source": [
    "filtro2_1 = df[\"id organizacion\"] == 30912\n",
    "print(df[filtro2_1].shape)\n",
    "print(df[filtro2_1][\"id unidad gestora\"].unique())\n",
    "print(df[filtro2_1][\"unidad gestora\"].unique())\n",
    "df[filtro2_1].head(1)"
   ]
  },
  {
   "cell_type": "code",
   "execution_count": 26,
   "metadata": {},
   "outputs": [
    {
     "name": "stdout",
     "output_type": "stream",
     "text": [
      "(20, 16)\n",
      "[110246.]\n",
      "['FUNDO NACIONAL ANTIDROGAS']\n"
     ]
    },
    {
     "data": {
      "text/html": [
       "<div>\n",
       "<style scoped>\n",
       "    .dataframe tbody tr th:only-of-type {\n",
       "        vertical-align: middle;\n",
       "    }\n",
       "\n",
       "    .dataframe tbody tr th {\n",
       "        vertical-align: top;\n",
       "    }\n",
       "\n",
       "    .dataframe thead th {\n",
       "        text-align: right;\n",
       "    }\n",
       "</style>\n",
       "<table border=\"1\" class=\"dataframe\">\n",
       "  <thead>\n",
       "    <tr style=\"text-align: right;\">\n",
       "      <th></th>\n",
       "      <th>Unnamed: 0</th>\n",
       "      <th>id organizacion superior</th>\n",
       "      <th>organizacion superior</th>\n",
       "      <th>id organizacion</th>\n",
       "      <th>organizacion</th>\n",
       "      <th>id unidad gestora</th>\n",
       "      <th>unidad gestora</th>\n",
       "      <th>categoria economica</th>\n",
       "      <th>origen ingreso</th>\n",
       "      <th>tipo ingreso</th>\n",
       "      <th>valor previsto</th>\n",
       "      <th>valor registrado</th>\n",
       "      <th>valor recaudado</th>\n",
       "      <th>porcentaje recaudado</th>\n",
       "      <th>fecha recaudacion</th>\n",
       "      <th>anio recaudacion</th>\n",
       "    </tr>\n",
       "  </thead>\n",
       "  <tbody>\n",
       "    <tr>\n",
       "      <th>4481</th>\n",
       "      <td>4481</td>\n",
       "      <td>20000.0</td>\n",
       "      <td>Presidência da República</td>\n",
       "      <td>20117.0</td>\n",
       "      <td>Fundo Nacional Antidrogas</td>\n",
       "      <td>110246.0</td>\n",
       "      <td>FUNDO NACIONAL ANTIDROGAS</td>\n",
       "      <td>Receitas Correntes</td>\n",
       "      <td>Outras Receitas Correntes</td>\n",
       "      <td>Demais receitas correntes</td>\n",
       "      <td>0.0</td>\n",
       "      <td>0.0</td>\n",
       "      <td>0.0</td>\n",
       "      <td>0.0</td>\n",
       "      <td>2013-12-31</td>\n",
       "      <td>2013.0</td>\n",
       "    </tr>\n",
       "  </tbody>\n",
       "</table>\n",
       "</div>"
      ],
      "text/plain": [
       "      Unnamed: 0  id organizacion superior     organizacion superior  \\\n",
       "4481        4481                   20000.0  Presidência da República   \n",
       "\n",
       "      id organizacion               organizacion  id unidad gestora  \\\n",
       "4481          20117.0  Fundo Nacional Antidrogas           110246.0   \n",
       "\n",
       "                 unidad gestora categoria economica  \\\n",
       "4481  FUNDO NACIONAL ANTIDROGAS  Receitas Correntes   \n",
       "\n",
       "                 origen ingreso               tipo ingreso  valor previsto  \\\n",
       "4481  Outras Receitas Correntes  Demais receitas correntes             0.0   \n",
       "\n",
       "      valor registrado  valor recaudado  porcentaje recaudado  \\\n",
       "4481               0.0              0.0                   0.0   \n",
       "\n",
       "     fecha recaudacion  anio recaudacion  \n",
       "4481        2013-12-31            2013.0  "
      ]
     },
     "execution_count": 26,
     "metadata": {},
     "output_type": "execute_result"
    }
   ],
   "source": [
    "filtro2_2 = df[\"id organizacion\"] == 20117\n",
    "print(df[filtro2_2].shape)\n",
    "print(df[filtro2_2][\"id unidad gestora\"].unique())\n",
    "print(df[filtro2_2][\"unidad gestora\"].unique())\n",
    "df[filtro2_2].head(1)"
   ]
  },
  {
   "cell_type": "code",
   "execution_count": 27,
   "metadata": {},
   "outputs": [],
   "source": [
    "df[\"id organizacion\"] = df[\"id organizacion\"].apply(sl.cambio_id_20117)"
   ]
  },
  {
   "cell_type": "code",
   "execution_count": 28,
   "metadata": {},
   "outputs": [
    {
     "data": {
      "text/plain": [
       "(0, 16)"
      ]
     },
     "execution_count": 28,
     "metadata": {},
     "output_type": "execute_result"
    }
   ],
   "source": [
    "filtro2 = df[\"id organizacion\"] == 20117\n",
    "df[filtro2].shape"
   ]
  },
  {
   "cell_type": "markdown",
   "metadata": {},
   "source": [
    "- Continuamos con los id de Fundo Nacional do Idoso. De nuevo ocurre lo mismo, el id 64902 aparece solo 99 veces y hasta 2017, el id 30914 aparece 223 y a partir de 2017 lo que indica un camio de id, siendo el actual 30914. De nuevo los id de unidad gestora son distintos aunque la unidad gestora sea la misma.\n"
   ]
  },
  {
   "cell_type": "code",
   "execution_count": 41,
   "metadata": {},
   "outputs": [
    {
     "name": "stdout",
     "output_type": "stream",
     "text": [
      "(0, 16)\n"
     ]
    },
    {
     "data": {
      "text/html": [
       "<div>\n",
       "<style scoped>\n",
       "    .dataframe tbody tr th:only-of-type {\n",
       "        vertical-align: middle;\n",
       "    }\n",
       "\n",
       "    .dataframe tbody tr th {\n",
       "        vertical-align: top;\n",
       "    }\n",
       "\n",
       "    .dataframe thead th {\n",
       "        text-align: right;\n",
       "    }\n",
       "</style>\n",
       "<table border=\"1\" class=\"dataframe\">\n",
       "  <thead>\n",
       "    <tr style=\"text-align: right;\">\n",
       "      <th></th>\n",
       "      <th>Unnamed: 0</th>\n",
       "      <th>id organizacion superior</th>\n",
       "      <th>organizacion superior</th>\n",
       "      <th>id organizacion</th>\n",
       "      <th>organizacion</th>\n",
       "      <th>id unidad gestora</th>\n",
       "      <th>unidad gestora</th>\n",
       "      <th>categoria economica</th>\n",
       "      <th>origen ingreso</th>\n",
       "      <th>tipo ingreso</th>\n",
       "      <th>valor previsto</th>\n",
       "      <th>valor registrado</th>\n",
       "      <th>valor recaudado</th>\n",
       "      <th>porcentaje recaudado</th>\n",
       "      <th>fecha recaudacion</th>\n",
       "      <th>anio recaudacion</th>\n",
       "    </tr>\n",
       "  </thead>\n",
       "  <tbody>\n",
       "  </tbody>\n",
       "</table>\n",
       "</div>"
      ],
      "text/plain": [
       "Empty DataFrame\n",
       "Columns: [Unnamed: 0, id organizacion superior, organizacion superior, id organizacion, organizacion, id unidad gestora, unidad gestora, categoria economica, origen ingreso, tipo ingreso, valor previsto, valor registrado, valor recaudado, porcentaje recaudado, fecha recaudacion, anio recaudacion]\n",
       "Index: []"
      ]
     },
     "execution_count": 41,
     "metadata": {},
     "output_type": "execute_result"
    }
   ],
   "source": [
    "filtro3_1 = df[\"id organizacion\"] == 64902\n",
    "print(df[filtro3_1].shape)\n",
    "df[filtro3_1].head(1)"
   ]
  },
  {
   "cell_type": "code",
   "execution_count": 40,
   "metadata": {},
   "outputs": [
    {
     "name": "stdout",
     "output_type": "stream",
     "text": [
      "(322, 16)\n"
     ]
    },
    {
     "data": {
      "text/html": [
       "<div>\n",
       "<style scoped>\n",
       "    .dataframe tbody tr th:only-of-type {\n",
       "        vertical-align: middle;\n",
       "    }\n",
       "\n",
       "    .dataframe tbody tr th {\n",
       "        vertical-align: top;\n",
       "    }\n",
       "\n",
       "    .dataframe thead th {\n",
       "        text-align: right;\n",
       "    }\n",
       "</style>\n",
       "<table border=\"1\" class=\"dataframe\">\n",
       "  <thead>\n",
       "    <tr style=\"text-align: right;\">\n",
       "      <th></th>\n",
       "      <th>Unnamed: 0</th>\n",
       "      <th>id organizacion superior</th>\n",
       "      <th>organizacion superior</th>\n",
       "      <th>id organizacion</th>\n",
       "      <th>organizacion</th>\n",
       "      <th>id unidad gestora</th>\n",
       "      <th>unidad gestora</th>\n",
       "      <th>categoria economica</th>\n",
       "      <th>origen ingreso</th>\n",
       "      <th>tipo ingreso</th>\n",
       "      <th>valor previsto</th>\n",
       "      <th>valor registrado</th>\n",
       "      <th>valor recaudado</th>\n",
       "      <th>porcentaje recaudado</th>\n",
       "      <th>fecha recaudacion</th>\n",
       "      <th>anio recaudacion</th>\n",
       "    </tr>\n",
       "  </thead>\n",
       "  <tbody>\n",
       "    <tr>\n",
       "      <th>3784</th>\n",
       "      <td>3784</td>\n",
       "      <td>57000.0</td>\n",
       "      <td>Ministério das Mulheres, Igualdade Racial, da</td>\n",
       "      <td>30914.0</td>\n",
       "      <td>Fundo Nacional do Idoso</td>\n",
       "      <td>207001.0</td>\n",
       "      <td>FUNDO NACIONAL DO IDOSO</td>\n",
       "      <td>Receitas Correntes</td>\n",
       "      <td>Transferências Correntes</td>\n",
       "      <td>Transferências dos Municípios e de suas Entid</td>\n",
       "      <td>3000000.0</td>\n",
       "      <td>3000000.0</td>\n",
       "      <td>3000000.0</td>\n",
       "      <td>3000000.0</td>\n",
       "      <td>2013-12-31</td>\n",
       "      <td>2013.0</td>\n",
       "    </tr>\n",
       "  </tbody>\n",
       "</table>\n",
       "</div>"
      ],
      "text/plain": [
       "      Unnamed: 0  id organizacion superior  \\\n",
       "3784        3784                   57000.0   \n",
       "\n",
       "                              organizacion superior  id organizacion  \\\n",
       "3784  Ministério das Mulheres, Igualdade Racial, da          30914.0   \n",
       "\n",
       "                 organizacion  id unidad gestora           unidad gestora  \\\n",
       "3784  Fundo Nacional do Idoso           207001.0  FUNDO NACIONAL DO IDOSO   \n",
       "\n",
       "     categoria economica            origen ingreso  \\\n",
       "3784  Receitas Correntes  Transferências Correntes   \n",
       "\n",
       "                                       tipo ingreso  valor previsto  \\\n",
       "3784  Transferências dos Municípios e de suas Entid       3000000.0   \n",
       "\n",
       "      valor registrado  valor recaudado  porcentaje recaudado  \\\n",
       "3784         3000000.0        3000000.0             3000000.0   \n",
       "\n",
       "     fecha recaudacion  anio recaudacion  \n",
       "3784        2013-12-31            2013.0  "
      ]
     },
     "execution_count": 40,
     "metadata": {},
     "output_type": "execute_result"
    }
   ],
   "source": [
    "filtro3_2 = df[\"id organizacion\"] == 30914\n",
    "print(df[filtro3_2].shape)\n",
    "df[filtro3_2].head(1)"
   ]
  },
  {
   "cell_type": "code",
   "execution_count": 31,
   "metadata": {},
   "outputs": [],
   "source": [
    "df[\"id organizacion\"] = df[\"id organizacion\"].apply(sl.cambio_id_64902)"
   ]
  },
  {
   "cell_type": "code",
   "execution_count": 32,
   "metadata": {},
   "outputs": [
    {
     "data": {
      "text/plain": [
       "(0, 16)"
      ]
     },
     "execution_count": 32,
     "metadata": {},
     "output_type": "execute_result"
    }
   ],
   "source": [
    "filtro3 = df[\"id organizacion\"] == 64902\n",
    "df[filtro2].shape"
   ]
  },
  {
   "cell_type": "markdown",
   "metadata": {},
   "source": [
    "- Terminamos con Fundo Nacional para a Criança e o Adolescente, en este caso ambos id se usn en 2021, el 64901 se empieza a usar en 2013 mientras que es 30913 se usa a apartir de 2017, por lo que vamos a dejar 30913."
   ]
  },
  {
   "cell_type": "code",
   "execution_count": 33,
   "metadata": {},
   "outputs": [
    {
     "name": "stdout",
     "output_type": "stream",
     "text": [
      "(180, 16)\n",
      "(719, 16)\n"
     ]
    }
   ],
   "source": [
    "filtro4_1 = df[\"id organizacion\"] == 64901\n",
    "print(df[filtro4_1].shape)\n",
    "filtro4_2 = df[\"id organizacion\"] == 30913\n",
    "print(df[filtro4_2].shape)"
   ]
  },
  {
   "cell_type": "code",
   "execution_count": 39,
   "metadata": {},
   "outputs": [
    {
     "data": {
      "text/html": [
       "<div>\n",
       "<style scoped>\n",
       "    .dataframe tbody tr th:only-of-type {\n",
       "        vertical-align: middle;\n",
       "    }\n",
       "\n",
       "    .dataframe tbody tr th {\n",
       "        vertical-align: top;\n",
       "    }\n",
       "\n",
       "    .dataframe thead th {\n",
       "        text-align: right;\n",
       "    }\n",
       "</style>\n",
       "<table border=\"1\" class=\"dataframe\">\n",
       "  <thead>\n",
       "    <tr style=\"text-align: right;\">\n",
       "      <th></th>\n",
       "      <th>Unnamed: 0</th>\n",
       "      <th>id organizacion superior</th>\n",
       "      <th>organizacion superior</th>\n",
       "      <th>id organizacion</th>\n",
       "      <th>organizacion</th>\n",
       "      <th>id unidad gestora</th>\n",
       "      <th>unidad gestora</th>\n",
       "      <th>categoria economica</th>\n",
       "      <th>origen ingreso</th>\n",
       "      <th>tipo ingreso</th>\n",
       "      <th>valor previsto</th>\n",
       "      <th>valor registrado</th>\n",
       "      <th>valor recaudado</th>\n",
       "      <th>porcentaje recaudado</th>\n",
       "      <th>fecha recaudacion</th>\n",
       "      <th>anio recaudacion</th>\n",
       "    </tr>\n",
       "  </thead>\n",
       "  <tbody>\n",
       "    <tr>\n",
       "      <th>356944</th>\n",
       "      <td>359789</td>\n",
       "      <td>81000.0</td>\n",
       "      <td>Ministério da Mulher, Família e Direitos Huma</td>\n",
       "      <td>30913.0</td>\n",
       "      <td>Fundo Nacional para a Criança e o Adolescente</td>\n",
       "      <td>307001.0</td>\n",
       "      <td>FUNDO NACIONAL PARA A CRIANCA E O ADOLESCENTE</td>\n",
       "      <td>Receitas Correntes</td>\n",
       "      <td>Outras Receitas Correntes</td>\n",
       "      <td>Demais receitas correntes</td>\n",
       "      <td>0.0</td>\n",
       "      <td>0.0</td>\n",
       "      <td>0.0</td>\n",
       "      <td>0.0</td>\n",
       "      <td>2017-06-20</td>\n",
       "      <td>2017.0</td>\n",
       "    </tr>\n",
       "  </tbody>\n",
       "</table>\n",
       "</div>"
      ],
      "text/plain": [
       "        Unnamed: 0  id organizacion superior  \\\n",
       "356944      359789                   81000.0   \n",
       "\n",
       "                                organizacion superior  id organizacion  \\\n",
       "356944  Ministério da Mulher, Família e Direitos Huma          30913.0   \n",
       "\n",
       "                                         organizacion  id unidad gestora  \\\n",
       "356944  Fundo Nacional para a Criança e o Adolescente           307001.0   \n",
       "\n",
       "                                       unidad gestora categoria economica  \\\n",
       "356944  FUNDO NACIONAL PARA A CRIANCA E O ADOLESCENTE  Receitas Correntes   \n",
       "\n",
       "                   origen ingreso               tipo ingreso  valor previsto  \\\n",
       "356944  Outras Receitas Correntes  Demais receitas correntes             0.0   \n",
       "\n",
       "        valor registrado  valor recaudado  porcentaje recaudado  \\\n",
       "356944               0.0              0.0                   0.0   \n",
       "\n",
       "       fecha recaudacion  anio recaudacion  \n",
       "356944        2017-06-20            2017.0  "
      ]
     },
     "execution_count": 39,
     "metadata": {},
     "output_type": "execute_result"
    }
   ],
   "source": [
    "df[filtro4_2].head(1)"
   ]
  },
  {
   "cell_type": "code",
   "execution_count": 38,
   "metadata": {},
   "outputs": [
    {
     "data": {
      "text/html": [
       "<div>\n",
       "<style scoped>\n",
       "    .dataframe tbody tr th:only-of-type {\n",
       "        vertical-align: middle;\n",
       "    }\n",
       "\n",
       "    .dataframe tbody tr th {\n",
       "        vertical-align: top;\n",
       "    }\n",
       "\n",
       "    .dataframe thead th {\n",
       "        text-align: right;\n",
       "    }\n",
       "</style>\n",
       "<table border=\"1\" class=\"dataframe\">\n",
       "  <thead>\n",
       "    <tr style=\"text-align: right;\">\n",
       "      <th></th>\n",
       "      <th>Unnamed: 0</th>\n",
       "      <th>id organizacion superior</th>\n",
       "      <th>organizacion superior</th>\n",
       "      <th>id organizacion</th>\n",
       "      <th>organizacion</th>\n",
       "      <th>id unidad gestora</th>\n",
       "      <th>unidad gestora</th>\n",
       "      <th>categoria economica</th>\n",
       "      <th>origen ingreso</th>\n",
       "      <th>tipo ingreso</th>\n",
       "      <th>valor previsto</th>\n",
       "      <th>valor registrado</th>\n",
       "      <th>valor recaudado</th>\n",
       "      <th>porcentaje recaudado</th>\n",
       "      <th>fecha recaudacion</th>\n",
       "      <th>anio recaudacion</th>\n",
       "    </tr>\n",
       "  </thead>\n",
       "  <tbody>\n",
       "    <tr>\n",
       "      <th>3785</th>\n",
       "      <td>3785</td>\n",
       "      <td>57000.0</td>\n",
       "      <td>Ministério das Mulheres, Igualdade Racial, da</td>\n",
       "      <td>30913.0</td>\n",
       "      <td>Fundo Nacional para a Criança e o Adolescente</td>\n",
       "      <td>110244.0</td>\n",
       "      <td>FUNDO NACIONAL PARA A CRIANCA E O ADOLESCENTE</td>\n",
       "      <td>Receitas Correntes</td>\n",
       "      <td>Transferências Correntes</td>\n",
       "      <td>Transferências dos Municípios e de suas Entid</td>\n",
       "      <td>24290692.0</td>\n",
       "      <td>24290692.0</td>\n",
       "      <td>24290692.0</td>\n",
       "      <td>24290692.0</td>\n",
       "      <td>2013-12-31</td>\n",
       "      <td>2013.0</td>\n",
       "    </tr>\n",
       "  </tbody>\n",
       "</table>\n",
       "</div>"
      ],
      "text/plain": [
       "      Unnamed: 0  id organizacion superior  \\\n",
       "3785        3785                   57000.0   \n",
       "\n",
       "                              organizacion superior  id organizacion  \\\n",
       "3785  Ministério das Mulheres, Igualdade Racial, da          30913.0   \n",
       "\n",
       "                                       organizacion  id unidad gestora  \\\n",
       "3785  Fundo Nacional para a Criança e o Adolescente           110244.0   \n",
       "\n",
       "                                     unidad gestora categoria economica  \\\n",
       "3785  FUNDO NACIONAL PARA A CRIANCA E O ADOLESCENTE  Receitas Correntes   \n",
       "\n",
       "                origen ingreso                                   tipo ingreso  \\\n",
       "3785  Transferências Correntes  Transferências dos Municípios e de suas Entid   \n",
       "\n",
       "      valor previsto  valor registrado  valor recaudado  porcentaje recaudado  \\\n",
       "3785      24290692.0        24290692.0       24290692.0            24290692.0   \n",
       "\n",
       "     fecha recaudacion  anio recaudacion  \n",
       "3785        2013-12-31            2013.0  "
      ]
     },
     "execution_count": 38,
     "metadata": {},
     "output_type": "execute_result"
    }
   ],
   "source": [
    "df[filtro4_1].head(1)"
   ]
  },
  {
   "cell_type": "code",
   "execution_count": 36,
   "metadata": {},
   "outputs": [],
   "source": [
    "df[\"id organizacion\"] = df[\"id organizacion\"].apply(sl.cambio_id_64901)"
   ]
  },
  {
   "cell_type": "code",
   "execution_count": 37,
   "metadata": {},
   "outputs": [
    {
     "data": {
      "text/plain": [
       "(0, 16)"
      ]
     },
     "execution_count": 37,
     "metadata": {},
     "output_type": "execute_result"
    }
   ],
   "source": [
    "filtro4 = df[\"id organizacion\"] == 64901\n",
    "df[filtro4].shape"
   ]
  },
  {
   "cell_type": "code",
   "execution_count": 45,
   "metadata": {},
   "outputs": [
    {
     "name": "stdout",
     "output_type": "stream",
     "text": [
      "0\n"
     ]
    }
   ],
   "source": [
    "#Comprobamos que ya solo hay un id por organización\n",
    "flag = 0\n",
    "for orga in lista_organizaciones:\n",
    "    filtro1 = df[\"id organizacion\"].notnull()\n",
    "    filtro2 = df[\"organizacion\"] == orga\n",
    "    if len(df[filtro1 & filtro2][\"id organizacion\"].unique()) > 1:\n",
    "        flag=1\n",
    "        print(f\"\\n{orga}\")\n",
    "        print(df[filtro1 & filtro2][\"id organizacion\"].unique())\n",
    "print(flag)"
   ]
  },
  {
   "cell_type": "markdown",
   "metadata": {},
   "source": [
    "Ya podemos hacer un diccionario para rellenar valores."
   ]
  },
  {
   "cell_type": "code",
   "execution_count": 50,
   "metadata": {},
   "outputs": [
    {
     "name": "stdout",
     "output_type": "stream",
     "text": [
      "288\n"
     ]
    }
   ],
   "source": [
    "lista_id_organizaciones = list(df[\"id organizacion\"].unique())\n",
    "print(len(lista_id_organizaciones))"
   ]
  },
  {
   "cell_type": "code",
   "execution_count": 51,
   "metadata": {},
   "outputs": [],
   "source": [
    "dic_id_organizacion = {}\n",
    "for id in lista_id_organizaciones:\n",
    "    try:\n",
    "        filtro1 = df[\"id organizacion\"] == float(id)\n",
    "        filtro2 = df[\"organizacion\"].notnull()\n",
    "        dic_id_organizacion[float(id)]=df[filtro1 & filtro2][\"organizacion\"].unique()[0]\n",
    "    except:\n",
    "        pass"
   ]
  },
  {
   "cell_type": "code",
   "execution_count": 54,
   "metadata": {},
   "outputs": [
    {
     "data": {
      "text/plain": [
       "np.int64(25111)"
      ]
     },
     "execution_count": 54,
     "metadata": {},
     "output_type": "execute_result"
    }
   ],
   "source": [
    "df[\"id organizacion\"].isnull().sum()"
   ]
  },
  {
   "cell_type": "code",
   "execution_count": 53,
   "metadata": {},
   "outputs": [
    {
     "data": {
      "text/plain": [
       "(905, 16)"
      ]
     },
     "execution_count": 53,
     "metadata": {},
     "output_type": "execute_result"
    }
   ],
   "source": [
    "# filas que van a quedar sin corregir.\n",
    "filtro1 = df[\"id organizacion\"].isnull()\n",
    "filtro2 = df[\"organizacion\"].isnull()\n",
    "df[filtro1 & filtro2].shape"
   ]
  },
  {
   "cell_type": "code",
   "execution_count": 55,
   "metadata": {},
   "outputs": [
    {
     "name": "stderr",
     "output_type": "stream",
     "text": [
      "C:\\Users\\Elena\\AppData\\Local\\Temp\\ipykernel_23924\\3881576057.py:1: FutureWarning: A value is trying to be set on a copy of a DataFrame or Series through chained assignment using an inplace method.\n",
      "The behavior will change in pandas 3.0. This inplace method will never work because the intermediate object on which we are setting values always behaves as a copy.\n",
      "\n",
      "For example, when doing 'df[col].method(value, inplace=True)', try using 'df.method({col: value}, inplace=True)' or df[col] = df[col].method(value) instead, to perform the operation inplace on the original object.\n",
      "\n",
      "\n",
      "  df[\"organizacion\"].fillna(df[\"id organizacion\"].map(dic_id_organizacion), inplace=True)\n"
     ]
    }
   ],
   "source": [
    "df[\"organizacion\"].fillna(df[\"id organizacion\"].map(dic_id_organizacion), inplace=True)"
   ]
  },
  {
   "cell_type": "code",
   "execution_count": 56,
   "metadata": {},
   "outputs": [
    {
     "name": "stdout",
     "output_type": "stream",
     "text": [
      "Han quedado a null 905, es decir, un 0.09% del total de las organizaciones.\n"
     ]
    }
   ],
   "source": [
    "orga_null = df[df[\"organizacion\"].isnull()].shape[0]\n",
    "orga_sin_corregir = orga_null/df.shape[0]*100\n",
    "print(f\"Han quedado a null {orga_null}, es decir, un {np.round(orga_sin_corregir,2)}% del total de las organizaciones.\")"
   ]
  },
  {
   "cell_type": "code",
   "execution_count": 57,
   "metadata": {},
   "outputs": [
    {
     "data": {
      "text/plain": [
       "25111"
      ]
     },
     "execution_count": 57,
     "metadata": {},
     "output_type": "execute_result"
    }
   ],
   "source": [
    "df[df[\"id organizacion\"].isnull()].shape[0]"
   ]
  },
  {
   "cell_type": "markdown",
   "metadata": {},
   "source": [
    "Como podemos ver ids hay 25111 a null los cuales podemos corregir al rededor de unos 24200 a partir del nombre de la organizacion."
   ]
  },
  {
   "cell_type": "code",
   "execution_count": 59,
   "metadata": {},
   "outputs": [],
   "source": [
    "#Invertimos el diccionario\n",
    "dic_orga_id = {valor: clave for clave, valor in dic_id_organizacion.items()}"
   ]
  },
  {
   "cell_type": "code",
   "execution_count": 60,
   "metadata": {},
   "outputs": [
    {
     "name": "stderr",
     "output_type": "stream",
     "text": [
      "C:\\Users\\Elena\\AppData\\Local\\Temp\\ipykernel_23924\\2430629590.py:1: FutureWarning: A value is trying to be set on a copy of a DataFrame or Series through chained assignment using an inplace method.\n",
      "The behavior will change in pandas 3.0. This inplace method will never work because the intermediate object on which we are setting values always behaves as a copy.\n",
      "\n",
      "For example, when doing 'df[col].method(value, inplace=True)', try using 'df.method({col: value}, inplace=True)' or df[col] = df[col].method(value) instead, to perform the operation inplace on the original object.\n",
      "\n",
      "\n",
      "  df[\"id organizacion\"].fillna(df[\"organizacion\"].map(dic_orga_id), inplace=True)\n"
     ]
    }
   ],
   "source": [
    "df[\"id organizacion\"].fillna(df[\"organizacion\"].map(dic_orga_id), inplace=True)"
   ]
  },
  {
   "cell_type": "code",
   "execution_count": 61,
   "metadata": {},
   "outputs": [
    {
     "data": {
      "text/plain": [
       "905"
      ]
     },
     "execution_count": 61,
     "metadata": {},
     "output_type": "execute_result"
    }
   ],
   "source": [
    "df[df[\"id organizacion\"].isnull()].shape[0]"
   ]
  },
  {
   "cell_type": "markdown",
   "metadata": {},
   "source": [
    "Comprobamos cuantos null hay ahora y efectivamente se han reducido hasta 905, los mismo que para los nombres de las organizaciones ya que son todas las filas que tienen ambos campos a null. Aunque al representar un 0.1% y al no haber forma de arreglarlo puede ser despreciable."
   ]
  },
  {
   "cell_type": "markdown",
   "metadata": {},
   "source": [
    "# Conclusiones"
   ]
  },
  {
   "cell_type": "markdown",
   "metadata": {},
   "source": [
    "1- Hemos corregido los nombres de las organizaciones superiores a partir de los id y han quedado solo 10543 sin corregir lo que representa un 1.04% del total. Lo mismo hemos hecho para corregir los id a partir del nombre de la organización superioir, de nuevo queda un 1.04% sin corregir el cual representa las filas donde ambas columnas tienen valores nulos.\n",
    "\n",
    "2- Hemos corregido los nombres de las organizaciones a partir de los id y han quedado solo 905 sin corregir lo que representa un 0.1% del total. Lo mismo hemos hecho para corregir los id a partir del nombre de la organización, de nuevo queda un 0.1% sin corregir el cual representa las filas donde ambas columnas tienen valores nulos."
   ]
  }
 ],
 "metadata": {
  "kernelspec": {
   "display_name": "Python 3",
   "language": "python",
   "name": "python3"
  },
  "language_info": {
   "codemirror_mode": {
    "name": "ipython",
    "version": 3
   },
   "file_extension": ".py",
   "mimetype": "text/x-python",
   "name": "python",
   "nbconvert_exporter": "python",
   "pygments_lexer": "ipython3",
   "version": "3.11.9"
  }
 },
 "nbformat": 4,
 "nbformat_minor": 2
}
