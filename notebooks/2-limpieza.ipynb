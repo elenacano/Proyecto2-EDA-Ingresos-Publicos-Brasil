{
 "cells": [
  {
   "cell_type": "markdown",
   "metadata": {},
   "source": [
    "# Fase 2: Limpieza de Datos"
   ]
  },
  {
   "cell_type": "code",
   "execution_count": 1,
   "metadata": {},
   "outputs": [],
   "source": [
    "import pandas as pd\n",
    "import numpy as np\n",
    "import json\n",
    "\n",
    "import sys\n",
    "import os\n",
    "\n",
    "# Agregar el directorio 'src' al path\n",
    "sys.path.append(os.path.abspath('../src'))\n",
    "\n",
    "# Importar la función suma del módulo auxiliares\n",
    "import soporte_limpieza as sl"
   ]
  },
  {
   "cell_type": "code",
   "execution_count": 14,
   "metadata": {},
   "outputs": [
    {
     "data": {
      "text/html": [
       "<div>\n",
       "<style scoped>\n",
       "    .dataframe tbody tr th:only-of-type {\n",
       "        vertical-align: middle;\n",
       "    }\n",
       "\n",
       "    .dataframe tbody tr th {\n",
       "        vertical-align: top;\n",
       "    }\n",
       "\n",
       "    .dataframe thead th {\n",
       "        text-align: right;\n",
       "    }\n",
       "</style>\n",
       "<table border=\"1\" class=\"dataframe\">\n",
       "  <thead>\n",
       "    <tr style=\"text-align: right;\">\n",
       "      <th></th>\n",
       "      <th>Unnamed: 0</th>\n",
       "      <th>id organizacion superior</th>\n",
       "      <th>organizacion superior</th>\n",
       "      <th>id organizacion</th>\n",
       "      <th>organizacion</th>\n",
       "      <th>id unidad gestora</th>\n",
       "      <th>unidad gestora</th>\n",
       "      <th>categoria economica</th>\n",
       "      <th>origen ingreso</th>\n",
       "      <th>tipo ingreso</th>\n",
       "      <th>valor previsto</th>\n",
       "      <th>valor registrado</th>\n",
       "      <th>valor recaudado</th>\n",
       "      <th>porcentaje recaudado</th>\n",
       "      <th>fecha recaudacion</th>\n",
       "      <th>anio recaudacion</th>\n",
       "    </tr>\n",
       "  </thead>\n",
       "  <tbody>\n",
       "    <tr>\n",
       "      <th>0</th>\n",
       "      <td>0</td>\n",
       "      <td>63000.0</td>\n",
       "      <td>NaN</td>\n",
       "      <td>63000.0</td>\n",
       "      <td>Advocacia-Geral da União - Unidades com víncul...</td>\n",
       "      <td>110060.0</td>\n",
       "      <td>COORD. GERAL DE ORC. FIN. E ANAL. CONT. - AGU</td>\n",
       "      <td>Receitas Correntes</td>\n",
       "      <td>Outras Receitas Correntes</td>\n",
       "      <td>Bens, Direitos e Valores Incorporados ao Patr</td>\n",
       "      <td>0.0</td>\n",
       "      <td>0.0</td>\n",
       "      <td>0.0</td>\n",
       "      <td>0.0</td>\n",
       "      <td>2013-12-31</td>\n",
       "      <td>2013.0</td>\n",
       "    </tr>\n",
       "    <tr>\n",
       "      <th>1</th>\n",
       "      <td>1</td>\n",
       "      <td>63000.0</td>\n",
       "      <td>Advocacia-Geral da União</td>\n",
       "      <td>63000.0</td>\n",
       "      <td>Advocacia-Geral da União - Unidades com víncul...</td>\n",
       "      <td>110060.0</td>\n",
       "      <td>COORD. GERAL DE ORC. FIN. E ANAL. CONT. - AGU</td>\n",
       "      <td>Receitas Correntes</td>\n",
       "      <td>Outras Receitas Correntes</td>\n",
       "      <td>Indenizações, restituições e ressarcimentos</td>\n",
       "      <td>0.0</td>\n",
       "      <td>0.0</td>\n",
       "      <td>0.0</td>\n",
       "      <td>0.0</td>\n",
       "      <td>2013-12-31</td>\n",
       "      <td>2013.0</td>\n",
       "    </tr>\n",
       "  </tbody>\n",
       "</table>\n",
       "</div>"
      ],
      "text/plain": [
       "   Unnamed: 0  id organizacion superior     organizacion superior  \\\n",
       "0           0                   63000.0                       NaN   \n",
       "1           1                   63000.0  Advocacia-Geral da União   \n",
       "\n",
       "   id organizacion                                       organizacion  \\\n",
       "0          63000.0  Advocacia-Geral da União - Unidades com víncul...   \n",
       "1          63000.0  Advocacia-Geral da União - Unidades com víncul...   \n",
       "\n",
       "   id unidad gestora                                 unidad gestora  \\\n",
       "0           110060.0  COORD. GERAL DE ORC. FIN. E ANAL. CONT. - AGU   \n",
       "1           110060.0  COORD. GERAL DE ORC. FIN. E ANAL. CONT. - AGU   \n",
       "\n",
       "  categoria economica             origen ingreso  \\\n",
       "0  Receitas Correntes  Outras Receitas Correntes   \n",
       "1  Receitas Correntes  Outras Receitas Correntes   \n",
       "\n",
       "                                    tipo ingreso  valor previsto  \\\n",
       "0  Bens, Direitos e Valores Incorporados ao Patr             0.0   \n",
       "1    Indenizações, restituições e ressarcimentos             0.0   \n",
       "\n",
       "   valor registrado  valor recaudado  porcentaje recaudado fecha recaudacion  \\\n",
       "0               0.0              0.0                   0.0        2013-12-31   \n",
       "1               0.0              0.0                   0.0        2013-12-31   \n",
       "\n",
       "   anio recaudacion  \n",
       "0            2013.0  \n",
       "1            2013.0  "
      ]
     },
     "execution_count": 14,
     "metadata": {},
     "output_type": "execute_result"
    }
   ],
   "source": [
    "df = pd.read_csv(\"../datos/tablas_concatenadas.csv\")\n",
    "df.head(2)"
   ]
  },
  {
   "cell_type": "code",
   "execution_count": 3,
   "metadata": {},
   "outputs": [
    {
     "data": {
      "text/plain": [
       "Unnamed: 0                       0\n",
       "id organizacion superior     30351\n",
       "organizacion superior       357007\n",
       "id organizacion              25111\n",
       "organizacion                 34861\n",
       "id unidad gestora            33566\n",
       "unidad gestora               19470\n",
       "categoria economica          18971\n",
       "origen ingreso               38394\n",
       "tipo ingreso                 31905\n",
       "valor previsto               51276\n",
       "valor registrado             51276\n",
       "valor recaudado              51276\n",
       "porcentaje recaudado         51276\n",
       "fecha recaudacion            16324\n",
       "anio recaudacion                 0\n",
       "dtype: int64"
      ]
     },
     "execution_count": 3,
     "metadata": {},
     "output_type": "execute_result"
    }
   ],
   "source": [
    "df.isnull().sum()"
   ]
  },
  {
   "cell_type": "markdown",
   "metadata": {},
   "source": [
    "### 1- Gestión de los nulos de id organizacion superior y organizacion superior."
   ]
  },
  {
   "cell_type": "markdown",
   "metadata": {},
   "source": [
    "Vamos a ver si podemos crear un diccionario para los id y los nombres de la organización superior."
   ]
  },
  {
   "cell_type": "code",
   "execution_count": 4,
   "metadata": {},
   "outputs": [
    {
     "data": {
      "text/plain": [
       "26"
      ]
     },
     "execution_count": 4,
     "metadata": {},
     "output_type": "execute_result"
    }
   ],
   "source": [
    "len(df[\"id organizacion superior\"].unique())"
   ]
  },
  {
   "cell_type": "code",
   "execution_count": 5,
   "metadata": {},
   "outputs": [
    {
     "data": {
      "text/plain": [
       "26"
      ]
     },
     "execution_count": 5,
     "metadata": {},
     "output_type": "execute_result"
    }
   ],
   "source": [
    "len(df[\"organizacion superior\"].unique())"
   ]
  },
  {
   "cell_type": "markdown",
   "metadata": {},
   "source": [
    "A priori parece que hay el mismo numero de ids que de nombres, buena señal."
   ]
  },
  {
   "cell_type": "code",
   "execution_count": 6,
   "metadata": {},
   "outputs": [
    {
     "data": {
      "text/plain": [
       "[np.float64(63000.0),\n",
       " np.float64(37000.0),\n",
       " np.float64(nan),\n",
       " np.float64(22000.0),\n",
       " np.float64(55000.0),\n",
       " np.float64(24000.0),\n",
       " np.float64(52000.0),\n",
       " np.float64(25000.0),\n",
       " np.float64(26000.0),\n",
       " np.float64(39000.0),\n",
       " np.float64(30000.0),\n",
       " np.float64(81000.0),\n",
       " np.float64(58000.0),\n",
       " np.float64(33000.0),\n",
       " np.float64(36000.0),\n",
       " np.float64(41000.0),\n",
       " np.float64(57000.0),\n",
       " np.float64(35000.0),\n",
       " np.float64(32000.0),\n",
       " np.float64(49000.0),\n",
       " np.float64(53000.0),\n",
       " np.float64(51000.0),\n",
       " np.float64(44000.0),\n",
       " np.float64(38000.0),\n",
       " np.float64(54000.0),\n",
       " np.float64(20000.0)]"
      ]
     },
     "execution_count": 6,
     "metadata": {},
     "output_type": "execute_result"
    }
   ],
   "source": [
    "lista_id_os = list(df[\"id organizacion superior\"].unique())\n",
    "lista_id_os"
   ]
  },
  {
   "cell_type": "code",
   "execution_count": 7,
   "metadata": {},
   "outputs": [
    {
     "name": "stdout",
     "output_type": "stream",
     "text": [
      "\n",
      "63000.0\n",
      "1\n",
      "\n",
      "37000.0\n",
      "1\n",
      "\n",
      "nan\n",
      "0\n",
      "\n",
      "22000.0\n",
      "1\n",
      "\n",
      "55000.0\n",
      "1\n",
      "\n",
      "24000.0\n",
      "1\n",
      "\n",
      "52000.0\n",
      "1\n",
      "\n",
      "25000.0\n",
      "1\n",
      "\n",
      "26000.0\n",
      "1\n",
      "\n",
      "39000.0\n",
      "1\n",
      "\n",
      "30000.0\n",
      "1\n",
      "\n",
      "81000.0\n",
      "1\n",
      "\n",
      "58000.0\n",
      "1\n",
      "\n",
      "33000.0\n",
      "1\n",
      "\n",
      "36000.0\n",
      "1\n",
      "\n",
      "41000.0\n",
      "1\n",
      "\n",
      "57000.0\n",
      "1\n",
      "\n",
      "35000.0\n",
      "1\n",
      "\n",
      "32000.0\n",
      "1\n",
      "\n",
      "49000.0\n",
      "1\n",
      "\n",
      "53000.0\n",
      "1\n",
      "\n",
      "51000.0\n",
      "1\n",
      "\n",
      "44000.0\n",
      "1\n",
      "\n",
      "38000.0\n",
      "1\n",
      "\n",
      "54000.0\n",
      "1\n",
      "\n",
      "20000.0\n",
      "1\n"
     ]
    }
   ],
   "source": [
    "for id in lista_id_os:\n",
    "    print(f\"\\n{id}\")\n",
    "    filtro1 = df[\"id organizacion superior\"] == float(id)\n",
    "    filtro2 = df[\"organizacion superior\"].notnull()\n",
    "    print(len(df[filtro1 & filtro2][\"organizacion superior\"].unique()))"
   ]
  },
  {
   "cell_type": "markdown",
   "metadata": {},
   "source": [
    "Como vemos que para cada id hay un unico valor creamos un diccionario:"
   ]
  },
  {
   "cell_type": "code",
   "execution_count": 8,
   "metadata": {},
   "outputs": [],
   "source": [
    "dic_id_os = {}\n",
    "for id in lista_id_os:\n",
    "    try:\n",
    "        filtro1 = df[\"id organizacion superior\"] == float(id)\n",
    "        filtro2 = df[\"organizacion superior\"].notnull()\n",
    "        dic_id_os[float(id)]=df[filtro1 & filtro2][\"organizacion superior\"].unique()[0]\n",
    "    except:\n",
    "        pass"
   ]
  },
  {
   "cell_type": "code",
   "execution_count": 9,
   "metadata": {},
   "outputs": [
    {
     "data": {
      "text/plain": [
       "{63000.0: 'Advocacia-Geral da União',\n",
       " 37000.0: 'Controladoria-Geral da União',\n",
       " 22000.0: 'Ministério da Agricultura, Pecuária e Abastec',\n",
       " 55000.0: 'Ministério da Cidadania',\n",
       " 24000.0: 'Ministério da Ciência, Tecnologia, Inovações ',\n",
       " 52000.0: 'Ministério da Defesa',\n",
       " 25000.0: 'Ministério da Economia',\n",
       " 26000.0: 'Ministério da Educação',\n",
       " 39000.0: 'Ministério da Infraestrutura',\n",
       " 30000.0: 'Ministério da Justiça e Segurança Pública',\n",
       " 81000.0: 'Ministério da Mulher, Família e Direitos Huma',\n",
       " 58000.0: 'Ministério da Pesca e Aquicultura',\n",
       " 33000.0: 'Ministério da Previdência Social',\n",
       " 36000.0: 'Ministério da Saúde',\n",
       " 41000.0: 'Ministério das Comunicações',\n",
       " 57000.0: 'Ministério das Mulheres, Igualdade Racial, da',\n",
       " 35000.0: 'Ministério das Relações Exteriores',\n",
       " 32000.0: 'Ministério de Minas e Energia',\n",
       " 49000.0: 'Ministério do Desenvolvimento Agrário',\n",
       " 53000.0: 'Ministério do Desenvolvimento Regional',\n",
       " 51000.0: 'Ministério do Esporte',\n",
       " 44000.0: 'Ministério do Meio Ambiente',\n",
       " 38000.0: 'Ministério do Trabalho e Emprego',\n",
       " 54000.0: 'Ministério do Turismo',\n",
       " 20000.0: 'Presidência da República'}"
      ]
     },
     "execution_count": 9,
     "metadata": {},
     "output_type": "execute_result"
    }
   ],
   "source": [
    "dic_id_os"
   ]
  },
  {
   "cell_type": "markdown",
   "metadata": {},
   "source": [
    "Ya con nuestro diccionario vamos a rellenar los nombres e id de las organizaciones superiores."
   ]
  },
  {
   "cell_type": "markdown",
   "metadata": {},
   "source": [
    "Hemos comprobado que todos los campos de organización superior concuerdan con su id a excepción de cuando son NaN, corregimos los NaN. además quedarán sin corregir aquellas filas donde id y organización superioir son ambos NaN."
   ]
  },
  {
   "cell_type": "code",
   "execution_count": 17,
   "metadata": {},
   "outputs": [
    {
     "data": {
      "text/plain": [
       "(10543, 16)"
      ]
     },
     "execution_count": 17,
     "metadata": {},
     "output_type": "execute_result"
    }
   ],
   "source": [
    "# filas que van a quedar sin corregir.\n",
    "filtro1 = df[\"id organizacion superior\"].isnull()\n",
    "filtro2 = df[\"organizacion superior\"].isnull()\n",
    "df[filtro1 & filtro2].shape"
   ]
  },
  {
   "cell_type": "code",
   "execution_count": 18,
   "metadata": {},
   "outputs": [
    {
     "name": "stderr",
     "output_type": "stream",
     "text": [
      "C:\\Users\\Elena\\AppData\\Local\\Temp\\ipykernel_7136\\3684483159.py:1: FutureWarning: A value is trying to be set on a copy of a DataFrame or Series through chained assignment using an inplace method.\n",
      "The behavior will change in pandas 3.0. This inplace method will never work because the intermediate object on which we are setting values always behaves as a copy.\n",
      "\n",
      "For example, when doing 'df[col].method(value, inplace=True)', try using 'df.method({col: value}, inplace=True)' or df[col] = df[col].method(value) instead, to perform the operation inplace on the original object.\n",
      "\n",
      "\n",
      "  df[\"organizacion superior\"].fillna(df[\"id organizacion superior\"].map(dic_id_os), inplace=True)\n"
     ]
    }
   ],
   "source": [
    "df[\"organizacion superior\"].fillna(df[\"id organizacion superior\"].map(dic_id_os), inplace=True)"
   ]
  },
  {
   "cell_type": "code",
   "execution_count": 24,
   "metadata": {},
   "outputs": [
    {
     "name": "stdout",
     "output_type": "stream",
     "text": [
      "Han quedado a null 10543, es decir, un 1.04% del total de las organizaciones superiores.\n"
     ]
    }
   ],
   "source": [
    "os_null = df[df[\"organizacion superior\"].isnull()].shape[0]\n",
    "os_sin_corregir = os_null/df.shape[0]*100\n",
    "print(f\"Han quedado a null {os_null}, es decir, un {np.round(os_sin_corregir,2)}% del total de las organizaciones superiores.\")"
   ]
  },
  {
   "cell_type": "code",
   "execution_count": 25,
   "metadata": {},
   "outputs": [
    {
     "data": {
      "text/plain": [
       "30351"
      ]
     },
     "execution_count": 25,
     "metadata": {},
     "output_type": "execute_result"
    }
   ],
   "source": [
    "df[df[\"id organizacion superior\"].isnull()].shape[0]"
   ]
  },
  {
   "cell_type": "code",
   "execution_count": null,
   "metadata": {},
   "outputs": [],
   "source": []
  },
  {
   "cell_type": "markdown",
   "metadata": {},
   "source": [
    "Como podemos ver ids hay 30351 a null los cuales podemos corregir al rededor de unos 20000 a partir del nombre de la organizacion superior."
   ]
  },
  {
   "cell_type": "code",
   "execution_count": 26,
   "metadata": {},
   "outputs": [
    {
     "data": {
      "text/plain": [
       "{'Advocacia-Geral da União': 63000.0,\n",
       " 'Controladoria-Geral da União': 37000.0,\n",
       " 'Ministério da Agricultura, Pecuária e Abastec': 22000.0,\n",
       " 'Ministério da Cidadania': 55000.0,\n",
       " 'Ministério da Ciência, Tecnologia, Inovações ': 24000.0,\n",
       " 'Ministério da Defesa': 52000.0,\n",
       " 'Ministério da Economia': 25000.0,\n",
       " 'Ministério da Educação': 26000.0,\n",
       " 'Ministério da Infraestrutura': 39000.0,\n",
       " 'Ministério da Justiça e Segurança Pública': 30000.0,\n",
       " 'Ministério da Mulher, Família e Direitos Huma': 81000.0,\n",
       " 'Ministério da Pesca e Aquicultura': 58000.0,\n",
       " 'Ministério da Previdência Social': 33000.0,\n",
       " 'Ministério da Saúde': 36000.0,\n",
       " 'Ministério das Comunicações': 41000.0,\n",
       " 'Ministério das Mulheres, Igualdade Racial, da': 57000.0,\n",
       " 'Ministério das Relações Exteriores': 35000.0,\n",
       " 'Ministério de Minas e Energia': 32000.0,\n",
       " 'Ministério do Desenvolvimento Agrário': 49000.0,\n",
       " 'Ministério do Desenvolvimento Regional': 53000.0,\n",
       " 'Ministério do Esporte': 51000.0,\n",
       " 'Ministério do Meio Ambiente': 44000.0,\n",
       " 'Ministério do Trabalho e Emprego': 38000.0,\n",
       " 'Ministério do Turismo': 54000.0,\n",
       " 'Presidência da República': 20000.0}"
      ]
     },
     "execution_count": 26,
     "metadata": {},
     "output_type": "execute_result"
    }
   ],
   "source": [
    "#Invertimos el diccionario\n",
    "dic_organizaciones_id = {valor: clave for clave, valor in dic_id_os.items()}\n",
    "dic_organizaciones_id\n"
   ]
  },
  {
   "cell_type": "code",
   "execution_count": 27,
   "metadata": {},
   "outputs": [
    {
     "name": "stderr",
     "output_type": "stream",
     "text": [
      "C:\\Users\\Elena\\AppData\\Local\\Temp\\ipykernel_7136\\1809695679.py:1: FutureWarning: A value is trying to be set on a copy of a DataFrame or Series through chained assignment using an inplace method.\n",
      "The behavior will change in pandas 3.0. This inplace method will never work because the intermediate object on which we are setting values always behaves as a copy.\n",
      "\n",
      "For example, when doing 'df[col].method(value, inplace=True)', try using 'df.method({col: value}, inplace=True)' or df[col] = df[col].method(value) instead, to perform the operation inplace on the original object.\n",
      "\n",
      "\n",
      "  df[\"id organizacion superior\"].fillna(df[\"organizacion superior\"].map(dic_organizaciones_id), inplace=True)\n"
     ]
    }
   ],
   "source": [
    "df[\"id organizacion superior\"].fillna(df[\"organizacion superior\"].map(dic_organizaciones_id), inplace=True)"
   ]
  },
  {
   "cell_type": "code",
   "execution_count": 28,
   "metadata": {},
   "outputs": [
    {
     "data": {
      "text/plain": [
       "10543"
      ]
     },
     "execution_count": 28,
     "metadata": {},
     "output_type": "execute_result"
    }
   ],
   "source": [
    "df[df[\"id organizacion superior\"].isnull()].shape[0]"
   ]
  },
  {
   "cell_type": "markdown",
   "metadata": {},
   "source": [
    "Comprobamos cuantos null hay ahora y efectivamente se han reducido hasta 10543, los mismo que para los nombres de las organizaciones superiores ya que son todas las filas que tienen ambos campos a null. Aunque al represenatr un 1% y no haber forma de arreglarlo puede ser despreciable."
   ]
  },
  {
   "cell_type": "markdown",
   "metadata": {},
   "source": [
    "### 2- Gestión de los nulos de id organizacion y organizacion."
   ]
  },
  {
   "cell_type": "markdown",
   "metadata": {},
   "source": [
    "Vamos a seguir la misma estrategia que en el paso anterior."
   ]
  },
  {
   "cell_type": "markdown",
   "metadata": {},
   "source": [
    "# Conclusiones"
   ]
  },
  {
   "cell_type": "markdown",
   "metadata": {},
   "source": [
    "1- Hemos corregido los nombres de las organizaciones superiores a partir de los id y han quedado solo 10543 sin corregir lo que representa un 1.04% del total."
   ]
  },
  {
   "cell_type": "code",
   "execution_count": null,
   "metadata": {},
   "outputs": [],
   "source": []
  }
 ],
 "metadata": {
  "kernelspec": {
   "display_name": "Python 3",
   "language": "python",
   "name": "python3"
  },
  "language_info": {
   "codemirror_mode": {
    "name": "ipython",
    "version": 3
   },
   "file_extension": ".py",
   "mimetype": "text/x-python",
   "name": "python",
   "nbconvert_exporter": "python",
   "pygments_lexer": "ipython3",
   "version": "3.11.9"
  }
 },
 "nbformat": 4,
 "nbformat_minor": 2
}
