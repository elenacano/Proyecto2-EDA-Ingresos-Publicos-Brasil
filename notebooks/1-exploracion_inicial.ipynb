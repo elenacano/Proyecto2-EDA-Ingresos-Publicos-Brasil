{
 "cells": [
  {
   "cell_type": "markdown",
   "metadata": {},
   "source": [
    "# Fase 1: Unión de Conjuntos de Datos"
   ]
  },
  {
   "cell_type": "markdown",
   "metadata": {},
   "source": [
    "### 1. Lectura y Exploración Inicial"
   ]
  },
  {
   "cell_type": "code",
   "execution_count": 139,
   "metadata": {},
   "outputs": [],
   "source": [
    "import pandas as pd\n",
    "import numpy as np\n",
    "import json\n",
    "import os \n",
    "import re\n",
    "\n",
    "import sys \n",
    "sys.path.append(\"../\")\n",
    "from src import soporte_limpieza"
   ]
  },
  {
   "cell_type": "code",
   "execution_count": 140,
   "metadata": {},
   "outputs": [
    {
     "data": {
      "text/plain": [
       "['datos-2013.csv',\n",
       " 'datos-2014.csv',\n",
       " 'datos-2015.csv',\n",
       " 'datos-2016.csv',\n",
       " 'datos-2017.csv',\n",
       " 'datos-2018.csv',\n",
       " 'datos-2019.csv',\n",
       " 'datos-2020.csv',\n",
       " 'datos-2021.csv']"
      ]
     },
     "execution_count": 140,
     "metadata": {},
     "output_type": "execute_result"
    }
   ],
   "source": [
    "os.chdir(\"../datos\")\n",
    "datos = os.listdir()[:9]\n",
    "datos"
   ]
  },
  {
   "cell_type": "markdown",
   "metadata": {},
   "source": [
    "Creamos una lista con los df"
   ]
  },
  {
   "cell_type": "code",
   "execution_count": 141,
   "metadata": {},
   "outputs": [
    {
     "name": "stderr",
     "output_type": "stream",
     "text": [
      "C:\\Users\\Elena\\AppData\\Local\\Temp\\ipykernel_16972\\875906004.py:5: UserWarning: Parsing dates in %d/%m/%Y format when dayfirst=False (the default) was specified. Pass `dayfirst=True` or specify a format to silence this warning.\n",
      "  df = pd.read_csv(f\"../datos/{i}\", sep=\";\", parse_dates=[\"DATA LANÇAMENTO\"])\n",
      "C:\\Users\\Elena\\AppData\\Local\\Temp\\ipykernel_16972\\875906004.py:5: UserWarning: Parsing dates in %d/%m/%Y format when dayfirst=False (the default) was specified. Pass `dayfirst=True` or specify a format to silence this warning.\n",
      "  df = pd.read_csv(f\"../datos/{i}\", sep=\";\", parse_dates=[\"DATA LANÇAMENTO\"])\n",
      "C:\\Users\\Elena\\AppData\\Local\\Temp\\ipykernel_16972\\875906004.py:5: UserWarning: Parsing dates in %d/%m/%Y format when dayfirst=False (the default) was specified. Pass `dayfirst=True` or specify a format to silence this warning.\n",
      "  df = pd.read_csv(f\"../datos/{i}\", sep=\";\", parse_dates=[\"DATA LANÇAMENTO\"])\n",
      "C:\\Users\\Elena\\AppData\\Local\\Temp\\ipykernel_16972\\875906004.py:5: UserWarning: Parsing dates in %d/%m/%Y format when dayfirst=False (the default) was specified. Pass `dayfirst=True` or specify a format to silence this warning.\n",
      "  df = pd.read_csv(f\"../datos/{i}\", sep=\";\", parse_dates=[\"DATA LANÇAMENTO\"])\n",
      "C:\\Users\\Elena\\AppData\\Local\\Temp\\ipykernel_16972\\875906004.py:5: UserWarning: Parsing dates in %d/%m/%Y format when dayfirst=False (the default) was specified. Pass `dayfirst=True` or specify a format to silence this warning.\n",
      "  df = pd.read_csv(f\"../datos/{i}\", sep=\";\", parse_dates=[\"DATA LANÇAMENTO\"])\n",
      "C:\\Users\\Elena\\AppData\\Local\\Temp\\ipykernel_16972\\875906004.py:5: UserWarning: Parsing dates in %d/%m/%Y format when dayfirst=False (the default) was specified. Pass `dayfirst=True` or specify a format to silence this warning.\n",
      "  df = pd.read_csv(f\"../datos/{i}\", sep=\";\", parse_dates=[\"DATA LANÇAMENTO\"])\n",
      "C:\\Users\\Elena\\AppData\\Local\\Temp\\ipykernel_16972\\875906004.py:5: UserWarning: Parsing dates in %d/%m/%Y format when dayfirst=False (the default) was specified. Pass `dayfirst=True` or specify a format to silence this warning.\n",
      "  df = pd.read_csv(f\"../datos/{i}\", sep=\";\", parse_dates=[\"DATA LANÇAMENTO\"])\n"
     ]
    }
   ],
   "source": [
    "dic_df ={}\n",
    "lista_anios = []\n",
    "\n",
    "for i in datos:\n",
    "    df = pd.read_csv(f\"../datos/{i}\", sep=\";\", parse_dates=[\"DATA LANÇAMENTO\"])\n",
    "    # print(i)\n",
    "    año = re.findall(\"\\d{4}\", i)[0]\n",
    "    dic_df[int(año)] = df\n",
    "    lista_anios.append(int(año))\n"
   ]
  },
  {
   "cell_type": "code",
   "execution_count": 142,
   "metadata": {},
   "outputs": [
    {
     "name": "stdout",
     "output_type": "stream",
     "text": [
      "(4498, 16)\n",
      "(4553, 16)\n",
      "(4523, 16)\n",
      "(194533, 16)\n",
      "(190479, 16)\n",
      "(173944, 16)\n",
      "(176828, 16)\n",
      "(142348, 16)\n",
      "(134593, 16)\n"
     ]
    }
   ],
   "source": [
    "# Observamos el formato de los dataframes\n",
    "for elem in lista_anios:\n",
    "    print(dic_df[elem].shape)"
   ]
  },
  {
   "cell_type": "markdown",
   "metadata": {},
   "source": [
    "Se observa que el volumen de datos es mucho menor en los 3 primeros años, pero todos tienen el mismo número de columnas. Vamos a cambiar el nombre de las columnas de todos los data frames para facilitar la comprensión."
   ]
  },
  {
   "cell_type": "code",
   "execution_count": 143,
   "metadata": {},
   "outputs": [],
   "source": [
    "cambio_nombre_columnas = {\"CÓDIGO ÓRGÃO SUPERIOR\":\"id organizacion superior\",\n",
    "                          \"NOME ÓRGÃO SUPERIOR\":\"organizacion superior\",\n",
    "                          \"CÓDIGO ÓRGÃO\":\"id organizacion\",\n",
    "                          \"NOME ÓRGÃO\":\"organizacion\",\n",
    "                          \"CÓDIGO UNIDADE GESTORA\":\"id unidad gestora\",\n",
    "                          \"NOME UNIDADE GESTORA\":\"unidad gestora\",\n",
    "                          \"CATEGORIA ECONÔMICA\":\"categoria economica\",\n",
    "                          \"ORIGEM RECEITA\":\"origen ingreso\",\n",
    "                          \"ESPÉCIE RECEITA\":\"tipo ingreso\",\n",
    "                          \"DETALHAMENTO\":\"detalles\",\n",
    "                          \"VALOR PREVISTO ATUALIZADO\":\"valor previsto\", #Este valor era el previsto que se iba a recaudar\n",
    "                          \"VALOR LANÇADO\":\"valor registrado\", #Este valor es el que han apuntado oficialmente como recaudado \n",
    "                          \"VALOR REALIZADO\":\"valor recaudado\", #Este valor es el que realmente han recaudado\n",
    "                          \"PERCENTUAL REALIZADO\":\"porcentaje recaudado\", #Porcetanje del valor recaudado respecto al previsto\n",
    "                          \"DATA LANÇAMENTO\":\"fecha recaudacion\",\n",
    "                          \"ANO EXERCÍCIO\":\"anio recaudacion\"\n",
    "                          }"
   ]
  },
  {
   "cell_type": "code",
   "execution_count": 144,
   "metadata": {},
   "outputs": [],
   "source": [
    "for elem in lista_anios:\n",
    "    dic_df[elem].rename(columns=cambio_nombre_columnas, inplace=True)"
   ]
  },
  {
   "cell_type": "code",
   "execution_count": 145,
   "metadata": {},
   "outputs": [
    {
     "data": {
      "text/html": [
       "<div>\n",
       "<style scoped>\n",
       "    .dataframe tbody tr th:only-of-type {\n",
       "        vertical-align: middle;\n",
       "    }\n",
       "\n",
       "    .dataframe tbody tr th {\n",
       "        vertical-align: top;\n",
       "    }\n",
       "\n",
       "    .dataframe thead th {\n",
       "        text-align: right;\n",
       "    }\n",
       "</style>\n",
       "<table border=\"1\" class=\"dataframe\">\n",
       "  <thead>\n",
       "    <tr style=\"text-align: right;\">\n",
       "      <th></th>\n",
       "      <th>id organizacion superior</th>\n",
       "      <th>organizacion superior</th>\n",
       "      <th>id organizacion</th>\n",
       "      <th>organizacion</th>\n",
       "      <th>id unidad gestora</th>\n",
       "      <th>unidad gestora</th>\n",
       "      <th>categoria economica</th>\n",
       "      <th>origen ingreso</th>\n",
       "      <th>tipo ingreso</th>\n",
       "      <th>detalles</th>\n",
       "      <th>valor previsto</th>\n",
       "      <th>valor registrado</th>\n",
       "      <th>valor recaudado</th>\n",
       "      <th>porcentaje recaudado</th>\n",
       "      <th>fecha recaudacion</th>\n",
       "      <th>anio recaudacion</th>\n",
       "    </tr>\n",
       "  </thead>\n",
       "  <tbody>\n",
       "    <tr>\n",
       "      <th>0</th>\n",
       "      <td>63000.0</td>\n",
       "      <td>Advocacia-Geral da União</td>\n",
       "      <td>63000.0</td>\n",
       "      <td>NaN</td>\n",
       "      <td>110060.0</td>\n",
       "      <td>COORD. GERAL DE ORC. FIN. E ANAL. CONT. - AGU</td>\n",
       "      <td>Receitas Correntes</td>\n",
       "      <td>Receita de Serviços</td>\n",
       "      <td>Serviços Administrativos e Comerciais Gerais</td>\n",
       "      <td>INSCR.EM CONCURSOS E PROC.SELETIVOS-PRINCIPAL</td>\n",
       "      <td>0,00</td>\n",
       "      <td>0,00</td>\n",
       "      <td>-95,00</td>\n",
       "      <td>0,00</td>\n",
       "      <td>12/06/2019</td>\n",
       "      <td>2019.0</td>\n",
       "    </tr>\n",
       "    <tr>\n",
       "      <th>1</th>\n",
       "      <td>63000.0</td>\n",
       "      <td>NaN</td>\n",
       "      <td>63000.0</td>\n",
       "      <td>Advocacia-Geral da União - Unidades com víncul...</td>\n",
       "      <td>110060.0</td>\n",
       "      <td>COORD. GERAL DE ORC. FIN. E ANAL. CONT. - AGU</td>\n",
       "      <td>Receitas Correntes</td>\n",
       "      <td>Receita de Serviços</td>\n",
       "      <td>Serviços Administrativos e Comerciais Gerais</td>\n",
       "      <td>INSCR.EM CONCURSOS E PROC.SELETIVOS-PRINCIPAL</td>\n",
       "      <td>0,00</td>\n",
       "      <td>0,00</td>\n",
       "      <td>-380,00</td>\n",
       "      <td>0,00</td>\n",
       "      <td>07/05/2019</td>\n",
       "      <td>NaN</td>\n",
       "    </tr>\n",
       "  </tbody>\n",
       "</table>\n",
       "</div>"
      ],
      "text/plain": [
       "   id organizacion superior     organizacion superior  id organizacion  \\\n",
       "0                   63000.0  Advocacia-Geral da União          63000.0   \n",
       "1                   63000.0                       NaN          63000.0   \n",
       "\n",
       "                                        organizacion  id unidad gestora  \\\n",
       "0                                                NaN           110060.0   \n",
       "1  Advocacia-Geral da União - Unidades com víncul...           110060.0   \n",
       "\n",
       "                                  unidad gestora categoria economica  \\\n",
       "0  COORD. GERAL DE ORC. FIN. E ANAL. CONT. - AGU  Receitas Correntes   \n",
       "1  COORD. GERAL DE ORC. FIN. E ANAL. CONT. - AGU  Receitas Correntes   \n",
       "\n",
       "        origen ingreso                                  tipo ingreso  \\\n",
       "0  Receita de Serviços  Serviços Administrativos e Comerciais Gerais   \n",
       "1  Receita de Serviços  Serviços Administrativos e Comerciais Gerais   \n",
       "\n",
       "                                        detalles valor previsto  \\\n",
       "0  INSCR.EM CONCURSOS E PROC.SELETIVOS-PRINCIPAL           0,00   \n",
       "1  INSCR.EM CONCURSOS E PROC.SELETIVOS-PRINCIPAL           0,00   \n",
       "\n",
       "  valor registrado valor recaudado porcentaje recaudado fecha recaudacion  \\\n",
       "0             0,00          -95,00                 0,00        12/06/2019   \n",
       "1             0,00         -380,00                 0,00        07/05/2019   \n",
       "\n",
       "   anio recaudacion  \n",
       "0            2019.0  \n",
       "1               NaN  "
      ]
     },
     "execution_count": 145,
     "metadata": {},
     "output_type": "execute_result"
    }
   ],
   "source": [
    "dic_df[2019].head(2)"
   ]
  },
  {
   "cell_type": "markdown",
   "metadata": {},
   "source": [
    "No tenía muy claro si el año de la columna fecha recaudacion coincide con el de la columna anio recaudacion, en gan parte de los casos era asi y he querido ver donde no coincidian descubriendo que hay una gran cantidad de valores en Nan, pensé en asignar al año de recaudacion el año de la columna fecha recaudacion pero hay filas donde ambos son Nan, por lo que no es una buena estrategia. Como hemos vito que solo hay un valor único que es el año que coincide co el nombre del csv, podemos sustituir todos los Nan del año de recaudación por el año del csv. Los Nan de la fecha de recaudación los dejamos sin tratar y si fuera necesario en el futuro ya veremos que hacemos con ellos."
   ]
  },
  {
   "cell_type": "code",
   "execution_count": 146,
   "metadata": {},
   "outputs": [
    {
     "data": {
      "text/plain": [
       "(4498, 16)"
      ]
     },
     "execution_count": 146,
     "metadata": {},
     "output_type": "execute_result"
    }
   ],
   "source": [
    "dic_df[2013].shape"
   ]
  },
  {
   "cell_type": "code",
   "execution_count": 147,
   "metadata": {},
   "outputs": [
    {
     "data": {
      "text/plain": [
       "id organizacion superior           float64\n",
       "organizacion superior               object\n",
       "id organizacion                    float64\n",
       "organizacion                        object\n",
       "id unidad gestora                  float64\n",
       "unidad gestora                      object\n",
       "categoria economica                 object\n",
       "origen ingreso                      object\n",
       "tipo ingreso                        object\n",
       "detalles                            object\n",
       "valor previsto                      object\n",
       "valor registrado                    object\n",
       "valor recaudado                     object\n",
       "porcentaje recaudado                object\n",
       "fecha recaudacion           datetime64[ns]\n",
       "anio recaudacion                   float64\n",
       "dtype: object"
      ]
     },
     "execution_count": 147,
     "metadata": {},
     "output_type": "execute_result"
    }
   ],
   "source": [
    "dic_df[2013].dtypes"
   ]
  },
  {
   "cell_type": "code",
   "execution_count": 148,
   "metadata": {},
   "outputs": [
    {
     "data": {
      "text/html": [
       "<div>\n",
       "<style scoped>\n",
       "    .dataframe tbody tr th:only-of-type {\n",
       "        vertical-align: middle;\n",
       "    }\n",
       "\n",
       "    .dataframe tbody tr th {\n",
       "        vertical-align: top;\n",
       "    }\n",
       "\n",
       "    .dataframe thead th {\n",
       "        text-align: right;\n",
       "    }\n",
       "</style>\n",
       "<table border=\"1\" class=\"dataframe\">\n",
       "  <thead>\n",
       "    <tr style=\"text-align: right;\">\n",
       "      <th></th>\n",
       "      <th>id organizacion superior</th>\n",
       "      <th>organizacion superior</th>\n",
       "      <th>id organizacion</th>\n",
       "      <th>organizacion</th>\n",
       "      <th>id unidad gestora</th>\n",
       "      <th>unidad gestora</th>\n",
       "      <th>categoria economica</th>\n",
       "      <th>origen ingreso</th>\n",
       "      <th>tipo ingreso</th>\n",
       "      <th>detalles</th>\n",
       "      <th>valor previsto</th>\n",
       "      <th>valor registrado</th>\n",
       "      <th>valor recaudado</th>\n",
       "      <th>porcentaje recaudado</th>\n",
       "      <th>fecha recaudacion</th>\n",
       "      <th>anio recaudacion</th>\n",
       "    </tr>\n",
       "  </thead>\n",
       "  <tbody>\n",
       "    <tr>\n",
       "      <th>0</th>\n",
       "      <td>63000.0</td>\n",
       "      <td>NaN</td>\n",
       "      <td>63000.0</td>\n",
       "      <td>Advocacia-Geral da União - Unidades com víncul...</td>\n",
       "      <td>110060.0</td>\n",
       "      <td>COORD. GERAL DE ORC. FIN. E ANAL. CONT. - AGU</td>\n",
       "      <td>Receitas Correntes</td>\n",
       "      <td>Outras Receitas Correntes</td>\n",
       "      <td>Bens, Direitos e Valores Incorporados ao Patr</td>\n",
       "      <td>REC.DIVIDA ATIVA NAO TRIBUTARIA DE OUTRAS REC</td>\n",
       "      <td>0,00</td>\n",
       "      <td>0,00</td>\n",
       "      <td>1297,13</td>\n",
       "      <td>0,00</td>\n",
       "      <td>2013-12-31</td>\n",
       "      <td>NaN</td>\n",
       "    </tr>\n",
       "  </tbody>\n",
       "</table>\n",
       "</div>"
      ],
      "text/plain": [
       "   id organizacion superior organizacion superior  id organizacion  \\\n",
       "0                   63000.0                   NaN          63000.0   \n",
       "\n",
       "                                        organizacion  id unidad gestora  \\\n",
       "0  Advocacia-Geral da União - Unidades com víncul...           110060.0   \n",
       "\n",
       "                                  unidad gestora categoria economica  \\\n",
       "0  COORD. GERAL DE ORC. FIN. E ANAL. CONT. - AGU  Receitas Correntes   \n",
       "\n",
       "              origen ingreso                                   tipo ingreso  \\\n",
       "0  Outras Receitas Correntes  Bens, Direitos e Valores Incorporados ao Patr   \n",
       "\n",
       "                                        detalles valor previsto  \\\n",
       "0  REC.DIVIDA ATIVA NAO TRIBUTARIA DE OUTRAS REC           0,00   \n",
       "\n",
       "  valor registrado valor recaudado porcentaje recaudado fecha recaudacion  \\\n",
       "0             0,00         1297,13                 0,00        2013-12-31   \n",
       "\n",
       "   anio recaudacion  \n",
       "0               NaN  "
      ]
     },
     "execution_count": 148,
     "metadata": {},
     "output_type": "execute_result"
    }
   ],
   "source": [
    "filtro = pd.to_datetime(dic_df[2013][\"fecha recaudacion\"]).dt.year != dic_df[2013][\"anio recaudacion\"]\n",
    "df_filtro = dic_df[2013][filtro]\n",
    "df_filtro.head(1)"
   ]
  },
  {
   "cell_type": "code",
   "execution_count": 149,
   "metadata": {},
   "outputs": [
    {
     "data": {
      "text/html": [
       "<div>\n",
       "<style scoped>\n",
       "    .dataframe tbody tr th:only-of-type {\n",
       "        vertical-align: middle;\n",
       "    }\n",
       "\n",
       "    .dataframe tbody tr th {\n",
       "        vertical-align: top;\n",
       "    }\n",
       "\n",
       "    .dataframe thead th {\n",
       "        text-align: right;\n",
       "    }\n",
       "</style>\n",
       "<table border=\"1\" class=\"dataframe\">\n",
       "  <thead>\n",
       "    <tr style=\"text-align: right;\">\n",
       "      <th></th>\n",
       "      <th>id organizacion superior</th>\n",
       "      <th>organizacion superior</th>\n",
       "      <th>id organizacion</th>\n",
       "      <th>organizacion</th>\n",
       "      <th>id unidad gestora</th>\n",
       "      <th>unidad gestora</th>\n",
       "      <th>categoria economica</th>\n",
       "      <th>origen ingreso</th>\n",
       "      <th>tipo ingreso</th>\n",
       "      <th>detalles</th>\n",
       "      <th>valor previsto</th>\n",
       "      <th>valor registrado</th>\n",
       "      <th>valor recaudado</th>\n",
       "      <th>porcentaje recaudado</th>\n",
       "      <th>fecha recaudacion</th>\n",
       "      <th>anio recaudacion</th>\n",
       "    </tr>\n",
       "  </thead>\n",
       "  <tbody>\n",
       "    <tr>\n",
       "      <th>115</th>\n",
       "      <td>22000.0</td>\n",
       "      <td>NaN</td>\n",
       "      <td>22905.0</td>\n",
       "      <td>Fundo de Defesa da Economia Cafeeira</td>\n",
       "      <td>130137.0</td>\n",
       "      <td>NaN</td>\n",
       "      <td>Receitas Correntes</td>\n",
       "      <td>Outras Receitas Correntes</td>\n",
       "      <td>Indenizações, restituições e ressarcimentos</td>\n",
       "      <td>RESTITUICOES DE CONVENIOS</td>\n",
       "      <td>0,00</td>\n",
       "      <td>0,00</td>\n",
       "      <td>40472,45</td>\n",
       "      <td>0,00</td>\n",
       "      <td>NaT</td>\n",
       "      <td>NaN</td>\n",
       "    </tr>\n",
       "  </tbody>\n",
       "</table>\n",
       "</div>"
      ],
      "text/plain": [
       "     id organizacion superior organizacion superior  id organizacion  \\\n",
       "115                   22000.0                   NaN          22905.0   \n",
       "\n",
       "                             organizacion  id unidad gestora unidad gestora  \\\n",
       "115  Fundo de Defesa da Economia Cafeeira           130137.0            NaN   \n",
       "\n",
       "    categoria economica             origen ingreso  \\\n",
       "115  Receitas Correntes  Outras Receitas Correntes   \n",
       "\n",
       "                                    tipo ingreso                   detalles  \\\n",
       "115  Indenizações, restituições e ressarcimentos  RESTITUICOES DE CONVENIOS   \n",
       "\n",
       "    valor previsto valor registrado valor recaudado porcentaje recaudado  \\\n",
       "115           0,00             0,00        40472,45                 0,00   \n",
       "\n",
       "    fecha recaudacion  anio recaudacion  \n",
       "115               NaT               NaN  "
      ]
     },
     "execution_count": 149,
     "metadata": {},
     "output_type": "execute_result"
    }
   ],
   "source": [
    "dic_df[2013][dic_df[2013][\"anio recaudacion\"].isnull() & dic_df[2013][\"fecha recaudacion\"].isnull()].head(1)"
   ]
  },
  {
   "cell_type": "code",
   "execution_count": 150,
   "metadata": {},
   "outputs": [
    {
     "name": "stdout",
     "output_type": "stream",
     "text": [
      "[  nan 2013.]\n",
      "[2014.   nan]\n",
      "[2015.   nan]\n",
      "[2016.   nan]\n",
      "[2017.   nan]\n",
      "[  nan 2018.]\n",
      "[2019.   nan]\n",
      "[2020.   nan]\n",
      "[2021.   nan]\n"
     ]
    }
   ],
   "source": [
    "for elem in lista_anios:\n",
    "    print(dic_df[elem][\"anio recaudacion\"].unique())"
   ]
  },
  {
   "cell_type": "code",
   "execution_count": 151,
   "metadata": {},
   "outputs": [],
   "source": [
    "for anio in lista_anios:\n",
    "    dic_df[anio][\"anio recaudacion\"]=dic_df[anio][\"anio recaudacion\"].fillna(anio)"
   ]
  },
  {
   "cell_type": "code",
   "execution_count": 152,
   "metadata": {},
   "outputs": [
    {
     "name": "stdout",
     "output_type": "stream",
     "text": [
      "[2013.]\n",
      "[2014.]\n",
      "[2015.]\n",
      "[2016.]\n",
      "[2017.]\n",
      "[2018.]\n",
      "[2019.]\n",
      "[2020.]\n",
      "[2021.]\n"
     ]
    }
   ],
   "source": [
    "for elem in lista_anios:\n",
    "  print(dic_df[elem][\"anio recaudacion\"].unique())"
   ]
  },
  {
   "cell_type": "markdown",
   "metadata": {},
   "source": [
    "---------------------------"
   ]
  },
  {
   "cell_type": "markdown",
   "metadata": {},
   "source": [
    "Se observó antes que los tipos de columnas numércicas como son, valor previsto, registrado y recaudado son de tipo object cuano deberían ser un float,cambiaremos los valores a float."
   ]
  },
  {
   "cell_type": "code",
   "execution_count": 153,
   "metadata": {},
   "outputs": [
    {
     "name": "stdout",
     "output_type": "stream",
     "text": [
      "\n",
      "2013\n",
      "valor previsto          object\n",
      "valor registrado        object\n",
      "valor recaudado         object\n",
      "porcentaje recaudado    object\n",
      "dtype: object\n",
      "\n",
      "2014\n",
      "valor previsto          object\n",
      "valor registrado        object\n",
      "valor recaudado         object\n",
      "porcentaje recaudado    object\n",
      "dtype: object\n",
      "\n",
      "2015\n",
      "valor previsto          object\n",
      "valor registrado        object\n",
      "valor recaudado         object\n",
      "porcentaje recaudado    object\n",
      "dtype: object\n",
      "\n",
      "2016\n",
      "valor previsto          object\n",
      "valor registrado        object\n",
      "valor recaudado         object\n",
      "porcentaje recaudado    object\n",
      "dtype: object\n",
      "\n",
      "2017\n",
      "valor previsto          object\n",
      "valor registrado        object\n",
      "valor recaudado         object\n",
      "porcentaje recaudado    object\n",
      "dtype: object\n",
      "\n",
      "2018\n",
      "valor previsto          object\n",
      "valor registrado        object\n",
      "valor recaudado         object\n",
      "porcentaje recaudado    object\n",
      "dtype: object\n",
      "\n",
      "2019\n",
      "valor previsto          object\n",
      "valor registrado        object\n",
      "valor recaudado         object\n",
      "porcentaje recaudado    object\n",
      "dtype: object\n",
      "\n",
      "2020\n",
      "valor previsto          object\n",
      "valor registrado        object\n",
      "valor recaudado         object\n",
      "porcentaje recaudado    object\n",
      "dtype: object\n",
      "\n",
      "2021\n",
      "valor previsto          object\n",
      "valor registrado        object\n",
      "valor recaudado         object\n",
      "porcentaje recaudado    object\n",
      "dtype: object\n"
     ]
    }
   ],
   "source": [
    "for anio in lista_anios:\n",
    "    print(f\"\\n{anio}\")\n",
    "    print(dic_df[anio][[\"valor previsto\", \"valor registrado\", \"valor recaudado\", \"porcentaje recaudado\"]].dtypes)"
   ]
  },
  {
   "cell_type": "code",
   "execution_count": 154,
   "metadata": {},
   "outputs": [],
   "source": [
    "# Para convertirlo a float primero tenemos que sustituir la coma por un punto\n",
    "columnas = [\"valor previsto\", \"valor registrado\", \"valor recaudado\", \"porcentaje recaudado\"]\n",
    "\n",
    "for anio in lista_anios:\n",
    "    for columna in columnas: \n",
    "        dic_df[anio][columna]=dic_df[anio][columna].str.replace(\",\", \".\")"
   ]
  },
  {
   "cell_type": "code",
   "execution_count": 155,
   "metadata": {},
   "outputs": [
    {
     "data": {
      "text/plain": [
       "valor previsto          object\n",
       "valor registrado        object\n",
       "valor recaudado         object\n",
       "porcentaje recaudado    object\n",
       "dtype: object"
      ]
     },
     "execution_count": 155,
     "metadata": {},
     "output_type": "execute_result"
    }
   ],
   "source": [
    "dic_df[2021][[\"valor previsto\", \"valor registrado\", \"valor recaudado\", \"porcentaje recaudado\"]].dtypes"
   ]
  },
  {
   "cell_type": "code",
   "execution_count": 156,
   "metadata": {},
   "outputs": [],
   "source": [
    "# Convertimos las columnas a tipo float\n",
    "columnas = [\"valor previsto\", \"valor registrado\", \"valor recaudado\", \"porcentaje recaudado\"]\n",
    "for anio in lista_anios:\n",
    "    for column in columnas:\n",
    "        dic_df[anio][column]=dic_df[anio][column].astype(float)"
   ]
  },
  {
   "cell_type": "code",
   "execution_count": 157,
   "metadata": {},
   "outputs": [
    {
     "name": "stdout",
     "output_type": "stream",
     "text": [
      "valor previsto          float64\n",
      "valor registrado        float64\n",
      "valor recaudado         float64\n",
      "porcentaje recaudado    float64\n",
      "dtype: object\n",
      "valor previsto          float64\n",
      "valor registrado        float64\n",
      "valor recaudado         float64\n",
      "porcentaje recaudado    float64\n",
      "dtype: object\n",
      "valor previsto          float64\n",
      "valor registrado        float64\n",
      "valor recaudado         float64\n",
      "porcentaje recaudado    float64\n",
      "dtype: object\n",
      "valor previsto          float64\n",
      "valor registrado        float64\n",
      "valor recaudado         float64\n",
      "porcentaje recaudado    float64\n",
      "dtype: object\n",
      "valor previsto          float64\n",
      "valor registrado        float64\n",
      "valor recaudado         float64\n",
      "porcentaje recaudado    float64\n",
      "dtype: object\n",
      "valor previsto          float64\n",
      "valor registrado        float64\n",
      "valor recaudado         float64\n",
      "porcentaje recaudado    float64\n",
      "dtype: object\n",
      "valor previsto          float64\n",
      "valor registrado        float64\n",
      "valor recaudado         float64\n",
      "porcentaje recaudado    float64\n",
      "dtype: object\n",
      "valor previsto          float64\n",
      "valor registrado        float64\n",
      "valor recaudado         float64\n",
      "porcentaje recaudado    float64\n",
      "dtype: object\n",
      "valor previsto          float64\n",
      "valor registrado        float64\n",
      "valor recaudado         float64\n",
      "porcentaje recaudado    float64\n",
      "dtype: object\n"
     ]
    }
   ],
   "source": [
    "for anio in lista_anios:\n",
    "    print(dic_df[anio][[\"valor previsto\", \"valor registrado\", \"valor recaudado\", \"porcentaje recaudado\"]].dtypes)"
   ]
  },
  {
   "cell_type": "markdown",
   "metadata": {},
   "source": [
    "Todas las columnas numéricas de las tablas han sido satisfactoriamente convertidas a float."
   ]
  },
  {
   "cell_type": "markdown",
   "metadata": {},
   "source": [
    "Explorando estos datos para hacer la conversión me he fijado en que algunos valores estaban a 0 de forma recurrente, indaguemos un poco más en esto."
   ]
  },
  {
   "cell_type": "code",
   "execution_count": 158,
   "metadata": {},
   "outputs": [
    {
     "name": "stdout",
     "output_type": "stream",
     "text": [
      "\n",
      "2013\n",
      "valor previsto\n",
      "  34.37083148065807\n",
      "valor registrado\n",
      "  94.086260560249\n",
      "valor recaudado\n",
      "  15.073365940417963\n",
      "\n",
      "2014\n",
      "valor previsto\n",
      "  35.95431583571272\n",
      "valor registrado\n",
      "  94.57500549088513\n",
      "valor recaudado\n",
      "  15.506259609048978\n",
      "\n",
      "2015\n",
      "valor previsto\n",
      "  37.453017908467835\n",
      "valor registrado\n",
      "  95.06964404156534\n",
      "valor recaudado\n",
      "  14.8352863143931\n",
      "\n",
      "2016\n",
      "valor previsto\n",
      "  94.06784453023394\n",
      "valor registrado\n",
      "  96.59492219829026\n",
      "valor recaudado\n",
      "  1.4845810222430127\n",
      "\n",
      "2017\n",
      "valor previsto\n",
      "  94.0576126502134\n",
      "valor registrado\n",
      "  95.08974742622547\n",
      "valor recaudado\n",
      "  1.4132791541324765\n",
      "\n",
      "2018\n",
      "valor previsto\n",
      "  93.96874856275583\n",
      "valor registrado\n",
      "  97.35834521455182\n",
      "valor recaudado\n",
      "  1.4930092443545049\n",
      "\n",
      "2019\n",
      "valor previsto\n",
      "  94.00151559707739\n",
      "valor registrado\n",
      "  96.72676272988441\n",
      "valor recaudado\n",
      "  1.68695003053815\n",
      "\n",
      "2020\n",
      "valor previsto\n",
      "  93.663416416107\n",
      "valor registrado\n",
      "  97.36771854890831\n",
      "valor recaudado\n",
      "  2.6147188580099474\n",
      "\n",
      "2021\n",
      "valor previsto\n",
      "  93.6913509617885\n",
      "valor registrado\n",
      "  98.05487655375836\n",
      "valor recaudado\n",
      "  2.439948585736257\n"
     ]
    }
   ],
   "source": [
    "columnas = [\"valor previsto\", \"valor registrado\", \"valor recaudado\"]\n",
    "for anio in lista_anios:\n",
    "    print(f\"\\n{anio}\")\n",
    "    for columna in columnas:\n",
    "        print(columna)\n",
    "        print(f\"  {(dic_df[anio][columna].value_counts()/dic_df[anio].shape[0]*100)[0]}\")"
   ]
  },
  {
   "cell_type": "markdown",
   "metadata": {},
   "source": [
    "Estas columnas son de vital importancia ya que reflejan cuando dinero se preve obtener, cuanto se ha regitrado y cuanto se ha recaudado, por lo que ver tantos datos a 0 indica un grave problema burocrático a la hora de llevar las cuentas. Estos valores a 0 se gestionarán en el próximo notebook."
   ]
  },
  {
   "cell_type": "markdown",
   "metadata": {},
   "source": [
    "________________"
   ]
  },
  {
   "cell_type": "markdown",
   "metadata": {},
   "source": [
    "Procedemos a unir las tablas y asi trabajar sobre una única tabla. Los nombres de las columnas y su formato es homogéneo por lo que podemos proceder a la concatenación, método seleccionado ya que cada tabla tiene las mismas columnas y la única opción con sentido es unir las tablas una debajo de otra."
   ]
  },
  {
   "cell_type": "code",
   "execution_count": 159,
   "metadata": {},
   "outputs": [
    {
     "name": "stdout",
     "output_type": "stream",
     "text": [
      "id organizacion superior           float64\n",
      "organizacion superior               object\n",
      "id organizacion                    float64\n",
      "organizacion                        object\n",
      "id unidad gestora                  float64\n",
      "unidad gestora                      object\n",
      "categoria economica                 object\n",
      "origen ingreso                      object\n",
      "tipo ingreso                        object\n",
      "detalles                            object\n",
      "valor previsto                     float64\n",
      "valor registrado                   float64\n",
      "valor recaudado                    float64\n",
      "porcentaje recaudado               float64\n",
      "fecha recaudacion           datetime64[ns]\n",
      "anio recaudacion                   float64\n",
      "dtype: object\n",
      "id organizacion superior           float64\n",
      "organizacion superior               object\n",
      "id organizacion                    float64\n",
      "organizacion                        object\n",
      "id unidad gestora                  float64\n",
      "unidad gestora                      object\n",
      "categoria economica                 object\n",
      "origen ingreso                      object\n",
      "tipo ingreso                        object\n",
      "detalles                            object\n",
      "valor previsto                     float64\n",
      "valor registrado                   float64\n",
      "valor recaudado                    float64\n",
      "porcentaje recaudado               float64\n",
      "fecha recaudacion           datetime64[ns]\n",
      "anio recaudacion                   float64\n",
      "dtype: object\n",
      "id organizacion superior           float64\n",
      "organizacion superior               object\n",
      "id organizacion                    float64\n",
      "organizacion                        object\n",
      "id unidad gestora                  float64\n",
      "unidad gestora                      object\n",
      "categoria economica                 object\n",
      "origen ingreso                      object\n",
      "tipo ingreso                        object\n",
      "detalles                            object\n",
      "valor previsto                     float64\n",
      "valor registrado                   float64\n",
      "valor recaudado                    float64\n",
      "porcentaje recaudado               float64\n",
      "fecha recaudacion           datetime64[ns]\n",
      "anio recaudacion                   float64\n",
      "dtype: object\n",
      "id organizacion superior    float64\n",
      "organizacion superior        object\n",
      "id organizacion             float64\n",
      "organizacion                 object\n",
      "id unidad gestora           float64\n",
      "unidad gestora               object\n",
      "categoria economica          object\n",
      "origen ingreso               object\n",
      "tipo ingreso                 object\n",
      "detalles                     object\n",
      "valor previsto              float64\n",
      "valor registrado            float64\n",
      "valor recaudado             float64\n",
      "porcentaje recaudado        float64\n",
      "fecha recaudacion            object\n",
      "anio recaudacion            float64\n",
      "dtype: object\n",
      "id organizacion superior           float64\n",
      "organizacion superior               object\n",
      "id organizacion                    float64\n",
      "organizacion                        object\n",
      "id unidad gestora                  float64\n",
      "unidad gestora                      object\n",
      "categoria economica                 object\n",
      "origen ingreso                      object\n",
      "tipo ingreso                        object\n",
      "detalles                            object\n",
      "valor previsto                     float64\n",
      "valor registrado                   float64\n",
      "valor recaudado                    float64\n",
      "porcentaje recaudado               float64\n",
      "fecha recaudacion           datetime64[ns]\n",
      "anio recaudacion                   float64\n",
      "dtype: object\n",
      "id organizacion superior           float64\n",
      "organizacion superior               object\n",
      "id organizacion                    float64\n",
      "organizacion                        object\n",
      "id unidad gestora                  float64\n",
      "unidad gestora                      object\n",
      "categoria economica                 object\n",
      "origen ingreso                      object\n",
      "tipo ingreso                        object\n",
      "detalles                            object\n",
      "valor previsto                     float64\n",
      "valor registrado                   float64\n",
      "valor recaudado                    float64\n",
      "porcentaje recaudado               float64\n",
      "fecha recaudacion           datetime64[ns]\n",
      "anio recaudacion                   float64\n",
      "dtype: object\n",
      "id organizacion superior    float64\n",
      "organizacion superior        object\n",
      "id organizacion             float64\n",
      "organizacion                 object\n",
      "id unidad gestora           float64\n",
      "unidad gestora               object\n",
      "categoria economica          object\n",
      "origen ingreso               object\n",
      "tipo ingreso                 object\n",
      "detalles                     object\n",
      "valor previsto              float64\n",
      "valor registrado            float64\n",
      "valor recaudado             float64\n",
      "porcentaje recaudado        float64\n",
      "fecha recaudacion            object\n",
      "anio recaudacion            float64\n",
      "dtype: object\n",
      "id organizacion superior           float64\n",
      "organizacion superior               object\n",
      "id organizacion                    float64\n",
      "organizacion                        object\n",
      "id unidad gestora                  float64\n",
      "unidad gestora                      object\n",
      "categoria economica                 object\n",
      "origen ingreso                      object\n",
      "tipo ingreso                        object\n",
      "detalles                            object\n",
      "valor previsto                     float64\n",
      "valor registrado                   float64\n",
      "valor recaudado                    float64\n",
      "porcentaje recaudado               float64\n",
      "fecha recaudacion           datetime64[ns]\n",
      "anio recaudacion                   float64\n",
      "dtype: object\n",
      "id organizacion superior           float64\n",
      "organizacion superior               object\n",
      "id organizacion                    float64\n",
      "organizacion                        object\n",
      "id unidad gestora                  float64\n",
      "unidad gestora                      object\n",
      "categoria economica                 object\n",
      "origen ingreso                      object\n",
      "tipo ingreso                        object\n",
      "detalles                            object\n",
      "valor previsto                     float64\n",
      "valor registrado                   float64\n",
      "valor recaudado                    float64\n",
      "porcentaje recaudado               float64\n",
      "fecha recaudacion           datetime64[ns]\n",
      "anio recaudacion                   float64\n",
      "dtype: object\n"
     ]
    }
   ],
   "source": [
    "for anio in lista_anios:\n",
    "    print(dic_df[anio].dtypes)"
   ]
  },
  {
   "cell_type": "code",
   "execution_count": 160,
   "metadata": {},
   "outputs": [],
   "source": [
    "lista_df=[]\n",
    "for anio in lista_anios:\n",
    "    lista_df.append(dic_df[anio])"
   ]
  },
  {
   "cell_type": "code",
   "execution_count": 161,
   "metadata": {},
   "outputs": [
    {
     "data": {
      "text/plain": [
       "1026299"
      ]
     },
     "execution_count": 161,
     "metadata": {},
     "output_type": "execute_result"
    }
   ],
   "source": [
    "suma = 0\n",
    "for anio in lista_anios:\n",
    "    suma += dic_df[anio].shape[0]\n",
    "suma"
   ]
  },
  {
   "cell_type": "code",
   "execution_count": 162,
   "metadata": {},
   "outputs": [
    {
     "data": {
      "text/plain": [
       "(1026299, 16)"
      ]
     },
     "execution_count": 162,
     "metadata": {},
     "output_type": "execute_result"
    }
   ],
   "source": [
    "df_concat = pd.concat(lista_df, axis=0, ignore_index = True)\n",
    "df_concat.shape\n"
   ]
  },
  {
   "cell_type": "markdown",
   "metadata": {},
   "source": [
    "Comprobamos satisfactoriamente que la concatenación se ha realizado comprobando que el número de filas totales es la suma de las filas de cada tabla. Eliminamos filas duplicadas, pasamos la fecha a formato date, elminamoscolumnas innecesarias y guardamos a nuestro pequeño monstruo en un nuevo csv."
   ]
  },
  {
   "cell_type": "code",
   "execution_count": 163,
   "metadata": {},
   "outputs": [],
   "source": [
    "df_concat.drop_duplicates(inplace=True)"
   ]
  },
  {
   "cell_type": "code",
   "execution_count": 164,
   "metadata": {},
   "outputs": [
    {
     "data": {
      "text/plain": [
       "(1026214, 16)"
      ]
     },
     "execution_count": 164,
     "metadata": {},
     "output_type": "execute_result"
    }
   ],
   "source": [
    "df_concat.shape"
   ]
  },
  {
   "cell_type": "code",
   "execution_count": 165,
   "metadata": {},
   "outputs": [
    {
     "data": {
      "text/plain": [
       "id organizacion superior    float64\n",
       "organizacion superior        object\n",
       "id organizacion             float64\n",
       "organizacion                 object\n",
       "id unidad gestora           float64\n",
       "unidad gestora               object\n",
       "categoria economica          object\n",
       "origen ingreso               object\n",
       "tipo ingreso                 object\n",
       "detalles                     object\n",
       "valor previsto              float64\n",
       "valor registrado            float64\n",
       "valor recaudado             float64\n",
       "porcentaje recaudado        float64\n",
       "fecha recaudacion            object\n",
       "anio recaudacion            float64\n",
       "dtype: object"
      ]
     },
     "execution_count": 165,
     "metadata": {},
     "output_type": "execute_result"
    }
   ],
   "source": [
    "df_concat.dtypes"
   ]
  },
  {
   "cell_type": "code",
   "execution_count": 166,
   "metadata": {},
   "outputs": [],
   "source": [
    "df_concat[\"fecha recaudacion\"]= pd.to_datetime(df_concat[\"fecha recaudacion\"])"
   ]
  },
  {
   "cell_type": "code",
   "execution_count": 167,
   "metadata": {},
   "outputs": [
    {
     "data": {
      "text/plain": [
       "id organizacion superior           float64\n",
       "organizacion superior               object\n",
       "id organizacion                    float64\n",
       "organizacion                        object\n",
       "id unidad gestora                  float64\n",
       "unidad gestora                      object\n",
       "categoria economica                 object\n",
       "origen ingreso                      object\n",
       "tipo ingreso                        object\n",
       "detalles                            object\n",
       "valor previsto                     float64\n",
       "valor registrado                   float64\n",
       "valor recaudado                    float64\n",
       "porcentaje recaudado               float64\n",
       "fecha recaudacion           datetime64[ns]\n",
       "anio recaudacion                   float64\n",
       "dtype: object"
      ]
     },
     "execution_count": 167,
     "metadata": {},
     "output_type": "execute_result"
    }
   ],
   "source": [
    "df_concat.dtypes"
   ]
  },
  {
   "cell_type": "code",
   "execution_count": 168,
   "metadata": {},
   "outputs": [],
   "source": [
    "df_concat.drop(\"detalles\", axis = 1, inplace = True) #Columnna inecesaria por lo que la quitamos"
   ]
  },
  {
   "cell_type": "code",
   "execution_count": 169,
   "metadata": {},
   "outputs": [
    {
     "data": {
      "text/plain": [
       "Index(['id organizacion superior', 'organizacion superior', 'id organizacion',\n",
       "       'organizacion', 'id unidad gestora', 'unidad gestora',\n",
       "       'categoria economica', 'origen ingreso', 'tipo ingreso',\n",
       "       'valor previsto', 'valor registrado', 'valor recaudado',\n",
       "       'porcentaje recaudado', 'fecha recaudacion', 'anio recaudacion'],\n",
       "      dtype='object')"
      ]
     },
     "execution_count": 169,
     "metadata": {},
     "output_type": "execute_result"
    }
   ],
   "source": [
    "df_concat.columns"
   ]
  },
  {
   "cell_type": "code",
   "execution_count": 170,
   "metadata": {},
   "outputs": [],
   "source": [
    "df_concat.to_csv(\"../datos/tablas_concatenadas.csv\")"
   ]
  },
  {
   "cell_type": "code",
   "execution_count": 171,
   "metadata": {},
   "outputs": [
    {
     "data": {
      "text/plain": [
       "id organizacion superior     30359\n",
       "organizacion superior       359187\n",
       "id organizacion              25117\n",
       "organizacion                 34886\n",
       "id unidad gestora            33581\n",
       "unidad gestora               19481\n",
       "categoria economica          18978\n",
       "origen ingreso               38417\n",
       "tipo ingreso                 31927\n",
       "valor previsto               51315\n",
       "valor registrado             26419\n",
       "valor recaudado              39442\n",
       "porcentaje recaudado         24134\n",
       "fecha recaudacion            23747\n",
       "anio recaudacion                 0\n",
       "dtype: int64"
      ]
     },
     "execution_count": 171,
     "metadata": {},
     "output_type": "execute_result"
    }
   ],
   "source": [
    "df_concat.isnull().sum()"
   ]
  }
 ],
 "metadata": {
  "kernelspec": {
   "display_name": "Python 3",
   "language": "python",
   "name": "python3"
  },
  "language_info": {
   "codemirror_mode": {
    "name": "ipython",
    "version": 3
   },
   "file_extension": ".py",
   "mimetype": "text/x-python",
   "name": "python",
   "nbconvert_exporter": "python",
   "pygments_lexer": "ipython3",
   "version": "3.11.9"
  }
 },
 "nbformat": 4,
 "nbformat_minor": 2
}
